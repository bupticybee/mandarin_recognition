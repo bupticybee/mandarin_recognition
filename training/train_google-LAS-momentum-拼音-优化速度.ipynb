{
 "cells": [
  {
   "cell_type": "markdown",
   "metadata": {},
   "source": [
    "# try to implement  \n",
    "## \"Towards End-to-End Speech Recognition with Deep Convolutional Neural Networks\""
   ]
  },
  {
   "cell_type": "code",
   "execution_count": 1,
   "metadata": {
    "collapsed": false
   },
   "outputs": [
    {
     "name": "stdout",
     "output_type": "stream",
     "text": [
      "Mon Feb 26 11:59:40 2018       \n",
      "+-----------------------------------------------------------------------------+\n",
      "| NVIDIA-SMI 384.111                Driver Version: 384.111                   |\n",
      "|-------------------------------+----------------------+----------------------+\n",
      "| GPU  Name        Persistence-M| Bus-Id        Disp.A | Volatile Uncorr. ECC |\n",
      "| Fan  Temp  Perf  Pwr:Usage/Cap|         Memory-Usage | GPU-Util  Compute M. |\n",
      "|===============================+======================+======================|\n",
      "|   0  Tesla K80           Off  | 00000000:04:00.0 Off |                    0 |\n",
      "| N/A   37C    P0    59W / 149W |   1309MiB / 11439MiB |     13%      Default |\n",
      "+-------------------------------+----------------------+----------------------+\n",
      "|   1  Tesla K80           Off  | 00000000:05:00.0 Off |                    0 |\n",
      "| N/A   31C    P0    71W / 149W |    212MiB / 11439MiB |      0%      Default |\n",
      "+-------------------------------+----------------------+----------------------+\n",
      "|   2  Tesla K80           Off  | 00000000:08:00.0 Off |                    0 |\n",
      "| N/A   59C    P0   133W / 149W |   8493MiB / 11439MiB |     83%      Default |\n",
      "+-------------------------------+----------------------+----------------------+\n",
      "|   3  Tesla K80           Off  | 00000000:09:00.0 Off |                    0 |\n",
      "| N/A   45C    P0   137W / 149W |   8495MiB / 11439MiB |     81%      Default |\n",
      "+-------------------------------+----------------------+----------------------+\n",
      "|   4  Tesla K80           Off  | 00000000:85:00.0 Off |                    0 |\n",
      "| N/A   39C    P0    60W / 149W |   7448MiB / 11439MiB |      0%      Default |\n",
      "+-------------------------------+----------------------+----------------------+\n",
      "|   5  Tesla K80           Off  | 00000000:86:00.0 Off |                    0 |\n",
      "| N/A   31C    P0    72W / 149W |   5400MiB / 11439MiB |      0%      Default |\n",
      "+-------------------------------+----------------------+----------------------+\n",
      "|   6  Tesla K80           Off  | 00000000:89:00.0 Off |                    0 |\n",
      "| N/A   37C    P0    62W / 149W |   5144MiB / 11439MiB |      0%      Default |\n",
      "+-------------------------------+----------------------+----------------------+\n",
      "|   7  Tesla K80           Off  | 00000000:8A:00.0 Off |                    0 |\n",
      "| N/A   31C    P0    73W / 149W |   6808MiB / 11439MiB |      0%      Default |\n",
      "+-------------------------------+----------------------+----------------------+\n"
     ]
    }
   ],
   "source": [
    "!nvidia-smi | head -n 31"
   ]
  },
  {
   "cell_type": "code",
   "execution_count": 2,
   "metadata": {
    "collapsed": true
   },
   "outputs": [],
   "source": [
    "SAMPLE_RATE = 16000\n",
    "WINDOW_SIZE = .02\n",
    "WINDOW_STRIDE = .01\n",
    "WINDOW = 'hamming'\n",
    "\n",
    "HIDDEN_LAYERS = 4\n",
    "#RNN_TYPE = supported_rnns['gru']\n",
    "BIDIRECTIONAL = True\n",
    "\n",
    "BEGINING_LEARNING_RATE = 3e-5\n",
    "MOMENTUM = 0.9\n",
    "MAX_NORM = 3\n",
    "#LABELS = ''.join(data_utils.LABELS)\n",
    "BATCH_SIZE = 32\n",
    "\n",
    "GPU_CORES = ['/gpu:0','/gpu:1']\n",
    "gpu_num = len(GPU_CORES)\n",
    "#REMOTE_WORKER = \"grpc://10.109.246.8:2222\"\n",
    "RNN_SIZE = 256#768\n",
    "DROPOUT = 0.2\n",
    "MODEL_NAME = \"2_26-LAS-opt\"\n",
    "OUTPUT_MAX_LENGTH = 300\n",
    "#audio_conf = dict(sample_rate=SAMPLE_RATE,\n",
    "#                  window_size=WINDOW_SIZE,\n",
    "#                  window_stride=WINDOW_STRIDE,\n",
    "#                  window=WINDOW,\n",
    "#                )"
   ]
  },
  {
   "cell_type": "code",
   "execution_count": 3,
   "metadata": {
    "collapsed": true
   },
   "outputs": [],
   "source": [
    "#import os\n",
    "#os.environ[\"CUDA_VISIBLE_DEVICES\"] = \",\".join([str(i) for i in GPU_CORES])"
   ]
  },
  {
   "cell_type": "code",
   "execution_count": 4,
   "metadata": {
    "collapsed": false
   },
   "outputs": [],
   "source": [
    "%load_ext autoreload\n",
    "%autoreload 2\n",
    "import sys\n",
    "sys.path.append('../common/')\n",
    "import data_utils\n",
    "import utils\n",
    "from utils import Dataset,ProgressBar\n",
    "import editdistance as eds\n",
    "import tflearn\n",
    "from tflearn.data_flow import DataFlow,DataFlowStatus,FeedDictFlow\n",
    "#from model import DeepSpeech,supported_rnns\n",
    "from matplotlib import pyplot as plt\n",
    "%matplotlib inline\n",
    "import numpy as np\n",
    "import tensorflow as tf\n",
    "from tensorflow.python.layers import core as layers_core\n",
    "#import sugartensor as tf\n",
    "import re\n",
    "import pypinyin\n",
    "from pypinyin import pinyin, lazy_pinyin, Style\n",
    "import time"
   ]
  },
  {
   "cell_type": "code",
   "execution_count": 5,
   "metadata": {
    "collapsed": false
   },
   "outputs": [
    {
     "data": {
      "text/plain": [
       "6"
      ]
     },
     "execution_count": 5,
     "metadata": {},
     "output_type": "execute_result"
    }
   ],
   "source": [
    "np.zeros([3,2]).size"
   ]
  },
  {
   "cell_type": "markdown",
   "metadata": {
    "collapsed": true
   },
   "source": [
    "## The implemention of pytorch's DataLoader is not competiable with tflearn's DataFlow\n",
    "```python\n",
    "train_loader = data_utils.AudioDataLoader(\n",
    "    data_utils.SpectrogramDataset(manifest_filepath='./data/ted_train_manifest_fix.csv')\n",
    "    ,batch_size=16,shuffle=True)\n",
    "\n",
    "test_loader = data_utils.AudioDataLoader(\n",
    "    data_utils.SpectrogramDataset(manifest_filepath='./data/ted_test_manifest_fix.csv')\n",
    "    ,batch_size=16,shuffle=True)\n",
    "```"
   ]
  },
  {
   "cell_type": "code",
   "execution_count": 6,
   "metadata": {
    "collapsed": true
   },
   "outputs": [],
   "source": [
    "import pickle\n",
    "with open('../data/dics.pkl','rb') as fhdl:\n",
    "    ch2ind,ind2ch = pickle.load(fhdl)"
   ]
  },
  {
   "cell_type": "code",
   "execution_count": 7,
   "metadata": {
    "collapsed": true
   },
   "outputs": [],
   "source": [
    "with open('../data/pinyins.pkl','rb') as whdl:\n",
    "    py2ind,ind2py = pickle.load(whdl)"
   ]
  },
  {
   "cell_type": "code",
   "execution_count": 8,
   "metadata": {
    "collapsed": false
   },
   "outputs": [],
   "source": [
    "py2ind['<go>'] = len(py2ind)\n",
    "ind2py[len(ind2py)] = '<go>'\n",
    "\n",
    "py2ind['<eos>'] = len(py2ind)\n",
    "ind2py[len(ind2py)] = '<eos>'"
   ]
  },
  {
   "cell_type": "code",
   "execution_count": 9,
   "metadata": {
    "collapsed": true
   },
   "outputs": [],
   "source": [
    "import flow_tools"
   ]
  },
  {
   "cell_type": "code",
   "execution_count": 10,
   "metadata": {
    "collapsed": true
   },
   "outputs": [],
   "source": [
    "ch2py = lambda x:\" \".join([i[0] for i in pinyin(x)])"
   ]
  },
  {
   "cell_type": "markdown",
   "metadata": {},
   "source": [
    "# CONFIG"
   ]
  },
  {
   "cell_type": "code",
   "execution_count": 11,
   "metadata": {
    "collapsed": false
   },
   "outputs": [],
   "source": [
    "#voice_dataset_train = data_utils.VoicesFlow(manifest_filepath='./data/ted_train_manifest_fix.csv')\n",
    "#voice_flow_train = data_utils.get_flow(voice_dataset_train,shuffle=True,batch_size=BATCH_SIZE)\n",
    "#\n",
    "#voice_dataset_test = data_utils.VoicesFlow(manifest_filepath='./data/ted_test_manifest_fix.csv')\n",
    "#voice_flow_test = data_utils.get_flow(voice_dataset_test,shuffle=False,batch_size=BATCH_SIZE)\n",
    "\n",
    "voice_dataset_train = data_utils.VoicesFlow(manifest_filepath='../data/csvs/train_len.csv',mfcc=False,phon=False,labels=list(ch2ind.keys()),ch2ind=ch2ind,ind2ch=ind2ch)#,phm_dict_file='./data/TEDLIUM_release1/TEDLIUM.150K.dic')\n",
    "voice_flow_train = utils.SortedEfficientFlowWrapper(voice_dataset_train,batch_size=BATCH_SIZE * gpu_num,shuffle=False)\n",
    "\n",
    "voice_dataset_test = data_utils.VoicesFlow(manifest_filepath='../data/csvs/dev_len.csv',mfcc=False,phon=False,labels=list(ch2ind.keys()),ch2ind=ch2ind,ind2ch=ind2ch)#,phm_dict_file='./data/TEDLIUM_release1/TEDLIUM.150K.dic')\n",
    "voice_flow_test = utils.SortedEfficientFlowWrapper(voice_dataset_test,batch_size=BATCH_SIZE * gpu_num,shuffle=False)"
   ]
  },
  {
   "cell_type": "code",
   "execution_count": 12,
   "metadata": {
    "collapsed": false
   },
   "outputs": [
    {
     "name": "stdout",
     "output_type": "stream",
     "text": [
      "shuffle\n",
      "shuffle\n"
     ]
    }
   ],
   "source": [
    "voice_flow_train_shu = utils.SortedEfficientFlowWrapper(voice_dataset_train,batch_size=BATCH_SIZE * gpu_num,shuffle=True)\n",
    "voice_flow_test_shu = utils.SortedEfficientFlowWrapper(voice_dataset_test,batch_size=BATCH_SIZE * gpu_num,shuffle=True)"
   ]
  },
  {
   "cell_type": "code",
   "execution_count": 13,
   "metadata": {
    "collapsed": true
   },
   "outputs": [],
   "source": [
    "import sys"
   ]
  },
  {
   "cell_type": "code",
   "execution_count": 14,
   "metadata": {
    "collapsed": false
   },
   "outputs": [
    {
     "data": {
      "text/plain": [
       "(119338, 14326)"
      ]
     },
     "execution_count": 14,
     "metadata": {},
     "output_type": "execute_result"
    }
   ],
   "source": [
    "len(voice_dataset_train),len(voice_dataset_test)"
   ]
  },
  {
   "cell_type": "code",
   "execution_count": 15,
   "metadata": {
    "collapsed": true
   },
   "outputs": [],
   "source": [
    "from utils import Dataset"
   ]
  },
  {
   "cell_type": "code",
   "execution_count": 16,
   "metadata": {
    "collapsed": false
   },
   "outputs": [
    {
     "data": {
      "text/plain": [
       "0.282259464263916"
      ]
     },
     "execution_count": 16,
     "metadata": {},
     "output_type": "execute_result"
    }
   ],
   "source": [
    "start = time.time()\n",
    "a,b,c,d,e = voice_flow_train.next_batch(BATCH_SIZE)\n",
    "time.time() - start"
   ]
  },
  {
   "cell_type": "code",
   "execution_count": 17,
   "metadata": {
    "collapsed": false
   },
   "outputs": [],
   "source": [
    "chstr = ''.join([ind2ch[i] for i in b[0]])"
   ]
  },
  {
   "cell_type": "code",
   "execution_count": 18,
   "metadata": {
    "collapsed": false
   },
   "outputs": [
    {
     "data": {
      "text/plain": [
       "('娱乐频道', [['yú'], ['lè'], ['pín'], ['dào']])"
      ]
     },
     "execution_count": 18,
     "metadata": {},
     "output_type": "execute_result"
    }
   ],
   "source": [
    "chstr,pinyin(chstr)"
   ]
  },
  {
   "cell_type": "code",
   "execution_count": 19,
   "metadata": {
    "collapsed": false
   },
   "outputs": [
    {
     "data": {
      "text/plain": [
       "(64, 161, 176, 1)"
      ]
     },
     "execution_count": 19,
     "metadata": {},
     "output_type": "execute_result"
    }
   ],
   "source": [
    "a.shape"
   ]
  },
  {
   "cell_type": "code",
   "execution_count": 20,
   "metadata": {
    "collapsed": false
   },
   "outputs": [
    {
     "name": "stdout",
     "output_type": "stream",
     "text": [
      "娱乐频道\n",
      "../data/data_aishell/wav_uncompress/train/S0141/BAC009S0141W0423.wav\n",
      "../data/transcript/BAC009S0141W0423.txt\n",
      "124\n"
     ]
    },
    {
     "data": {
      "image/png": "[encoded data removed]",
      "text/plain": [
       "<matplotlib.figure.Figure at 0x7f46d0a73518>"
      ]
     },
     "metadata": {},
     "output_type": "display_data"
    }
   ],
   "source": [
    "index = 0\n",
    "#plt.figure(figsize=(30,50))\n",
    "plt.imshow(a[index,:,:,0])\n",
    "plt.title(''.join(ind2ch[i] for i in b[index]))\n",
    "print(''.join(ind2ch[i] for i in b[index]))\n",
    "print(c[index])\n",
    "print(d[index])\n",
    "print(e[index])"
   ]
  },
  {
   "cell_type": "code",
   "execution_count": 21,
   "metadata": {
    "collapsed": true
   },
   "outputs": [],
   "source": [
    "import IPython.display as ipd"
   ]
  },
  {
   "cell_type": "code",
   "execution_count": 22,
   "metadata": {
    "collapsed": false
   },
   "outputs": [
    {
     "name": "stdout",
     "output_type": "stream",
     "text": [
      "娱乐频道\n"
     ]
    },
    {
     "data": {
      "text/html": [
       "\n",
       "                <audio controls=\"controls\" >\n",
       "                    <source src=\"data:audio/x-wav;base64,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\" type=\"audio/x-wav\" />\n",
       "                    Your browser does not support the audio element.\n",
       "                </audio>\n",
       "              "
      ],
      "text/plain": [
       "<IPython.lib.display.Audio object>"
      ]
     },
     "execution_count": 22,
     "metadata": {},
     "output_type": "execute_result"
    }
   ],
   "source": [
    "print(open(d[index],encoding='utf-8').read())\n",
    "ipd.Audio(c[index])"
   ]
  },
  {
   "cell_type": "code",
   "execution_count": 23,
   "metadata": {
    "collapsed": true
   },
   "outputs": [],
   "source": [
    "def chind2pyind(inputs):\n",
    "    out = []\n",
    "    for one in inputs:\n",
    "        sent = ''.join([ind2ch[i] for i in one])\n",
    "        outone = ch2py(sent)\n",
    "        oneoutind = [py2ind.get(i,0) for i in outone]\n",
    "        out.append(oneoutind)\n",
    "    return out"
   ]
  },
  {
   "cell_type": "code",
   "execution_count": 24,
   "metadata": {
    "collapsed": false
   },
   "outputs": [
    {
     "data": {
      "text/plain": [
       "'yú lè pín dào'"
      ]
     },
     "execution_count": 24,
     "metadata": {},
     "output_type": "execute_result"
    }
   ],
   "source": [
    "''.join([ind2py[i] for i in chind2pyind(b)[0]])"
   ]
  },
  {
   "cell_type": "markdown",
   "metadata": {},
   "source": [
    "# convert data to numpy format"
   ]
  },
  {
   "cell_type": "code",
   "execution_count": 25,
   "metadata": {
    "collapsed": false
   },
   "outputs": [
    {
     "data": {
      "text/plain": [
       "'1.2.1'"
      ]
     },
     "execution_count": 25,
     "metadata": {},
     "output_type": "execute_result"
    }
   ],
   "source": [
    "tf.__version__"
   ]
  },
  {
   "cell_type": "code",
   "execution_count": 26,
   "metadata": {
    "collapsed": true
   },
   "outputs": [],
   "source": [
    "def listener(input_tensor,layer_num,rnn_seq_lens,rnn_size,training,name=\"googleLAS\"):\n",
    "    \"\"\"\n",
    "        input should be like [batch_size,time,freq * filters]\n",
    "    \"\"\"\n",
    "    with tf.variable_scope(name):\n",
    "        net = input_tensor\n",
    "        for i in range(layer_num):\n",
    "            with tf.variable_scope(\"{}_layer{}\".format(name,i + 1)):\n",
    "                forward_cell = tf.contrib.rnn.BasicLSTMCell(rnn_size)\n",
    "                backward_cell = tf.contrib.rnn.BasicLSTMCell(rnn_size)\n",
    "            #bi_outputs, bi_encoder_state,_ = tf.contrib.rnn.static_bidirectional_rnn(\n",
    "            #        forward_cell,backward_cell,tf.unstack(net,net_shape[1],1),dtype=tf.float32)\n",
    "\n",
    "                bi_outputs, bi_encoder_state = tf.nn.bidirectional_dynamic_rnn(\n",
    "                            forward_cell, backward_cell, net,\n",
    "                            sequence_length = rnn_seq_lens,time_major = False,dtype=tf.float32)\n",
    "                outputs_fw, outputs_bw = bi_outputs\n",
    "                rnn_outputs = outputs_fw + outputs_bw\n",
    "                #rnn_outputs = tf.layers.batch_normalization(rnn_outputs, training=training)\n",
    "                net = rnn_outputs\n",
    "                if i != layer_num -1:\n",
    "                    print('reduced once')\n",
    "                    #net = tf.concat((net[:,::2,:],net[:,1::2,:]),axis=-1)\n",
    "                final_state = bi_encoder_state\n",
    "        print()\n",
    "        final_state = tf.concat([final_state[0][0], final_state[1][0]], axis=1)\n",
    "        return net,final_state\n",
    "    \n",
    "\n",
    "def _activation_summary(act,tensor_name):\n",
    "    \"\"\"Helper to create summaries for activations.\n",
    "    Creates a summary that provides a histogram of activations.\n",
    "    Creates a summary that measure the sparsity of activations.\n",
    "    Args:\n",
    "      act: Tensor\n",
    "    \"\"\"\n",
    "    # Remove 'tower_[0-9]/' from the name in case this is a multi-GPU training\n",
    "    # session. This helps the clarity of presentation on tensorboard.\n",
    "    tf.summary.histogram(tensor_name + '/activations', act)\n",
    "    tf.summary.scalar(tensor_name + '/sparsity', tf.nn.zero_fraction(act))\n",
    "    \n",
    "def _image_summary(img,tensor_name):\n",
    "    tf.summary.image(tensor_name,img)"
   ]
  },
  {
   "cell_type": "code",
   "execution_count": 27,
   "metadata": {
    "collapsed": false
   },
   "outputs": [
    {
     "data": {
      "text/plain": [
       "[2]"
      ]
     },
     "execution_count": 27,
     "metadata": {},
     "output_type": "execute_result"
    }
   ],
   "source": [
    "list(range(2,3))"
   ]
  },
  {
   "cell_type": "code",
   "execution_count": 28,
   "metadata": {
    "collapsed": false
   },
   "outputs": [
    {
     "data": {
      "text/plain": [
       "['/gpu:0', '/gpu:1']"
      ]
     },
     "execution_count": 28,
     "metadata": {},
     "output_type": "execute_result"
    }
   ],
   "source": [
    "GPU_CORES"
   ]
  },
  {
   "cell_type": "code",
   "execution_count": 29,
   "metadata": {
    "collapsed": true
   },
   "outputs": [],
   "source": [
    "def average_gradients(tower_grads):\n",
    "    \"\"\"Calculate the average gradient for each shared variable across all towers.\n",
    "    Note that this function provides a synchronization point across all towers.\n",
    "    Args:\n",
    "    tower_grads: List of lists of (gradient, variable) tuples. The outer list\n",
    "      is over individual gradients. The inner list is over the gradient\n",
    "      calculation for each tower.\n",
    "    Returns:\n",
    "     List of pairs of (gradient, variable) where the gradient has been averaged\n",
    "     across all towers.\n",
    "\n",
    "\n",
    "    \"\"\"\n",
    "    average_grads = []\n",
    "    for grad_and_vars in zip(*tower_grads):\n",
    "        # Note that each grad_and_vars looks like the following:\n",
    "        #   ((grad0_gpu0, var0_gpu0), ... , (grad0_gpuN, var0_gpuN))\n",
    "        grads = []\n",
    "        for g, _ in grad_and_vars:\n",
    "            # Add 0 dimension to the gradients to represent the tower.\n",
    "            expanded_g = tf.expand_dims(g, 0)\n",
    "            # Append on a 'tower' dimension which we will average over below.\n",
    "            grads.append(expanded_g)\n",
    "\n",
    "        # Average over the 'tower' dimension.\n",
    "        grad = tf.concat(grads,0)\n",
    "        grad = tf.reduce_mean(grad, 0)\n",
    "\n",
    "        # Keep in mind that the Variables are redundant because they are shared\n",
    "        # across towers. So .. we will just return the first tower's pointer to\n",
    "        # the Variable.\n",
    "        v = grad_and_vars[0][1]\n",
    "        grad_and_var = (grad, v)\n",
    "        average_grads.append(grad_and_var)\n",
    "    return average_grads"
   ]
  },
  {
   "cell_type": "code",
   "execution_count": 30,
   "metadata": {
    "collapsed": false
   },
   "outputs": [
    {
     "data": {
      "text/plain": [
       "[(0, '/gpu:0'), (1, '/gpu:1')]"
      ]
     },
     "execution_count": 30,
     "metadata": {},
     "output_type": "execute_result"
    }
   ],
   "source": [
    "list(enumerate(GPU_CORES))"
   ]
  },
  {
   "cell_type": "code",
   "execution_count": 31,
   "metadata": {
    "collapsed": false
   },
   "outputs": [
    {
     "name": "stdout",
     "output_type": "stream",
     "text": [
      "0\n",
      "reduced once\n",
      "reduced once\n",
      "reduced once\n",
      "\n",
      "finish 0\n",
      "1\n",
      "reduced once\n",
      "reduced once\n",
      "reduced once\n",
      "\n",
      "finish 1\n"
     ]
    }
   ],
   "source": [
    "assert(len(GPU_CORES) <= 4)\n",
    "gpu_num = len(GPU_CORES)\n",
    "tf.reset_default_graph()\n",
    "\n",
    "graph = tf.Graph()\n",
    "with graph.as_default():\n",
    "    initializer = tf.truncated_normal_initializer(\n",
    "        mean=0.0,stddev=0.02)\n",
    "    tf.get_variable_scope().set_initializer(initializer)\n",
    "    \n",
    "\n",
    "    input_sound = tf.placeholder(tf.float32,shape=[BATCH_SIZE * gpu_num,161,None])\n",
    "    targetsall = tf.placeholder(tf.int32,shape=[BATCH_SIZE * gpu_num,None])\n",
    "    y_in = tf.placeholder(\"int32\",[BATCH_SIZE * gpu_num,None])\n",
    "    y_len =  tf.placeholder(tf.int32, shape=(BATCH_SIZE * gpu_num))\n",
    "    y_real_len =  tf.placeholder(tf.int32, shape=(BATCH_SIZE * gpu_num))\n",
    "    sentence_max_length = tf.constant(OUTPUT_MAX_LENGTH)\n",
    "    # [batch_size,freq,time,1]\n",
    "\n",
    "    voicelength = tf.placeholder(tf.int32, shape=(BATCH_SIZE * gpu_num))\n",
    "    global_step = tf.train.get_or_create_global_step()\n",
    "    max_grad = tf.placeholder(tf.float32)\n",
    "    \n",
    "    #, shape=np.array([BATCH_SIZE,4], dtype=np.int64))\n",
    "\n",
    "    learning_rate = tf.placeholder(tf.float32)\n",
    "    training=tf.placeholder(tf.bool)\n",
    "    optimizer = tf.train.AdamOptimizer(learning_rate=learning_rate)\n",
    "    optimizer_sgd = tf.train.MomentumOptimizer(learning_rate=learning_rate,momentum=0.9)\n",
    "    tower_gradients = []\n",
    "    tower_gradients_sgd = []\n",
    "    \n",
    "    embedding_decoder = tf.get_variable(\n",
    "        \"embedding_decoder\", [len(ind2py), RNN_SIZE],dtype=tf.float32)\n",
    "    \n",
    "    \n",
    "\n",
    "with graph.as_default():\n",
    "    with tf.variable_scope(tf.get_variable_scope()) as vscope:\n",
    "        for ind,one_core in enumerate(GPU_CORES):\n",
    "            print(ind)\n",
    "            with tf.device(\"{}\".format(one_core)):\n",
    "                targets = targetsall[ind * BATCH_SIZE:(ind + 1) * BATCH_SIZE]\n",
    "                net = input_sound[ind * BATCH_SIZE:(ind + 1) * BATCH_SIZE]\n",
    "                \n",
    "                net = tf.transpose(net,[0,2,1])\n",
    "                net_shape = net.get_shape().as_list()\n",
    "                #net = tf.reshape(net,[BATCH_SIZE,-1,net_shape[-1] * net_shape[-2]])\n",
    "                # [batch_size,time,freq * filters]\n",
    "                rnn_out,rnn_out_state = listener(net,HIDDEN_LAYERS,voicelength[ind * BATCH_SIZE:(ind + 1) * BATCH_SIZE],RNN_SIZE,training=training,name=\"deepspeech_rnn_layer\")\n",
    "                \n",
    "                with tf.variable_scope(\"attend_and_spell\"):\n",
    "                    decoder_emb_inp = tf.nn.embedding_lookup(\n",
    "                        embedding_decoder, y_in[ind * BATCH_SIZE:(ind + 1) * BATCH_SIZE])\n",
    "                    cell_list = []\n",
    "                    for i in range(2):\n",
    "                        cell_list.append(\n",
    "                            #tf.contrib.rnn.DropoutWrapper(\n",
    "                            tf.contrib.rnn.BasicLSTMCell(RNN_SIZE)#, input_keep_prob=(1.0 - DROPOUT)\n",
    "                            #)\n",
    "                        )\n",
    "                    if len(cell_list) == 1:\n",
    "                        decoder_cell = cell_list[0]\n",
    "                    else:\n",
    "                        decoder_cell = tf.contrib.rnn.MultiRNNCell(cell_list)\n",
    "\n",
    "                    # Helper\n",
    "\n",
    "                    # attention\n",
    "                    attention_mechanism = tf.contrib.seq2seq.LuongAttention(\n",
    "                        RNN_SIZE, rnn_out,\n",
    "                        memory_sequence_length=voicelength[ind * BATCH_SIZE:(ind + 1) * BATCH_SIZE],scale=True)\n",
    "                    decoder_cell = tf.contrib.seq2seq.AttentionWrapper(\n",
    "                        decoder_cell, attention_mechanism,\n",
    "                        attention_layer_size=RNN_SIZE)\n",
    "\n",
    "                    projection_layer = layers_core.Dense(\n",
    "                        len(ind2py), use_bias=False)\n",
    "                \n",
    "                # Dynamic decoding\n",
    "                with tf.variable_scope(\"decode_layer\"):\n",
    "                    helper = tf.contrib.seq2seq.TrainingHelper(\n",
    "                        decoder_emb_inp,sequence_length= y_len[ind * BATCH_SIZE:(ind + 1) * BATCH_SIZE])\n",
    "                    decoder = tf.contrib.seq2seq.BasicDecoder(\n",
    "                        decoder_cell, helper, initial_state = decoder_cell.zero_state(dtype=tf.float32,batch_size=BATCH_SIZE),\n",
    "                        output_layer=projection_layer)\n",
    "\n",
    "                    outputs, _,___  = tf.contrib.seq2seq.dynamic_decode(decoder)\n",
    "                    logits = outputs.rnn_output\n",
    "\n",
    "                    target_weights = tf.sequence_mask(\n",
    "                        y_real_len[ind * BATCH_SIZE:(ind + 1) * BATCH_SIZE], y_len[ind * BATCH_SIZE], dtype=logits.dtype)\n",
    "                \n",
    "                # predicting\n",
    "                # Helper\n",
    "                with tf.variable_scope(\"decode_layer\", reuse=True):\n",
    "                    helper_predict = tf.contrib.seq2seq.GreedyEmbeddingHelper(\n",
    "                        embedding_decoder,\n",
    "                        tf.fill([BATCH_SIZE], py2ind['<go>']), py2ind['<eos>'])\n",
    "                    decoder_predict = tf.contrib.seq2seq.BasicDecoder(\n",
    "                        decoder_cell, helper_predict, initial_state = decoder_cell.zero_state(dtype=tf.float32,batch_size=BATCH_SIZE),\n",
    "                        output_layer=projection_layer)\n",
    "                    outputs_predict,_, __ = tf.contrib.seq2seq.dynamic_decode(\n",
    "                        decoder_predict, maximum_iterations=sentence_max_length)\n",
    "                translations = outputs_predict.sample_id\n",
    "                \n",
    "                crossent = tf.nn.sparse_softmax_cross_entropy_with_logits(\n",
    "                    labels=targetsall[ind * BATCH_SIZE:(ind + 1) * BATCH_SIZE], logits=logits)\n",
    "                train_loss = (tf.reduce_sum(crossent * target_weights) /\n",
    "                    BATCH_SIZE)\n",
    "                with tf.variable_scope(\"Train\", reuse=True):\n",
    "                    tf.summary.scalar(\"train_loss\",train_loss)\n",
    "                    tf.summary.scalar(\"train_batch_length\",tf.reduce_mean(y_real_len))\n",
    "\n",
    "                trainable_params = tf.trainable_variables()\n",
    "                #trainable_params = [i for i in trainable_params if\n",
    "                #                    ('deepspeech' in i.name and 'Minimum_grad' not in i.name)]\n",
    "                #grads_e = optimizer.compute_gradients(ctc_loss, var_list = trainable_params)\n",
    "                #grads_e_sgd = optimizer_sgd.compute_gradients(ctc_loss, var_list = trainable_params)\n",
    "                #gradients = tf.gradients(ctc_loss, trainable_params)\n",
    "                #clip_gradients, _ = tf.clip_by_global_norm(gradients, max_grad)\n",
    "                #clip_gradients_sgd, _ = tf.clip_by_global_norm(gradients, max_grad)\n",
    "                #L_loss = tf.clip_by_value(loss, -max_grad, max_grad)\n",
    "                L_loss = train_loss\n",
    "                tf.get_variable_scope().reuse_variables()\n",
    "                #train_op = optimizer.minimize(loss,global_step=global_step)\n",
    "                #train_op = optimizer.apply_gradients(\n",
    "                #        zip(clip_gradients, trainable_params), global_step=global_step)\n",
    "                grads_e_ori = optimizer.compute_gradients(L_loss, var_list = trainable_params)\n",
    "                grads_e_ori = [i[0] for i in grads_e_ori]\n",
    "                #grads_e, _ = tf.clip_by_global_norm(grads_e_ori, max_grad)\n",
    "                grads_e = grads_e_ori\n",
    "                grads_e_sgd_ori = optimizer_sgd.compute_gradients(L_loss, var_list = trainable_params)\n",
    "                grads_e_sgd_ori = [i[0] for i in grads_e_sgd_ori]\n",
    "                #grads_e_sgd, _ = tf.clip_by_global_norm(grads_e_sgd_ori, max_grad)\n",
    "                grads_e_sgd = grads_e_sgd_ori\n",
    "                tower_gradients.append(zip(grads_e,trainable_params))\n",
    "                tower_gradients_sgd.append(zip(grads_e_sgd,trainable_params))\n",
    "                print('finish {}'.format(ind))\n",
    "\n",
    "\n",
    "with graph.as_default():\n",
    "    summary_op = tf.summary.merge_all()\n",
    "    train_summary_writer = tf.summary.FileWriter(\"./log/compair/{}\".format(MODEL_NAME), graph)\n",
    "        \n",
    "    grads = average_gradients(tower_gradients)\n",
    "    grads_sgd = average_gradients(tower_gradients_sgd)\n",
    "    update_ops = tf.get_collection(tf.GraphKeys.UPDATE_OPS)\n",
    "    with tf.control_dependencies(update_ops):\n",
    "        train_op = optimizer.apply_gradients(grads,global_step)\n",
    "        train_op_sgd = optimizer_sgd.apply_gradients(grads_sgd,global_step)\n",
    "    with tf.variable_scope(\"Train\"):\n",
    "        editdistance_train = tf.placeholder(tf.float32)\n",
    "        editdistance_op_train = tf.summary.scalar(\"EditDistance\",editdistance_train)\n",
    "    with tf.variable_scope(\"Validation\"):\n",
    "        test_loss = tf.placeholder(tf.float32)\n",
    "        loss_op = tf.summary.scalar(\"Accuracy\",test_loss)\n",
    "        editdistance = tf.placeholder(tf.float32)\n",
    "        editdistance_op = tf.summary.scalar(\"EditDistance\",editdistance)\n",
    "    test_op = tf.summary.merge([loss_op,editdistance_op])\n"
   ]
  },
  {
   "cell_type": "code",
   "execution_count": 33,
   "metadata": {
    "collapsed": false
   },
   "outputs": [
    {
     "data": {
      "text/plain": [
       "<tf.Tensor 'Placeholder_1:0' shape=(64, ?) dtype=int32>"
      ]
     },
     "execution_count": 33,
     "metadata": {},
     "output_type": "execute_result"
    }
   ],
   "source": [
    "targetsall"
   ]
  },
  {
   "cell_type": "code",
   "execution_count": 34,
   "metadata": {
    "collapsed": false
   },
   "outputs": [
    {
     "data": {
      "text/plain": [
       "<tf.Tensor 'deepspeech_rnn_layer_1/deepspeech_rnn_layer_layer4/add:0' shape=(32, ?, 256) dtype=float32>"
      ]
     },
     "execution_count": 34,
     "metadata": {},
     "output_type": "execute_result"
    }
   ],
   "source": [
    "rnn_out"
   ]
  },
  {
   "cell_type": "code",
   "execution_count": 35,
   "metadata": {
    "collapsed": false
   },
   "outputs": [
    {
     "data": {
      "text/plain": [
       "<tf.Tensor 'transpose_1:0' shape=(32, ?, 161) dtype=float32>"
      ]
     },
     "execution_count": 35,
     "metadata": {},
     "output_type": "execute_result"
    }
   ],
   "source": [
    "net"
   ]
  },
  {
   "cell_type": "code",
   "execution_count": 36,
   "metadata": {
    "collapsed": false
   },
   "outputs": [
    {
     "data": {
      "text/plain": [
       "32"
      ]
     },
     "execution_count": 36,
     "metadata": {},
     "output_type": "execute_result"
    }
   ],
   "source": [
    "BATCH_SIZE"
   ]
  },
  {
   "cell_type": "code",
   "execution_count": 37,
   "metadata": {
    "collapsed": false
   },
   "outputs": [
    {
     "data": {
      "text/plain": [
       "[<tensorflow.python.framework.ops.IndexedSlices at 0x7f461e969710>,\n",
       " <tf.Tensor 'gradients_2/deepspeech_rnn_layer_1/deepspeech_rnn_layer_layer1/bidirectional_rnn/fw/fw/while/fw/basic_lstm_cell/basic_lstm_cell/MatMul/Enter_grad/b_acc_3:0' shape=(417, 1024) dtype=float32>]"
      ]
     },
     "execution_count": 37,
     "metadata": {},
     "output_type": "execute_result"
    }
   ],
   "source": [
    "grads_e[:2]"
   ]
  },
  {
   "cell_type": "code",
   "execution_count": 38,
   "metadata": {
    "collapsed": false
   },
   "outputs": [
    {
     "data": {
      "text/plain": [
       "[<tensorflow.python.framework.ops.IndexedSlices at 0x7f461e969710>,\n",
       " <tf.Tensor 'gradients_2/deepspeech_rnn_layer_1/deepspeech_rnn_layer_layer1/bidirectional_rnn/fw/fw/while/fw/basic_lstm_cell/basic_lstm_cell/MatMul/Enter_grad/b_acc_3:0' shape=(417, 1024) dtype=float32>]"
      ]
     },
     "execution_count": 38,
     "metadata": {},
     "output_type": "execute_result"
    }
   ],
   "source": [
    "grads_e_ori[:2]"
   ]
  },
  {
   "cell_type": "code",
   "execution_count": 65,
   "metadata": {
    "collapsed": true
   },
   "outputs": [],
   "source": [
    "with graph.as_default():\n",
    "    config = tf.ConfigProto()\n",
    "    config.gpu_options.allow_growth = True\n",
    "    config.allow_soft_placement = True\n",
    "    sess = tf.Session(config=config)\n",
    "    \n",
    "    sess.run(tf.global_variables_initializer())\n",
    "    tf.train.global_step(sess, global_step)"
   ]
  },
  {
   "cell_type": "code",
   "execution_count": 40,
   "metadata": {
    "collapsed": true
   },
   "outputs": [],
   "source": [
    "import os\n",
    "if not os.path.exists(\"models/{}\".format(MODEL_NAME)):\n",
    "    os.mkdir(\"models/{}\".format(MODEL_NAME))"
   ]
  },
  {
   "cell_type": "code",
   "execution_count": 41,
   "metadata": {
    "collapsed": false
   },
   "outputs": [],
   "source": [
    "allmodels = [i  for i in os.listdir('models/{}'.format(MODEL_NAME)) if ('meta' in i and 'model' in i)]"
   ]
  },
  {
   "cell_type": "code",
   "execution_count": 42,
   "metadata": {
    "collapsed": false
   },
   "outputs": [],
   "source": [
    "epochs = [int(i[-6]) for i in allmodels]"
   ]
  },
  {
   "cell_type": "code",
   "execution_count": 43,
   "metadata": {
    "collapsed": false
   },
   "outputs": [
    {
     "data": {
      "text/plain": [
       "'2_26-LAS-opt'"
      ]
     },
     "execution_count": 43,
     "metadata": {},
     "output_type": "execute_result"
    }
   ],
   "source": [
    "MODEL_NAME"
   ]
  },
  {
   "cell_type": "code",
   "execution_count": 44,
   "metadata": {
    "collapsed": true
   },
   "outputs": [],
   "source": [
    "N_BATCH = len(voice_dataset_train) // (BATCH_SIZE * gpu_num)\n",
    "N_BATCH_TEST = len(voice_dataset_test) // (BATCH_SIZE * gpu_num)"
   ]
  },
  {
   "cell_type": "code",
   "execution_count": 45,
   "metadata": {
    "collapsed": false
   },
   "outputs": [],
   "source": [
    "batch_x,batch_y_ori,s,a,t = voice_flow_train.next_batch(BATCH_SIZE)"
   ]
  },
  {
   "cell_type": "code",
   "execution_count": 46,
   "metadata": {
    "collapsed": false
   },
   "outputs": [
    {
     "data": {
      "text/plain": [
       "(64, 161, 191, 1)"
      ]
     },
     "execution_count": 46,
     "metadata": {},
     "output_type": "execute_result"
    }
   ],
   "source": [
    "batch_x.shape"
   ]
  },
  {
   "cell_type": "code",
   "execution_count": 47,
   "metadata": {
    "collapsed": false
   },
   "outputs": [],
   "source": [
    "if epochs:\n",
    "    train_epoch = max(epochs) + 1\n",
    "else:\n",
    "    train_epoch = 1"
   ]
  },
  {
   "cell_type": "code",
   "execution_count": 48,
   "metadata": {
    "collapsed": true
   },
   "outputs": [],
   "source": [
    "train_batch = 1"
   ]
  },
  {
   "cell_type": "code",
   "execution_count": 49,
   "metadata": {
    "collapsed": false
   },
   "outputs": [
    {
     "data": {
      "text/plain": [
       "1"
      ]
     },
     "execution_count": 49,
     "metadata": {},
     "output_type": "execute_result"
    }
   ],
   "source": [
    "train_epoch"
   ]
  },
  {
   "cell_type": "markdown",
   "metadata": {
    "collapsed": false
   },
   "source": [
    "with graph.as_default():\n",
    "    config = tf.ConfigProto()\n",
    "    config.gpu_options.allow_growth = True\n",
    "    config.allow_soft_placement = True\n",
    "    sess = tf.Session(config=config)\n",
    "    \n",
    "    saver = tf.train.Saver()\n",
    "    saver.restore(sess,'./models/{}/model_{}'.format(MODEL_NAME,train_epoch - 1))"
   ]
  },
  {
   "cell_type": "code",
   "execution_count": 50,
   "metadata": {
    "collapsed": false
   },
   "outputs": [
    {
     "data": {
      "text/plain": [
       "119338"
      ]
     },
     "execution_count": 50,
     "metadata": {},
     "output_type": "execute_result"
    }
   ],
   "source": [
    "len(voice_dataset_train)"
   ]
  },
  {
   "cell_type": "code",
   "execution_count": 51,
   "metadata": {
    "collapsed": false
   },
   "outputs": [
    {
     "data": {
      "text/plain": [
       "32"
      ]
     },
     "execution_count": 51,
     "metadata": {},
     "output_type": "execute_result"
    }
   ],
   "source": [
    "BATCH_SIZE"
   ]
  },
  {
   "cell_type": "code",
   "execution_count": 52,
   "metadata": {
    "collapsed": false
   },
   "outputs": [
    {
     "data": {
      "text/plain": [
       "1864"
      ]
     },
     "execution_count": 52,
     "metadata": {},
     "output_type": "execute_result"
    }
   ],
   "source": [
    "N_BATCH"
   ]
  },
  {
   "cell_type": "code",
   "execution_count": 53,
   "metadata": {
    "collapsed": false
   },
   "outputs": [],
   "source": [
    "def alignx(inputx):\n",
    "    tmp = inputx.reshape((-1,inputx.shape[2]))\n",
    "    tmp = tf.contrib.keras.preprocessing.sequence.pad_sequences(tmp,padding='post',maxlen= ((tmp.shape[1] - 1) // 8 + 1) * 8,dtype=np.float32,value=0)\n",
    "    #print(tmp)\n",
    "    return np.reshape(tmp,(inputx.shape[0],inputx.shape[1],-1))"
   ]
  },
  {
   "cell_type": "code",
   "execution_count": 54,
   "metadata": {
    "collapsed": false
   },
   "outputs": [],
   "source": [
    "def arr2target(inputy):\n",
    "    return tf.contrib.keras.preprocessing.sequence.pad_sequences(inputy,padding='post',value=py2ind['<eos>'],maxlen=max([len(i) for i in inputy]) + 1)"
   ]
  },
  {
   "cell_type": "code",
   "execution_count": 55,
   "metadata": {
    "collapsed": true
   },
   "outputs": [],
   "source": [
    "def arr2input(inputy):\n",
    "    return np.concatenate([np.expand_dims(np.asarray([py2ind['<go>']] * len(inputy)),axis=-1),tf.contrib.keras.preprocessing.sequence.pad_sequences(inputy,padding='post',value=py2ind['<eos>'],maxlen=max([len(i) for i in inputy]))],axis=-1)"
   ]
  },
  {
   "cell_type": "code",
   "execution_count": 56,
   "metadata": {
    "collapsed": true
   },
   "outputs": [],
   "source": [
    "addone = lambda x:[i + 1 for i in x]"
   ]
  },
  {
   "cell_type": "code",
   "execution_count": 57,
   "metadata": {
    "collapsed": false
   },
   "outputs": [
    {
     "data": {
      "text/plain": [
       "0.3152801990509033"
      ]
     },
     "execution_count": 57,
     "metadata": {},
     "output_type": "execute_result"
    }
   ],
   "source": [
    "start = time.time()\n",
    "a,b,c,d,e = voice_flow_train.next_batch(BATCH_SIZE)\n",
    "time.time() - start"
   ]
  },
  {
   "cell_type": "code",
   "execution_count": 58,
   "metadata": {
    "collapsed": false
   },
   "outputs": [
    {
     "data": {
      "text/plain": [
       "(64, 161, 199, 1)"
      ]
     },
     "execution_count": 58,
     "metadata": {},
     "output_type": "execute_result"
    }
   ],
   "source": [
    "a.shape"
   ]
  },
  {
   "cell_type": "code",
   "execution_count": 59,
   "metadata": {
    "collapsed": false
   },
   "outputs": [
    {
     "data": {
      "text/plain": [
       "((64, 161, 200), (64, 161, 199))"
      ]
     },
     "execution_count": 59,
     "metadata": {},
     "output_type": "execute_result"
    }
   ],
   "source": [
    "alignx(a[:,:,:,0]).shape,a[:,:,:,0].shape"
   ]
  },
  {
   "cell_type": "raw",
   "metadata": {},
   "source": [
    "input_sound = tf.placeholder(tf.float32,shape=[BATCH_SIZE * gpu_num,161,None])\n",
    "targetsall = tf.placeholder(tf.int32,shape=[BATCH_SIZE * gpu_num,None])\n",
    "y_in = tf.placeholder(\"int32\",[BATCH_SIZE * gpu_num,None])\n",
    "\n",
    "y_len =  tf.placeholder(tf.int32, shape=(BATCH_SIZE * gpu_num))\n",
    "y_real_len =  tf.placeholder(tf.int32, shape=(BATCH_SIZE * gpu_num))\n",
    "\n",
    "voicelength = tf.placeholder(tf.int32, shape=(BATCH_SIZE * gpu_num))\n",
    "learning_rate = tf.placeholder(tf.float32)\n"
   ]
  },
  {
   "cell_type": "code",
   "execution_count": 60,
   "metadata": {
    "collapsed": false
   },
   "outputs": [
    {
     "data": {
      "text/plain": [
       "(64, 161, 199, 1)"
      ]
     },
     "execution_count": 60,
     "metadata": {},
     "output_type": "execute_result"
    }
   ],
   "source": [
    "a.shape"
   ]
  },
  {
   "cell_type": "code",
   "execution_count": 61,
   "metadata": {
    "collapsed": true
   },
   "outputs": [],
   "source": [
    "voice_flow_train = voice_flow_train_shu"
   ]
  },
  {
   "cell_type": "code",
   "execution_count": 64,
   "metadata": {
    "collapsed": false
   },
   "outputs": [],
   "source": [
    "BEGINING_LEARNING_RATE = 1e-2"
   ]
  },
  {
   "cell_type": "code",
   "execution_count": 66,
   "metadata": {
    "collapsed": false,
    "scrolled": true
   },
   "outputs": [
    {
     "name": "stdout",
     "output_type": "stream",
     "text": [
      "EPOCH 1 STEP 1863 LR 0.01 LOSS 101.55 DIS 0.82 t1 1.22 t2 6.82 100.00 % [==================================================>] 119296/119296 \t used:9895s eta:0 sshuffle\n",
      "EPOCH 2 STEP 1863 LR 0.01 LOSS 242.47 DIS 0.95 t1 1.21 t2 7.56 100.00 % [==================================================>] 119296/119296 \t used:9608s eta:0 sshuffle\n",
      "EPOCH 3 STEP 781 LR 0.01 LOSS 546.76 DIS 0.95 t1 0.95 t2 5.9 41.95 % [====================>------------------------------] 50048/119296 \t used:4339s eta:6004 s"
     ]
    },
    {
     "ename": "KeyboardInterrupt",
     "evalue": "",
     "output_type": "error",
     "traceback": [
      "\u001b[0;31m---------------------------------------------------------------------------\u001b[0m",
      "\u001b[0;31mKeyboardInterrupt\u001b[0m                         Traceback (most recent call last)",
      "\u001b[0;32m<ipython-input-66-dca5c0aae94c>\u001b[0m in \u001b[0;36m<module>\u001b[0;34m()\u001b[0m\n\u001b[1;32m     60\u001b[0m             \u001b[0;32mtry\u001b[0m\u001b[0;34m:\u001b[0m\u001b[0;34m\u001b[0m\u001b[0m\n\u001b[1;32m     61\u001b[0m                 _,batch_translation,step_loss,step_summary,step_value = sess.run(\n\u001b[0;32m---> 62\u001b[0;31m                     [train_op,translations,train_loss,summary_op,global_step],feed_dict=feeddic)\n\u001b[0m\u001b[1;32m     63\u001b[0m             \u001b[0;32mexcept\u001b[0m \u001b[0;34m(\u001b[0m\u001b[0mKeyboardInterrupt\u001b[0m\u001b[0;34m,\u001b[0m\u001b[0mSystemExit\u001b[0m\u001b[0;34m)\u001b[0m\u001b[0;34m:\u001b[0m\u001b[0;34m\u001b[0m\u001b[0m\n\u001b[1;32m     64\u001b[0m                 \u001b[0;32mraise\u001b[0m\u001b[0;34m\u001b[0m\u001b[0m\n",
      "\u001b[0;32m/data/zonghua/envs/icybee/lib/python3.5/site-packages/tensorflow/python/client/session.py\u001b[0m in \u001b[0;36mrun\u001b[0;34m(self, fetches, feed_dict, options, run_metadata)\u001b[0m\n\u001b[1;32m    787\u001b[0m     \u001b[0;32mtry\u001b[0m\u001b[0;34m:\u001b[0m\u001b[0;34m\u001b[0m\u001b[0m\n\u001b[1;32m    788\u001b[0m       result = self._run(None, fetches, feed_dict, options_ptr,\n\u001b[0;32m--> 789\u001b[0;31m                          run_metadata_ptr)\n\u001b[0m\u001b[1;32m    790\u001b[0m       \u001b[0;32mif\u001b[0m \u001b[0mrun_metadata\u001b[0m\u001b[0;34m:\u001b[0m\u001b[0;34m\u001b[0m\u001b[0m\n\u001b[1;32m    791\u001b[0m         \u001b[0mproto_data\u001b[0m \u001b[0;34m=\u001b[0m \u001b[0mtf_session\u001b[0m\u001b[0;34m.\u001b[0m\u001b[0mTF_GetBuffer\u001b[0m\u001b[0;34m(\u001b[0m\u001b[0mrun_metadata_ptr\u001b[0m\u001b[0;34m)\u001b[0m\u001b[0;34m\u001b[0m\u001b[0m\n",
      "\u001b[0;32m/data/zonghua/envs/icybee/lib/python3.5/site-packages/tensorflow/python/client/session.py\u001b[0m in \u001b[0;36m_run\u001b[0;34m(self, handle, fetches, feed_dict, options, run_metadata)\u001b[0m\n\u001b[1;32m    995\u001b[0m     \u001b[0;32mif\u001b[0m \u001b[0mfinal_fetches\u001b[0m \u001b[0;32mor\u001b[0m \u001b[0mfinal_targets\u001b[0m\u001b[0;34m:\u001b[0m\u001b[0;34m\u001b[0m\u001b[0m\n\u001b[1;32m    996\u001b[0m       results = self._do_run(handle, final_targets, final_fetches,\n\u001b[0;32m--> 997\u001b[0;31m                              feed_dict_string, options, run_metadata)\n\u001b[0m\u001b[1;32m    998\u001b[0m     \u001b[0;32melse\u001b[0m\u001b[0;34m:\u001b[0m\u001b[0;34m\u001b[0m\u001b[0m\n\u001b[1;32m    999\u001b[0m       \u001b[0mresults\u001b[0m \u001b[0;34m=\u001b[0m \u001b[0;34m[\u001b[0m\u001b[0;34m]\u001b[0m\u001b[0;34m\u001b[0m\u001b[0m\n",
      "\u001b[0;32m/data/zonghua/envs/icybee/lib/python3.5/site-packages/tensorflow/python/client/session.py\u001b[0m in \u001b[0;36m_do_run\u001b[0;34m(self, handle, target_list, fetch_list, feed_dict, options, run_metadata)\u001b[0m\n\u001b[1;32m   1130\u001b[0m     \u001b[0;32mif\u001b[0m \u001b[0mhandle\u001b[0m \u001b[0;32mis\u001b[0m \u001b[0;32mNone\u001b[0m\u001b[0;34m:\u001b[0m\u001b[0;34m\u001b[0m\u001b[0m\n\u001b[1;32m   1131\u001b[0m       return self._do_call(_run_fn, self._session, feed_dict, fetch_list,\n\u001b[0;32m-> 1132\u001b[0;31m                            target_list, options, run_metadata)\n\u001b[0m\u001b[1;32m   1133\u001b[0m     \u001b[0;32melse\u001b[0m\u001b[0;34m:\u001b[0m\u001b[0;34m\u001b[0m\u001b[0m\n\u001b[1;32m   1134\u001b[0m       return self._do_call(_prun_fn, self._session, handle, feed_dict,\n",
      "\u001b[0;32m/data/zonghua/envs/icybee/lib/python3.5/site-packages/tensorflow/python/client/session.py\u001b[0m in \u001b[0;36m_do_call\u001b[0;34m(self, fn, *args)\u001b[0m\n\u001b[1;32m   1137\u001b[0m   \u001b[0;32mdef\u001b[0m \u001b[0m_do_call\u001b[0m\u001b[0;34m(\u001b[0m\u001b[0mself\u001b[0m\u001b[0;34m,\u001b[0m \u001b[0mfn\u001b[0m\u001b[0;34m,\u001b[0m \u001b[0;34m*\u001b[0m\u001b[0margs\u001b[0m\u001b[0;34m)\u001b[0m\u001b[0;34m:\u001b[0m\u001b[0;34m\u001b[0m\u001b[0m\n\u001b[1;32m   1138\u001b[0m     \u001b[0;32mtry\u001b[0m\u001b[0;34m:\u001b[0m\u001b[0;34m\u001b[0m\u001b[0m\n\u001b[0;32m-> 1139\u001b[0;31m       \u001b[0;32mreturn\u001b[0m \u001b[0mfn\u001b[0m\u001b[0;34m(\u001b[0m\u001b[0;34m*\u001b[0m\u001b[0margs\u001b[0m\u001b[0;34m)\u001b[0m\u001b[0;34m\u001b[0m\u001b[0m\n\u001b[0m\u001b[1;32m   1140\u001b[0m     \u001b[0;32mexcept\u001b[0m \u001b[0merrors\u001b[0m\u001b[0;34m.\u001b[0m\u001b[0mOpError\u001b[0m \u001b[0;32mas\u001b[0m \u001b[0me\u001b[0m\u001b[0;34m:\u001b[0m\u001b[0;34m\u001b[0m\u001b[0m\n\u001b[1;32m   1141\u001b[0m       \u001b[0mmessage\u001b[0m \u001b[0;34m=\u001b[0m \u001b[0mcompat\u001b[0m\u001b[0;34m.\u001b[0m\u001b[0mas_text\u001b[0m\u001b[0;34m(\u001b[0m\u001b[0me\u001b[0m\u001b[0;34m.\u001b[0m\u001b[0mmessage\u001b[0m\u001b[0;34m)\u001b[0m\u001b[0;34m\u001b[0m\u001b[0m\n",
      "\u001b[0;32m/data/zonghua/envs/icybee/lib/python3.5/site-packages/tensorflow/python/client/session.py\u001b[0m in \u001b[0;36m_run_fn\u001b[0;34m(session, feed_dict, fetch_list, target_list, options, run_metadata)\u001b[0m\n\u001b[1;32m   1119\u001b[0m         return tf_session.TF_Run(session, options,\n\u001b[1;32m   1120\u001b[0m                                  \u001b[0mfeed_dict\u001b[0m\u001b[0;34m,\u001b[0m \u001b[0mfetch_list\u001b[0m\u001b[0;34m,\u001b[0m \u001b[0mtarget_list\u001b[0m\u001b[0;34m,\u001b[0m\u001b[0;34m\u001b[0m\u001b[0m\n\u001b[0;32m-> 1121\u001b[0;31m                                  status, run_metadata)\n\u001b[0m\u001b[1;32m   1122\u001b[0m \u001b[0;34m\u001b[0m\u001b[0m\n\u001b[1;32m   1123\u001b[0m     \u001b[0;32mdef\u001b[0m \u001b[0m_prun_fn\u001b[0m\u001b[0;34m(\u001b[0m\u001b[0msession\u001b[0m\u001b[0;34m,\u001b[0m \u001b[0mhandle\u001b[0m\u001b[0;34m,\u001b[0m \u001b[0mfeed_dict\u001b[0m\u001b[0;34m,\u001b[0m \u001b[0mfetch_list\u001b[0m\u001b[0;34m)\u001b[0m\u001b[0;34m:\u001b[0m\u001b[0;34m\u001b[0m\u001b[0m\n",
      "\u001b[0;31mKeyboardInterrupt\u001b[0m: "
     ]
    }
   ],
   "source": [
    "restore = True\n",
    "N_EPOCH = 50\n",
    "DECAY_EPOCH = 6\n",
    "import traceback\n",
    "\n",
    "\n",
    "        \n",
    "expdis = utils.ExpVal()\n",
    "exploss = utils.ExpVal()\n",
    "clk = utils.Tick()\n",
    "\n",
    "begining_learning_rate = BEGINING_LEARNING_RATE\n",
    "clip_norm = 400\n",
    "with graph.as_default():\n",
    "    if restore == False:\n",
    "        train_epoch = 1\n",
    "        train_batch = 0\n",
    "    for one_epoch in range(train_epoch,N_EPOCH):\n",
    "        if one_epoch >= 2:\n",
    "            voice_flow_train = voice_flow_train_shu\n",
    "        train_epoch = one_epoch\n",
    "        pb = ProgressBar(worksum=N_BATCH * BATCH_SIZE * gpu_num,info=\" epoch {} batch {}\".format(train_epoch,train_batch))\n",
    "        pb.startjob()\n",
    "\n",
    "        for one_batch in range(N_BATCH):\n",
    "            if restore == True and one_batch < train_batch:\n",
    "                pb.auto_display = False\n",
    "                pb.complete(BATCH_SIZE * gpu_num)\n",
    "                pb.auto_display = True\n",
    "                continue\n",
    "            else:\n",
    "                restore = False\n",
    "            train_batch = one_batch\n",
    "\n",
    "            clk.tick()\n",
    "                    \n",
    "            batch_lr = begining_learning_rate * 2 ** -(max(one_epoch-DECAY_EPOCH + 1,0) // 2)\n",
    "            #batch_lr = BEGINING_LEARNING_RATE\n",
    "            batch_x,batch_y,_,__,batch_voicelen = voice_flow_train.next_batch(BATCH_SIZE * gpu_num)\n",
    "            batch_y = chind2pyind(batch_y)\n",
    "            batch_x = np.nan_to_num(batch_x,0)\n",
    "            batch_x = alignx(batch_x[:,:,:,0])\n",
    "            \n",
    "            batch_target = arr2target(batch_y)\n",
    "            batch_yin = arr2input(batch_y)\n",
    "            batch_ylen = [batch_target.shape[1]] * (BATCH_SIZE * gpu_num)\n",
    "            batch_yreallen = addone([len(i) for i in batch_y])\n",
    "            feeddic = {\n",
    "                input_sound: batch_x,\n",
    "                targetsall:batch_target,\n",
    "                y_in:batch_yin,\n",
    "                y_len:batch_ylen,\n",
    "                y_real_len:batch_yreallen,\n",
    "                voicelength:batch_voicelen,\n",
    "                learning_rate:batch_lr,\n",
    "                training:True,\n",
    "            }\n",
    "            t1 = clk.tock()\n",
    "            clk.tick()\n",
    "            try:\n",
    "                _,batch_translation,step_loss,step_summary,step_value = sess.run(\n",
    "                    [train_op,translations,train_loss,summary_op,global_step],feed_dict=feeddic)\n",
    "            except (KeyboardInterrupt,SystemExit):\n",
    "                raise\n",
    "            except:\n",
    "                traceback.print_exc()\n",
    "                dd\n",
    "                continue\n",
    "                \n",
    "            batch_editdistances = []\n",
    "            for x,y in zip(batch_translation,batch_target):\n",
    "                one_dis = eds.eval(x,y)\n",
    "                one_dis = one_dis / max(len(x),len(y))\n",
    "                batch_editdistances.append(one_dis)\n",
    "                \n",
    "            batch_editdistances = np.average(batch_editdistances)\n",
    "            batch_editdistance_op_train = sess.run(editdistance_op_train,feed_dict={editdistance_train:batch_editdistances})\n",
    "            \n",
    "            expdis.update(batch_editdistances)\n",
    "            exploss.update(step_loss)\n",
    "            t2 = clk.tock()\n",
    "            pb.info = \"EPOCH {} STEP {} LR {} LOSS {} DIS {} t1 {} t2 {}\".format(one_epoch,one_batch,batch_lr,exploss.getval(),expdis.getval(),t1,t2)\n",
    "            train_summary_writer.add_summary(step_summary,step_value)\n",
    "            train_summary_writer.add_summary(batch_editdistance_op_train,step_value)\n",
    "            pb.complete(BATCH_SIZE * gpu_num)\n",
    "        \n",
    "        saver = tf.train.Saver(tf.global_variables())\n"
   ]
  },
  {
   "cell_type": "code",
   "execution_count": 194,
   "metadata": {
    "collapsed": false
   },
   "outputs": [
    {
     "data": {
      "text/plain": [
       "'huá shāng bào xùn jì zhě lǐ xiǎo bó hé tóng shì yì qǐ wǎn shàng chī kǎo ròu hē pí jiǔ<eos><eos><eos><eos><eos><eos><eos><eos><eos><eos><eos>'"
      ]
     },
     "execution_count": 194,
     "metadata": {},
     "output_type": "execute_result"
    }
   ],
   "source": [
    "''.join([ind2py[i] for i in batch_target[-1]])"
   ]
  },
  {
   "cell_type": "code",
   "execution_count": 191,
   "metadata": {
    "collapsed": false
   },
   "outputs": [
    {
     "data": {
      "text/plain": [
       "'zhi   ò                                                                                                                                                                                                                                                                                                     '"
      ]
     },
     "execution_count": 191,
     "metadata": {},
     "output_type": "execute_result"
    }
   ],
   "source": [
    "''.join([ind2py[i] for i in batch_translation[-1]])"
   ]
  },
  {
   "cell_type": "code",
   "execution_count": 102,
   "metadata": {
    "collapsed": false
   },
   "outputs": [
    {
     "data": {
      "text/plain": [
       "0.00075"
      ]
     },
     "execution_count": 102,
     "metadata": {},
     "output_type": "execute_result"
    }
   ],
   "source": [
    "batch_lr"
   ]
  },
  {
   "cell_type": "code",
   "execution_count": null,
   "metadata": {
    "collapsed": true
   },
   "outputs": [],
   "source": [
    "with graph.as_default():\n",
    "    config = tf.ConfigProto()\n",
    "    config.gpu_options.allow_growth = True\n",
    "    config.allow_soft_placement = True\n",
    "    sess = tf.Session(config=config)\n",
    "    \n",
    "    sess.run(tf.global_variables_initializer())\n",
    "    tf.train.global_step(sess, global_step)"
   ]
  },
  {
   "cell_type": "code",
   "execution_count": 104,
   "metadata": {
    "collapsed": false
   },
   "outputs": [
    {
     "data": {
      "text/plain": [
       "(64, 56)"
      ]
     },
     "execution_count": 104,
     "metadata": {},
     "output_type": "execute_result"
    }
   ],
   "source": [
    "batch_target.shape"
   ]
  },
  {
   "cell_type": "code",
   "execution_count": 116,
   "metadata": {
    "collapsed": false
   },
   "outputs": [],
   "source": [
    "batch_lr = 3e-3 * 2 ** -(max(1-10 + 1,0) // 2)\n",
    "batch_x,batch_y,_,__,batch_voicelen = voice_flow_train.next_batch(BATCH_SIZE * gpu_num)\n",
    "batch_y = chind2pyind(batch_y)\n",
    "batch_x = np.nan_to_num(batch_x,0)\n",
    "batch_x = alignx(batch_x[:,:,:,0])\n",
    "batch_target = arr2target(batch_y)\n",
    "batch_yin = arr2input(batch_y)\n",
    "batch_ylen = [batch_target.shape[1]] * (BATCH_SIZE * gpu_num)\n",
    "batch_yreallen = addone([len(i) for i in batch_y])\n",
    "feeddic = {\n",
    "    input_sound: batch_x,\n",
    "    #targetsall:batch_target,\n",
    "    #y_in:batch_yin,\n",
    "    #y_len:batch_ylen,\n",
    "    #y_real_len:batch_yreallen,\n",
    "    voicelength:batch_voicelen,\n",
    "    #learning_rate:batch_lr,\n",
    "    #training:True,\n",
    "}"
   ]
  },
  {
   "cell_type": "code",
   "execution_count": 106,
   "metadata": {
    "collapsed": false
   },
   "outputs": [
    {
     "data": {
      "text/plain": [
       "0.003"
      ]
     },
     "execution_count": 106,
     "metadata": {},
     "output_type": "execute_result"
    }
   ],
   "source": [
    "batch_lr"
   ]
  },
  {
   "cell_type": "code",
   "execution_count": 107,
   "metadata": {
    "collapsed": false
   },
   "outputs": [
    {
     "data": {
      "text/plain": [
       "<matplotlib.image.AxesImage at 0x7f6ab92bdba8>"
      ]
     },
     "execution_count": 107,
     "metadata": {},
     "output_type": "execute_result"
    },
    {
     "data": {
      "image/png": "[encoded data removed]",
      "text/plain": [
       "<matplotlib.figure.Figure at 0x7f6ab92e0710>"
      ]
     },
     "metadata": {},
     "output_type": "display_data"
    }
   ],
   "source": [
    "plt.imshow(batch_x[0])"
   ]
  },
  {
   "cell_type": "code",
   "execution_count": 108,
   "metadata": {
    "collapsed": false
   },
   "outputs": [
    {
     "data": {
      "text/plain": [
       "'shì shāng jiā xìn yù hé pǐn dé de wèn tí<eos><eos><eos><eos><eos><eos><eos><eos><eos><eos><eos><eos><eos><eos><eos><eos><eos><eos><eos><eos><eos><eos><eos><eos><eos><eos><eos><eos>'"
      ]
     },
     "execution_count": 108,
     "metadata": {},
     "output_type": "execute_result"
    }
   ],
   "source": [
    "''.join([ind2py[i] for i in batch_target[0]])"
   ]
  },
  {
   "cell_type": "code",
   "execution_count": 71,
   "metadata": {
    "collapsed": false
   },
   "outputs": [
    {
     "data": {
      "text/plain": [
       "'<go>háo mǐ<eos><eos><eos><eos><eos><eos><eos><eos><eos><eos><eos><eos><eos><eos><eos><eos><eos><eos><eos><eos><eos><eos><eos><eos><eos><eos><eos><eos><eos><eos><eos><eos><eos><eos><eos><eos>'"
      ]
     },
     "execution_count": 71,
     "metadata": {},
     "output_type": "execute_result"
    }
   ],
   "source": [
    "''.join([ind2py[i] for i in batch_yin[0]])"
   ]
  },
  {
   "cell_type": "code",
   "execution_count": 73,
   "metadata": {
    "collapsed": false
   },
   "outputs": [
    {
     "data": {
      "text/plain": [
       "(43, 7)"
      ]
     },
     "execution_count": 73,
     "metadata": {},
     "output_type": "execute_result"
    }
   ],
   "source": [
    "batch_ylen[0],batch_yreallen[0]"
   ]
  },
  {
   "cell_type": "code",
   "execution_count": 63,
   "metadata": {
    "collapsed": true
   },
   "outputs": [],
   "source": [
    "feeddic[learning_rate] = 3e-4"
   ]
  },
  {
   "cell_type": "code",
   "execution_count": 83,
   "metadata": {
    "collapsed": false
   },
   "outputs": [
    {
     "data": {
      "text/plain": [
       "0.003"
      ]
     },
     "execution_count": 83,
     "metadata": {},
     "output_type": "execute_result"
    }
   ],
   "source": [
    "batch_lr"
   ]
  },
  {
   "cell_type": "code",
   "execution_count": 66,
   "metadata": {
    "collapsed": false
   },
   "outputs": [
    {
     "data": {
      "text/plain": [
       "(64, 161, 344)"
      ]
     },
     "execution_count": 66,
     "metadata": {},
     "output_type": "execute_result"
    }
   ],
   "source": [
    "batch_x.shape"
   ]
  },
  {
   "cell_type": "code",
   "execution_count": 120,
   "metadata": {
    "collapsed": false
   },
   "outputs": [
    {
     "data": {
      "text/plain": [
       "'yǐ jīng zài shàng hǎi bǎo jiān huì tōng guò'"
      ]
     },
     "execution_count": 120,
     "metadata": {},
     "output_type": "execute_result"
    }
   ],
   "source": [
    "''.join([ind2py[i] for i in batch_y[-1]])"
   ]
  },
  {
   "cell_type": "code",
   "execution_count": 117,
   "metadata": {
    "collapsed": false
   },
   "outputs": [
    {
     "data": {
      "text/plain": [
       "'zhè yě shì yī xiàn chéng shì de shì chǎng de shì chǎng de shì chǎng de shì chǎng<eos>'"
      ]
     },
     "execution_count": 117,
     "metadata": {},
     "output_type": "execute_result"
    }
   ],
   "source": [
    "''.join([ind2py[i] for i in sess.run(translations,feed_dict=feeddic)[-1]])"
   ]
  },
  {
   "cell_type": "code",
   "execution_count": 183,
   "metadata": {
    "collapsed": false
   },
   "outputs": [
    {
     "data": {
      "text/plain": [
       "(32, 296, 256)"
      ]
     },
     "execution_count": 183,
     "metadata": {},
     "output_type": "execute_result"
    }
   ],
   "source": [
    "sess.run(rnn_out,feed_dict=feeddic).shape"
   ]
  },
  {
   "cell_type": "code",
   "execution_count": 228,
   "metadata": {
    "collapsed": false
   },
   "outputs": [
    {
     "name": "stdout",
     "output_type": "stream",
     "text": [
      "163.153\n",
      "162.553\n",
      "161.009\n",
      "157.616\n",
      "151.842\n"
     ]
    },
    {
     "ename": "KeyboardInterrupt",
     "evalue": "",
     "output_type": "error",
     "traceback": [
      "\u001b[0;31m---------------------------------------------------------------------------\u001b[0m",
      "\u001b[0;31mKeyboardInterrupt\u001b[0m                         Traceback (most recent call last)",
      "\u001b[0;32m<ipython-input-228-a02b29c7bbec>\u001b[0m in \u001b[0;36m<module>\u001b[0;34m()\u001b[0m\n\u001b[1;32m      1\u001b[0m \u001b[0;32mfor\u001b[0m \u001b[0mi\u001b[0m \u001b[0;32min\u001b[0m \u001b[0mrange\u001b[0m\u001b[0;34m(\u001b[0m\u001b[0;36m100\u001b[0m\u001b[0;34m)\u001b[0m\u001b[0;34m:\u001b[0m\u001b[0;34m\u001b[0m\u001b[0m\n\u001b[0;32m----> 2\u001b[0;31m     \u001b[0msess\u001b[0m\u001b[0;34m.\u001b[0m\u001b[0mrun\u001b[0m\u001b[0;34m(\u001b[0m\u001b[0mtrain_op\u001b[0m\u001b[0;34m,\u001b[0m\u001b[0mfeed_dict\u001b[0m\u001b[0;34m=\u001b[0m\u001b[0mfeeddic\u001b[0m\u001b[0;34m)\u001b[0m\u001b[0;34m\u001b[0m\u001b[0m\n\u001b[0m\u001b[1;32m      3\u001b[0m     \u001b[0mprint\u001b[0m\u001b[0;34m(\u001b[0m\u001b[0msess\u001b[0m\u001b[0;34m.\u001b[0m\u001b[0mrun\u001b[0m\u001b[0;34m(\u001b[0m\u001b[0mtrain_loss\u001b[0m\u001b[0;34m,\u001b[0m\u001b[0mfeed_dict\u001b[0m\u001b[0;34m=\u001b[0m\u001b[0mfeeddic\u001b[0m\u001b[0;34m)\u001b[0m\u001b[0;34m)\u001b[0m\u001b[0;34m\u001b[0m\u001b[0m\n",
      "\u001b[0;32m/data/zonghua/envs/icybee/lib/python3.5/site-packages/tensorflow/python/client/session.py\u001b[0m in \u001b[0;36mrun\u001b[0;34m(self, fetches, feed_dict, options, run_metadata)\u001b[0m\n\u001b[1;32m    787\u001b[0m     \u001b[0;32mtry\u001b[0m\u001b[0;34m:\u001b[0m\u001b[0;34m\u001b[0m\u001b[0m\n\u001b[1;32m    788\u001b[0m       result = self._run(None, fetches, feed_dict, options_ptr,\n\u001b[0;32m--> 789\u001b[0;31m                          run_metadata_ptr)\n\u001b[0m\u001b[1;32m    790\u001b[0m       \u001b[0;32mif\u001b[0m \u001b[0mrun_metadata\u001b[0m\u001b[0;34m:\u001b[0m\u001b[0;34m\u001b[0m\u001b[0m\n\u001b[1;32m    791\u001b[0m         \u001b[0mproto_data\u001b[0m \u001b[0;34m=\u001b[0m \u001b[0mtf_session\u001b[0m\u001b[0;34m.\u001b[0m\u001b[0mTF_GetBuffer\u001b[0m\u001b[0;34m(\u001b[0m\u001b[0mrun_metadata_ptr\u001b[0m\u001b[0;34m)\u001b[0m\u001b[0;34m\u001b[0m\u001b[0m\n",
      "\u001b[0;32m/data/zonghua/envs/icybee/lib/python3.5/site-packages/tensorflow/python/client/session.py\u001b[0m in \u001b[0;36m_run\u001b[0;34m(self, handle, fetches, feed_dict, options, run_metadata)\u001b[0m\n\u001b[1;32m    995\u001b[0m     \u001b[0;32mif\u001b[0m \u001b[0mfinal_fetches\u001b[0m \u001b[0;32mor\u001b[0m \u001b[0mfinal_targets\u001b[0m\u001b[0;34m:\u001b[0m\u001b[0;34m\u001b[0m\u001b[0m\n\u001b[1;32m    996\u001b[0m       results = self._do_run(handle, final_targets, final_fetches,\n\u001b[0;32m--> 997\u001b[0;31m                              feed_dict_string, options, run_metadata)\n\u001b[0m\u001b[1;32m    998\u001b[0m     \u001b[0;32melse\u001b[0m\u001b[0;34m:\u001b[0m\u001b[0;34m\u001b[0m\u001b[0m\n\u001b[1;32m    999\u001b[0m       \u001b[0mresults\u001b[0m \u001b[0;34m=\u001b[0m \u001b[0;34m[\u001b[0m\u001b[0;34m]\u001b[0m\u001b[0;34m\u001b[0m\u001b[0m\n",
      "\u001b[0;32m/data/zonghua/envs/icybee/lib/python3.5/site-packages/tensorflow/python/client/session.py\u001b[0m in \u001b[0;36m_do_run\u001b[0;34m(self, handle, target_list, fetch_list, feed_dict, options, run_metadata)\u001b[0m\n\u001b[1;32m   1130\u001b[0m     \u001b[0;32mif\u001b[0m \u001b[0mhandle\u001b[0m \u001b[0;32mis\u001b[0m \u001b[0;32mNone\u001b[0m\u001b[0;34m:\u001b[0m\u001b[0;34m\u001b[0m\u001b[0m\n\u001b[1;32m   1131\u001b[0m       return self._do_call(_run_fn, self._session, feed_dict, fetch_list,\n\u001b[0;32m-> 1132\u001b[0;31m                            target_list, options, run_metadata)\n\u001b[0m\u001b[1;32m   1133\u001b[0m     \u001b[0;32melse\u001b[0m\u001b[0;34m:\u001b[0m\u001b[0;34m\u001b[0m\u001b[0m\n\u001b[1;32m   1134\u001b[0m       return self._do_call(_prun_fn, self._session, handle, feed_dict,\n",
      "\u001b[0;32m/data/zonghua/envs/icybee/lib/python3.5/site-packages/tensorflow/python/client/session.py\u001b[0m in \u001b[0;36m_do_call\u001b[0;34m(self, fn, *args)\u001b[0m\n\u001b[1;32m   1137\u001b[0m   \u001b[0;32mdef\u001b[0m \u001b[0m_do_call\u001b[0m\u001b[0;34m(\u001b[0m\u001b[0mself\u001b[0m\u001b[0;34m,\u001b[0m \u001b[0mfn\u001b[0m\u001b[0;34m,\u001b[0m \u001b[0;34m*\u001b[0m\u001b[0margs\u001b[0m\u001b[0;34m)\u001b[0m\u001b[0;34m:\u001b[0m\u001b[0;34m\u001b[0m\u001b[0m\n\u001b[1;32m   1138\u001b[0m     \u001b[0;32mtry\u001b[0m\u001b[0;34m:\u001b[0m\u001b[0;34m\u001b[0m\u001b[0m\n\u001b[0;32m-> 1139\u001b[0;31m       \u001b[0;32mreturn\u001b[0m \u001b[0mfn\u001b[0m\u001b[0;34m(\u001b[0m\u001b[0;34m*\u001b[0m\u001b[0margs\u001b[0m\u001b[0;34m)\u001b[0m\u001b[0;34m\u001b[0m\u001b[0m\n\u001b[0m\u001b[1;32m   1140\u001b[0m     \u001b[0;32mexcept\u001b[0m \u001b[0merrors\u001b[0m\u001b[0;34m.\u001b[0m\u001b[0mOpError\u001b[0m \u001b[0;32mas\u001b[0m \u001b[0me\u001b[0m\u001b[0;34m:\u001b[0m\u001b[0;34m\u001b[0m\u001b[0m\n\u001b[1;32m   1141\u001b[0m       \u001b[0mmessage\u001b[0m \u001b[0;34m=\u001b[0m \u001b[0mcompat\u001b[0m\u001b[0;34m.\u001b[0m\u001b[0mas_text\u001b[0m\u001b[0;34m(\u001b[0m\u001b[0me\u001b[0m\u001b[0;34m.\u001b[0m\u001b[0mmessage\u001b[0m\u001b[0;34m)\u001b[0m\u001b[0;34m\u001b[0m\u001b[0m\n",
      "\u001b[0;32m/data/zonghua/envs/icybee/lib/python3.5/site-packages/tensorflow/python/client/session.py\u001b[0m in \u001b[0;36m_run_fn\u001b[0;34m(session, feed_dict, fetch_list, target_list, options, run_metadata)\u001b[0m\n\u001b[1;32m   1119\u001b[0m         return tf_session.TF_Run(session, options,\n\u001b[1;32m   1120\u001b[0m                                  \u001b[0mfeed_dict\u001b[0m\u001b[0;34m,\u001b[0m \u001b[0mfetch_list\u001b[0m\u001b[0;34m,\u001b[0m \u001b[0mtarget_list\u001b[0m\u001b[0;34m,\u001b[0m\u001b[0;34m\u001b[0m\u001b[0m\n\u001b[0;32m-> 1121\u001b[0;31m                                  status, run_metadata)\n\u001b[0m\u001b[1;32m   1122\u001b[0m \u001b[0;34m\u001b[0m\u001b[0m\n\u001b[1;32m   1123\u001b[0m     \u001b[0;32mdef\u001b[0m \u001b[0m_prun_fn\u001b[0m\u001b[0;34m(\u001b[0m\u001b[0msession\u001b[0m\u001b[0;34m,\u001b[0m \u001b[0mhandle\u001b[0m\u001b[0;34m,\u001b[0m \u001b[0mfeed_dict\u001b[0m\u001b[0;34m,\u001b[0m \u001b[0mfetch_list\u001b[0m\u001b[0;34m)\u001b[0m\u001b[0;34m:\u001b[0m\u001b[0;34m\u001b[0m\u001b[0m\n",
      "\u001b[0;31mKeyboardInterrupt\u001b[0m: "
     ]
    }
   ],
   "source": [
    "for i in range(100):\n",
    "    sess.run(train_op,feed_dict=feeddic)\n",
    "    print(sess.run(train_loss,feed_dict=feeddic))"
   ]
  },
  {
   "cell_type": "code",
   "execution_count": 98,
   "metadata": {
    "collapsed": false
   },
   "outputs": [
    {
     "data": {
      "text/plain": [
       "(64, 161, 288)"
      ]
     },
     "execution_count": 98,
     "metadata": {},
     "output_type": "execute_result"
    }
   ],
   "source": [
    "batch_x.shape"
   ]
  },
  {
   "cell_type": "code",
   "execution_count": null,
   "metadata": {
    "collapsed": true
   },
   "outputs": [],
   "source": [
    "batch_xx,batch_y_ori1,s1,a1,t1 = voice_flow_train.next(1)['data']"
   ]
  },
  {
   "cell_type": "code",
   "execution_count": null,
   "metadata": {
    "collapsed": false
   },
   "outputs": [],
   "source": [
    "batch_xx.shape,BATCH_SIZE"
   ]
  },
  {
   "cell_type": "code",
   "execution_count": null,
   "metadata": {
    "collapsed": false
   },
   "outputs": [],
   "source": [
    "start = time.time()\n",
    "step_dis,step_loss,step_value = sess.run(\n",
    "                    [dis,loss,global_step],feed_dict=feeddic)\n",
    "print(time.time() - start)"
   ]
  },
  {
   "cell_type": "code",
   "execution_count": null,
   "metadata": {
    "collapsed": false
   },
   "outputs": [],
   "source": [
    "DECAY_EPOCH = 10\n",
    "begining_learning_rate = BEGINING_LEARNING_RATE\n",
    "for one_epoch in range(1,30):\n",
    "    print(begining_learning_rate * 2 ** -(max(one_epoch-DECAY_EPOCH,0)))"
   ]
  },
  {
   "cell_type": "code",
   "execution_count": null,
   "metadata": {
    "collapsed": false
   },
   "outputs": [],
   "source": [
    "1"
   ]
  },
  {
   "cell_type": "code",
   "execution_count": null,
   "metadata": {
    "collapsed": true
   },
   "outputs": [],
   "source": []
  }
 ],
 "metadata": {
  "anaconda-cloud": {},
  "kernelspec": {
   "display_name": "icybee_Python_3",
   "language": "python",
   "name": "icybee_python_3"
  },
  "language_info": {
   "codemirror_mode": {
    "name": "ipython",
    "version": 3
   },
   "file_extension": ".py",
   "mimetype": "text/x-python",
   "name": "python",
   "nbconvert_exporter": "python",
   "pygments_lexer": "ipython3",
   "version": "3.5.2"
  }
 },
 "nbformat": 4,
 "nbformat_minor": 1
}
