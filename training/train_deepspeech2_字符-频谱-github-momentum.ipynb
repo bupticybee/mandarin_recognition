{
 "cells": [
  {
   "cell_type": "markdown",
   "metadata": {},
   "source": [
    "# try to implement  \n",
    "## \"Towards End-to-End Speech Recognition with Deep Convolutional Neural Networks\""
   ]
  },
  {
   "cell_type": "code",
   "execution_count": 1,
   "metadata": {
    "collapsed": false
   },
   "outputs": [
    {
     "name": "stdout",
     "output_type": "stream",
     "text": [
      "Mon Feb  5 14:03:15 2018       \n",
      "+-----------------------------------------------------------------------------+\n",
      "| NVIDIA-SMI 384.111                Driver Version: 384.111                   |\n",
      "|-------------------------------+----------------------+----------------------+\n",
      "| GPU  Name        Persistence-M| Bus-Id        Disp.A | Volatile Uncorr. ECC |\n",
      "| Fan  Temp  Perf  Pwr:Usage/Cap|         Memory-Usage | GPU-Util  Compute M. |\n",
      "|===============================+======================+======================|\n",
      "|   0  Tesla K80           Off  | 00000000:04:00.0 Off |                    0 |\n",
      "| N/A   44C    P0    58W / 149W |    473MiB / 11439MiB |      0%      Default |\n",
      "+-------------------------------+----------------------+----------------------+\n",
      "|   1  Tesla K80           Off  | 00000000:05:00.0 Off |                    0 |\n",
      "| N/A   36C    P0    71W / 149W |    141MiB / 11439MiB |      0%      Default |\n",
      "+-------------------------------+----------------------+----------------------+\n",
      "|   2  Tesla K80           Off  | 00000000:08:00.0 Off |                    0 |\n",
      "| N/A   42C    P0    55W / 149W |    141MiB / 11439MiB |      0%      Default |\n",
      "+-------------------------------+----------------------+----------------------+\n",
      "|   3  Tesla K80           Off  | 00000000:09:00.0 Off |                    0 |\n",
      "| N/A   33C    P0    70W / 149W |    141MiB / 11439MiB |      0%      Default |\n",
      "+-------------------------------+----------------------+----------------------+\n",
      "|   4  Tesla K80           Off  | 00000000:85:00.0 Off |                    0 |\n",
      "| N/A   45C    P0    56W / 149W |   4275MiB / 11439MiB |      0%      Default |\n",
      "+-------------------------------+----------------------+----------------------+\n",
      "|   5  Tesla K80           Off  | 00000000:86:00.0 Off |                    0 |\n",
      "| N/A   40C    P0   151W / 149W |   5329MiB / 11439MiB |    100%      Default |\n",
      "+-------------------------------+----------------------+----------------------+\n",
      "|   6  Tesla K80           Off  | 00000000:89:00.0 Off |                    0 |\n",
      "| N/A   48C    P0   146W / 149W |   4945MiB / 11439MiB |    100%      Default |\n",
      "+-------------------------------+----------------------+----------------------+\n",
      "|   7  Tesla K80           Off  | 00000000:8A:00.0 Off |                    0 |\n",
      "| N/A   33C    P0    72W / 149W |   4275MiB / 11439MiB |      0%      Default |\n",
      "+-------------------------------+----------------------+----------------------+\n"
     ]
    }
   ],
   "source": [
    "!nvidia-smi | head -n 31"
   ]
  },
  {
   "cell_type": "code",
   "execution_count": 2,
   "metadata": {
    "collapsed": true
   },
   "outputs": [],
   "source": [
    "\n",
    "SAMPLE_RATE = 16000\n",
    "WINDOW_SIZE = .02\n",
    "WINDOW_STRIDE = .01\n",
    "WINDOW = 'hamming'\n",
    "\n",
    "HIDDEN_LAYERS = 5\n",
    "#RNN_TYPE = supported_rnns['gru']\n",
    "BIDIRECTIONAL = True\n",
    "\n",
    "BEGINING_LEARNING_RATE = 3e-4\n",
    "MOMENTUM = 0.9\n",
    "MAX_NORM = 3\n",
    "#LABELS = ''.join(data_utils.LABELS)\n",
    "BATCH_SIZE = 16\n",
    "\n",
    "\n",
    "GPU_CORES = [0,1]\n",
    "RNN_SIZE = 400#768\n",
    "MODEL_NAME = \"2_5-char\"\n",
    "#audio_conf = dict(sample_rate=SAMPLE_RATE,\n",
    "#                  window_size=WINDOW_SIZE,\n",
    "#                  window_stride=WINDOW_STRIDE,\n",
    "#                  window=WINDOW,\n",
    "#                )"
   ]
  },
  {
   "cell_type": "code",
   "execution_count": 3,
   "metadata": {
    "collapsed": true
   },
   "outputs": [],
   "source": [
    "#import os\n",
    "#os.environ[\"CUDA_VISIBLE_DEVICES\"] = \",\".join([str(i) for i in GPU_CORES])"
   ]
  },
  {
   "cell_type": "code",
   "execution_count": 4,
   "metadata": {
    "collapsed": false
   },
   "outputs": [],
   "source": [
    "%load_ext autoreload\n",
    "%autoreload 2\n",
    "import sys\n",
    "sys.path.append('../common/')\n",
    "import data_utils\n",
    "import utils\n",
    "from utils import Dataset,ProgressBar\n",
    "import tflearn\n",
    "from tflearn.data_flow import DataFlow,DataFlowStatus,FeedDictFlow\n",
    "#from model import DeepSpeech,supported_rnns\n",
    "from matplotlib import pyplot as plt\n",
    "%matplotlib inline\n",
    "import numpy as np\n",
    "import tensorflow as tf\n",
    "#import sugartensor as tf\n",
    "import re\n",
    "import time"
   ]
  },
  {
   "cell_type": "code",
   "execution_count": 5,
   "metadata": {
    "collapsed": false
   },
   "outputs": [
    {
     "data": {
      "text/plain": [
       "6"
      ]
     },
     "execution_count": 5,
     "metadata": {},
     "output_type": "execute_result"
    }
   ],
   "source": [
    "np.zeros([3,2]).size"
   ]
  },
  {
   "cell_type": "markdown",
   "metadata": {
    "collapsed": true
   },
   "source": [
    "## The implemention of pytorch's DataLoader is not competiable with tflearn's DataFlow\n",
    "```python\n",
    "train_loader = data_utils.AudioDataLoader(\n",
    "    data_utils.SpectrogramDataset(manifest_filepath='./data/ted_train_manifest_fix.csv')\n",
    "    ,batch_size=16,shuffle=True)\n",
    "\n",
    "test_loader = data_utils.AudioDataLoader(\n",
    "    data_utils.SpectrogramDataset(manifest_filepath='./data/ted_test_manifest_fix.csv')\n",
    "    ,batch_size=16,shuffle=True)\n",
    "```"
   ]
  },
  {
   "cell_type": "code",
   "execution_count": 6,
   "metadata": {
    "collapsed": true
   },
   "outputs": [],
   "source": [
    "import pickle\n",
    "with open('../data/dics.pkl','rb') as fhdl:\n",
    "    ch2ind,ind2ch = pickle.load(fhdl)"
   ]
  },
  {
   "cell_type": "code",
   "execution_count": 7,
   "metadata": {
    "collapsed": true
   },
   "outputs": [],
   "source": [
    "import flow_tools"
   ]
  },
  {
   "cell_type": "markdown",
   "metadata": {},
   "source": [
    "# CONFIG"
   ]
  },
  {
   "cell_type": "code",
   "execution_count": 8,
   "metadata": {
    "collapsed": true
   },
   "outputs": [],
   "source": [
    "#voice_dataset_train = data_utils.VoicesFlow(manifest_filepath='./data/ted_train_manifest_fix.csv')\n",
    "#voice_flow_train = data_utils.get_flow(voice_dataset_train,shuffle=True,batch_size=BATCH_SIZE)\n",
    "#\n",
    "#voice_dataset_test = data_utils.VoicesFlow(manifest_filepath='./data/ted_test_manifest_fix.csv')\n",
    "#voice_flow_test = data_utils.get_flow(voice_dataset_test,shuffle=False,batch_size=BATCH_SIZE)\n",
    "\n",
    "voice_dataset_train = data_utils.VoicesFlow(manifest_filepath='../data/csvs/train_len.csv',mfcc=False,phon=False,labels=list(ch2ind.keys()),ch2ind=ch2ind,ind2ch=ind2ch)#,phm_dict_file='./data/TEDLIUM_release1/TEDLIUM.150K.dic')\n",
    "voice_flow_train = utils.SortedEfficientFlowWrapper(voice_dataset_train,batch_size=BATCH_SIZE,shuffle=False)\n",
    "\n",
    "voice_dataset_test = data_utils.VoicesFlow(manifest_filepath='../data/csvs/dev_len.csv',mfcc=False,phon=False,labels=list(ch2ind.keys()),ch2ind=ch2ind,ind2ch=ind2ch)#,phm_dict_file='./data/TEDLIUM_release1/TEDLIUM.150K.dic')\n",
    "voice_flow_test = utils.SortedEfficientFlowWrapper(voice_dataset_test,batch_size=BATCH_SIZE,shuffle=False)"
   ]
  },
  {
   "cell_type": "code",
   "execution_count": 9,
   "metadata": {
    "collapsed": false
   },
   "outputs": [
    {
     "name": "stdout",
     "output_type": "stream",
     "text": [
      "shuffle\n",
      "shuffle\n"
     ]
    }
   ],
   "source": [
    "voice_flow_train_shu = utils.SortedEfficientFlowWrapper(voice_dataset_train,batch_size=BATCH_SIZE,shuffle=True)\n",
    "voice_flow_test_shu = utils.SortedEfficientFlowWrapper(voice_dataset_test,batch_size=BATCH_SIZE,shuffle=True)"
   ]
  },
  {
   "cell_type": "code",
   "execution_count": 10,
   "metadata": {
    "collapsed": true
   },
   "outputs": [],
   "source": [
    "import sys"
   ]
  },
  {
   "cell_type": "code",
   "execution_count": 11,
   "metadata": {
    "collapsed": false
   },
   "outputs": [
    {
     "data": {
      "text/plain": [
       "(119338, 14326)"
      ]
     },
     "execution_count": 11,
     "metadata": {},
     "output_type": "execute_result"
    }
   ],
   "source": [
    "len(voice_dataset_train),len(voice_dataset_test)"
   ]
  },
  {
   "cell_type": "code",
   "execution_count": 12,
   "metadata": {
    "collapsed": true
   },
   "outputs": [],
   "source": [
    "from utils import Dataset"
   ]
  },
  {
   "cell_type": "code",
   "execution_count": 13,
   "metadata": {
    "collapsed": false
   },
   "outputs": [],
   "source": [
    "a,b,c,d,e = voice_flow_train.next_batch(BATCH_SIZE)"
   ]
  },
  {
   "cell_type": "code",
   "execution_count": 14,
   "metadata": {
    "collapsed": false
   },
   "outputs": [
    {
     "data": {
      "text/plain": [
       "['娱', '乐', '频', '道']"
      ]
     },
     "execution_count": 14,
     "metadata": {},
     "output_type": "execute_result"
    }
   ],
   "source": [
    "[ind2ch[i] for i in b[0]]"
   ]
  },
  {
   "cell_type": "code",
   "execution_count": 15,
   "metadata": {
    "collapsed": false
   },
   "outputs": [
    {
     "data": {
      "text/plain": [
       "(16, 161, 155, 1)"
      ]
     },
     "execution_count": 15,
     "metadata": {},
     "output_type": "execute_result"
    }
   ],
   "source": [
    "a.shape"
   ]
  },
  {
   "cell_type": "code",
   "execution_count": 16,
   "metadata": {
    "collapsed": false
   },
   "outputs": [
    {
     "name": "stdout",
     "output_type": "stream",
     "text": [
      "你有苹果吗\n",
      "../data/data_aishell/wav_uncompress/train/S0144/BAC009S0144W0217.wav\n",
      "../data/transcript/BAC009S0144W0217.txt\n",
      "135\n"
     ]
    },
    {
     "data": {
      "image/png": "[encoded data removed]",
      "text/plain": [
       "<matplotlib.figure.Figure at 0x7f61520870b8>"
      ]
     },
     "metadata": {},
     "output_type": "display_data"
    }
   ],
   "source": [
    "index = 3\n",
    "#plt.figure(figsize=(30,50))\n",
    "plt.imshow(a[index,:,:,0])\n",
    "plt.title(''.join(ind2ch[i] for i in b[index]))\n",
    "print(''.join(ind2ch[i] for i in b[index]))\n",
    "print(c[index])\n",
    "print(d[index])\n",
    "print(e[index])"
   ]
  },
  {
   "cell_type": "code",
   "execution_count": 17,
   "metadata": {
    "collapsed": true
   },
   "outputs": [],
   "source": [
    "import IPython.display as ipd"
   ]
  },
  {
   "cell_type": "code",
   "execution_count": 18,
   "metadata": {
    "collapsed": false
   },
   "outputs": [
    {
     "name": "stdout",
     "output_type": "stream",
     "text": [
      "你有苹果吗\n"
     ]
    },
    {
     "data": {
      "text/html": [
       "\n",
       "                <audio controls=\"controls\" >\n",
       "                    <source src=\"data:audio/x-wav;base64,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\" type=\"audio/x-wav\" />\n",
       "                    Your browser does not support the audio element.\n",
       "                </audio>\n",
       "              "
      ],
      "text/plain": [
       "<IPython.lib.display.Audio object>"
      ]
     },
     "execution_count": 18,
     "metadata": {},
     "output_type": "execute_result"
    }
   ],
   "source": [
    "print(open(d[index],encoding='utf-8').read())\n",
    "ipd.Audio(c[index])"
   ]
  },
  {
   "cell_type": "markdown",
   "metadata": {},
   "source": [
    "# convert data to numpy format"
   ]
  },
  {
   "cell_type": "code",
   "execution_count": 19,
   "metadata": {
    "collapsed": true
   },
   "outputs": [],
   "source": [
    "#转化一个序列列表为稀疏矩阵    \n",
    "def sparse_tuple_from(sequences, dtype=np.int32):\n",
    "    \"\"\"\n",
    "    Create a sparse representention of x.\n",
    "    Args:\n",
    "        sequences: a list of lists of type dtype where each element is a sequence\n",
    "    Returns:\n",
    "        A tuple with (indices, values, shape)\n",
    "    \"\"\"\n",
    "    indices = []\n",
    "    values = []\n",
    "    \n",
    "    for n, seq in enumerate(sequences):\n",
    "        indices.extend(zip([n] * len(seq), range(len(seq))))\n",
    "        values.extend(seq)\n",
    " \n",
    "    indices = np.asarray(indices, dtype=np.int64)\n",
    "    values = np.asarray(values, dtype=dtype)\n",
    "    shape = np.asarray([len(sequences), np.asarray(indices).max(0)[1] + 1], dtype=np.int64)\n",
    "    \n",
    "    \n",
    "    return indices, values, shape"
   ]
  },
  {
   "cell_type": "code",
   "execution_count": 20,
   "metadata": {
    "collapsed": false
   },
   "outputs": [
    {
     "data": {
      "text/plain": [
       "'1.2.1'"
      ]
     },
     "execution_count": 20,
     "metadata": {},
     "output_type": "execute_result"
    }
   ],
   "source": [
    "tf.__version__"
   ]
  },
  {
   "cell_type": "code",
   "execution_count": 21,
   "metadata": {
    "collapsed": true
   },
   "outputs": [],
   "source": [
    "def conv_layer(input_tensor,training,kernel_size=(3,3),filters=32,dropout=None\n",
    "               ,clip_net=20.,batch_normalization=True,strides=(1,1,1,1),name=\"conv_layer\"):\n",
    "    with tf.variable_scope(name):\n",
    "        net = tf.layers.conv2d(input_tensor,filters=filters,kernel_size=kernel_size,padding='same',strides=strides)\n",
    "        if batch_normalization:\n",
    "            net = tf.layers.batch_normalization(net,training=training)\n",
    "        if dropout is not None:\n",
    "            net = tf.layers.dropout(net,dropout=1.-dropout)\n",
    "        net = tf.nn.relu(net)\n",
    "    with tf.variable_scope(\"minimal\"):\n",
    "        if clip_net is not None and clip_net != False and clip_net > 0:\n",
    "            net = tf.minimum(net,tf.constant(clip_net))\n",
    "    return net\n",
    "\n",
    "def rnn_layer(input_tensor,layer_num,rnn_seq_lens,rnn_size,training,name=\"rnn_layer\"):\n",
    "    \"\"\"\n",
    "        input should be like [batch_size,time,freq * filters]\n",
    "    \"\"\"\n",
    "    with tf.variable_scope(name):\n",
    "        net = input_tensor\n",
    "        for i in range(layer_num):\n",
    "            with tf.variable_scope(\"{}_layer{}\".format(name,i + 1)):\n",
    "                forward_cell = tf.contrib.rnn.GRUCell(rnn_size)\n",
    "                backward_cell = tf.contrib.rnn.GRUCell(rnn_size)\n",
    "            #bi_outputs, bi_encoder_state,_ = tf.contrib.rnn.static_bidirectional_rnn(\n",
    "            #        forward_cell,backward_cell,tf.unstack(net,net_shape[1],1),dtype=tf.float32)\n",
    "\n",
    "                bi_outputs, bi_encoder_state = tf.nn.bidirectional_dynamic_rnn(\n",
    "                            forward_cell, backward_cell, net,\n",
    "                            sequence_length = rnn_seq_lens,time_major = False,dtype=tf.float32)\n",
    "                outputs_fw, outputs_bw = bi_outputs\n",
    "                rnn_outputs = outputs_fw + outputs_bw\n",
    "                rnn_outputs = tf.layers.batch_normalization(rnn_outputs, training=training)\n",
    "                net = rnn_outputs\n",
    "        return net\n",
    "    \n",
    "\n",
    "def _activation_summary(act,tensor_name):\n",
    "    \"\"\"Helper to create summaries for activations.\n",
    "    Creates a summary that provides a histogram of activations.\n",
    "    Creates a summary that measure the sparsity of activations.\n",
    "    Args:\n",
    "      act: Tensor\n",
    "    \"\"\"\n",
    "    # Remove 'tower_[0-9]/' from the name in case this is a multi-GPU training\n",
    "    # session. This helps the clarity of presentation on tensorboard.\n",
    "    tf.summary.histogram(tensor_name + '/activations', act)\n",
    "    tf.summary.scalar(tensor_name + '/sparsity', tf.nn.zero_fraction(act))\n",
    "    \n",
    "def _image_summary(img,tensor_name):\n",
    "    tf.summary.image(tensor_name,img)"
   ]
  },
  {
   "cell_type": "code",
   "execution_count": 22,
   "metadata": {
    "collapsed": false
   },
   "outputs": [
    {
     "data": {
      "text/plain": [
       "[2]"
      ]
     },
     "execution_count": 22,
     "metadata": {},
     "output_type": "execute_result"
    }
   ],
   "source": [
    "list(range(2,3))"
   ]
  },
  {
   "cell_type": "code",
   "execution_count": 23,
   "metadata": {
    "collapsed": false
   },
   "outputs": [
    {
     "data": {
      "text/plain": [
       "[0, 1]"
      ]
     },
     "execution_count": 23,
     "metadata": {},
     "output_type": "execute_result"
    }
   ],
   "source": [
    "GPU_CORES"
   ]
  },
  {
   "cell_type": "code",
   "execution_count": 24,
   "metadata": {
    "collapsed": true
   },
   "outputs": [],
   "source": [
    "def average_gradients(tower_grads):\n",
    "    \"\"\"Calculate the average gradient for each shared variable across all towers.\n",
    "    Note that this function provides a synchronization point across all towers.\n",
    "    Args:\n",
    "    tower_grads: List of lists of (gradient, variable) tuples. The outer list\n",
    "      is over individual gradients. The inner list is over the gradient\n",
    "      calculation for each tower.\n",
    "    Returns:\n",
    "     List of pairs of (gradient, variable) where the gradient has been averaged\n",
    "     across all towers.\n",
    "\n",
    "\n",
    "    \"\"\"\n",
    "    average_grads = []\n",
    "    for grad_and_vars in zip(*tower_grads):\n",
    "        # Note that each grad_and_vars looks like the following:\n",
    "        #   ((grad0_gpu0, var0_gpu0), ... , (grad0_gpuN, var0_gpuN))\n",
    "        grads = []\n",
    "        for g, _ in grad_and_vars:\n",
    "            # Add 0 dimension to the gradients to represent the tower.\n",
    "            expanded_g = tf.expand_dims(g, 0)\n",
    "            # Append on a 'tower' dimension which we will average over below.\n",
    "            grads.append(expanded_g)\n",
    "\n",
    "        # Average over the 'tower' dimension.\n",
    "        grad = tf.concat(grads,0)\n",
    "        grad = tf.reduce_mean(grad, 0)\n",
    "\n",
    "        # Keep in mind that the Variables are redundant because they are shared\n",
    "        # across towers. So .. we will just return the first tower's pointer to\n",
    "        # the Variable.\n",
    "        v = grad_and_vars[0][1]\n",
    "        grad_and_var = (grad, v)\n",
    "        average_grads.append(grad_and_var)\n",
    "    return average_grads"
   ]
  },
  {
   "cell_type": "code",
   "execution_count": 25,
   "metadata": {
    "collapsed": false
   },
   "outputs": [
    {
     "data": {
      "text/plain": [
       "[(0, 0), (1, 1)]"
      ]
     },
     "execution_count": 25,
     "metadata": {},
     "output_type": "execute_result"
    }
   ],
   "source": [
    "list(enumerate(GPU_CORES))"
   ]
  },
  {
   "cell_type": "code",
   "execution_count": 26,
   "metadata": {
    "collapsed": false
   },
   "outputs": [
    {
     "name": "stdout",
     "output_type": "stream",
     "text": [
      "0\n",
      "finish 0\n",
      "1\n",
      "finish 1\n"
     ]
    }
   ],
   "source": [
    "assert(len(GPU_CORES) <= 4)\n",
    "gpu_num = len(GPU_CORES)\n",
    "tf.reset_default_graph()\n",
    "\n",
    "graph = tf.Graph()\n",
    "with graph.as_default():\n",
    "    initializer = tf.truncated_normal_initializer(\n",
    "        mean=0.0,stddev=0.02)\n",
    "    tf.get_variable_scope().set_initializer(initializer)\n",
    "    \n",
    "    if gpu_num >= 1:\n",
    "        input_sound1 = tf.placeholder(tf.float32,shape=[BATCH_SIZE,161,None,1])\n",
    "        targets1 = tf.sparse_placeholder(tf.int32)\n",
    "    if gpu_num >= 2:\n",
    "        input_sound2 = tf.placeholder(tf.float32,shape=[BATCH_SIZE,161,None,1])\n",
    "        targets2 = tf.sparse_placeholder(tf.int32)\n",
    "    if gpu_num >= 3:\n",
    "        input_sound3 = tf.placeholder(tf.float32,shape=[BATCH_SIZE,161,None,1])\n",
    "        targets3 = tf.sparse_placeholder(tf.int32)\n",
    "    if gpu_num >= 4:\n",
    "        input_sound4 = tf.placeholder(tf.float32,shape=[BATCH_SIZE,161,None,1])\n",
    "        targets4 = tf.sparse_placeholder(tf.int32)\n",
    "    # [batch_size,freq,time,1]\n",
    "\n",
    "    voicelength = tf.placeholder(tf.int32, shape=(BATCH_SIZE * gpu_num))\n",
    "    global_step = tf.train.get_or_create_global_step()\n",
    "    max_grad = tf.placeholder(tf.float32)\n",
    "    \n",
    "    #, shape=np.array([BATCH_SIZE,4], dtype=np.int64))\n",
    "\n",
    "    learning_rate = tf.placeholder(tf.float32)\n",
    "    training=tf.placeholder(tf.bool)\n",
    "    optimizer = tf.train.AdamOptimizer(learning_rate=learning_rate)\n",
    "    optimizer_sgd = tf.train.MomentumOptimizer(learning_rate=learning_rate,momentum=0.9)\n",
    "    tower_gradients = []\n",
    "    tower_gradients_sgd = []\n",
    "\n",
    "with graph.as_default():\n",
    "    with tf.variable_scope(tf.get_variable_scope()) as vscope:\n",
    "        for ind,one_core in enumerate(GPU_CORES):\n",
    "            print(ind)\n",
    "            with tf.device(\"/gpu:{}\".format(one_core)):\n",
    "                if ind == 0:\n",
    "                    targets = targets1\n",
    "                    input_sound = input_sound1\n",
    "                elif ind == 1:\n",
    "                    targets = targets2\n",
    "                    input_sound = input_sound2\n",
    "                elif ind == 2:\n",
    "                    targets = targets3\n",
    "                    input_sound = input_sound3\n",
    "                elif ind == 3:\n",
    "                    targets = targets4\n",
    "                    input_sound = input_sound4\n",
    "\n",
    "                conv1 = conv_layer(input_sound,training,kernel_size=(41,11),filters=32,strides=(2,2),name=\"deepspeech_conv_layer1\")\n",
    "                conv2 = conv_layer(conv1,training,kernel_size=(21,11),filters=32,strides=(2,1),name=\"deepspeech_conv_layer2\")\n",
    "                conv3 = conv_layer(conv2,training,kernel_size=(21,11),filters=96,strides=(2,1),name=\"deepspeech_conv_layer3\")# filters=96 according to paper\n",
    "\n",
    "\n",
    "                net = conv3\n",
    "                net = tf.transpose(net,[0,2,1,3])\n",
    "                net_shape = net.get_shape().as_list()\n",
    "                net = tf.reshape(net,[BATCH_SIZE,-1,net_shape[-1] * net_shape[-2]])\n",
    "                # [batch_size,time,freq * filters]\n",
    "                rnn_out = rnn_layer(net,HIDDEN_LAYERS,voicelength[ind * BATCH_SIZE:(ind + 1) * BATCH_SIZE],RNN_SIZE,training=training,name=\"deepspeech_rnn_layer\")\n",
    "                _activation_summary(rnn_out,'rnn_output')\n",
    "                net_result = tf.layers.dense(rnn_out,len(ind2ch) + 2,activation=None,name=\"deepspeech_dense\")\n",
    "                _activation_summary(net_result,'net_result')\n",
    "\n",
    "                with tf.variable_scope(\"Loss\"):\n",
    "                    ctc_loss = tf.nn.ctc_loss(labels=targets,inputs=net_result,sequence_length=voicelength[ind * BATCH_SIZE:(ind + 1) * BATCH_SIZE]\n",
    "                                              ,time_major=False)\n",
    "                    loss = tf.reduce_mean(ctc_loss)\n",
    "                    tf.summary.scalar(\"Loss\",loss)\n",
    "\n",
    "                with tf.variable_scope(\"LearningRate\"):\n",
    "                    tf.summary.scalar(\"LearningRate\",learning_rate)\n",
    "\n",
    "\n",
    "                decoded, log_prob = tf.nn.ctc_beam_search_decoder(tf.transpose(net_result, (1, 0, 2)),\n",
    "                                                                  sequence_length=voicelength[ind * BATCH_SIZE:(ind + 1) * BATCH_SIZE],merge_repeated=False)\n",
    "                dense_decoded = tf.cast(tf.sparse_tensor_to_dense(decoded[0], default_value=0), tf.int32)\n",
    "\n",
    "                with tf.variable_scope(\"EditDistance\"):\n",
    "                    dis = tf.reduce_mean(tf.edit_distance(tf.cast(decoded[0], tf.int32), targets))\n",
    "                    tf.summary.scalar(\"EditDistance\",dis)\n",
    "\n",
    "                trainable_params = tf.trainable_variables()\n",
    "                trainable_params = [i for i in trainable_params if\n",
    "                                    ('deepspeech' in i.name and 'Minimum_grad' not in i.name)]\n",
    "                #grads_e = optimizer.compute_gradients(ctc_loss, var_list = trainable_params)\n",
    "                #grads_e_sgd = optimizer_sgd.compute_gradients(ctc_loss, var_list = trainable_params)\n",
    "                #gradients = tf.gradients(ctc_loss, trainable_params)\n",
    "                #clip_gradients, _ = tf.clip_by_global_norm(gradients, max_grad)\n",
    "                #clip_gradients_sgd, _ = tf.clip_by_global_norm(gradients, max_grad)\n",
    "                #L_loss = tf.clip_by_value(loss, -max_grad, max_grad)\n",
    "                L_loss = loss\n",
    "                tf.get_variable_scope().reuse_variables()\n",
    "                #train_op = optimizer.minimize(loss,global_step=global_step)\n",
    "                #train_op = optimizer.apply_gradients(\n",
    "                #        zip(clip_gradients, trainable_params), global_step=global_step)\n",
    "                grads_e_ori = optimizer.compute_gradients(L_loss, var_list = trainable_params)\n",
    "                grads_e_ori = [i[0] for i in grads_e_ori]\n",
    "                grads_e, _ = tf.clip_by_global_norm(grads_e_ori, max_grad)\n",
    "                #grads_e = grads_e_ori\n",
    "                grads_e_sgd_ori = optimizer_sgd.compute_gradients(L_loss, var_list = trainable_params)\n",
    "                grads_e_sgd_ori = [i[0] for i in grads_e_sgd_ori]\n",
    "                grads_e_sgd, _ = tf.clip_by_global_norm(grads_e_sgd_ori, max_grad)\n",
    "                #grads_e_sgd = grads_e_sgd_ori\n",
    "                tower_gradients.append(zip(grads_e,trainable_params))\n",
    "                tower_gradients_sgd.append(zip(grads_e_sgd,trainable_params))\n",
    "                print('finish {}'.format(ind))\n",
    "\n",
    "\n",
    "with graph.as_default():\n",
    "    summary_op = tf.summary.merge_all()\n",
    "    train_summary_writer = tf.summary.FileWriter(\"./log/compair/{}\".format(MODEL_NAME), graph)\n",
    "        \n",
    "    grads = average_gradients(tower_gradients)\n",
    "    grads_sgd = average_gradients(tower_gradients_sgd)\n",
    "    update_ops = tf.get_collection(tf.GraphKeys.UPDATE_OPS)\n",
    "    with tf.control_dependencies(update_ops):\n",
    "        train_op = optimizer.apply_gradients(grads,global_step)\n",
    "        train_op_sgd = optimizer_sgd.apply_gradients(grads_sgd,global_step)\n",
    "    with tf.variable_scope(\"Validation\"):\n",
    "        test_loss = tf.placeholder(tf.float32)\n",
    "        loss_op = tf.summary.scalar(\"Accuracy\",test_loss)\n",
    "        editdistance = tf.placeholder(tf.float32)\n",
    "        editdistance_op = tf.summary.scalar(\"EditDistance\",editdistance)\n",
    "    test_op = tf.summary.merge([loss_op,editdistance_op])\n"
   ]
  },
  {
   "cell_type": "code",
   "execution_count": 27,
   "metadata": {
    "collapsed": false
   },
   "outputs": [
    {
     "data": {
      "text/plain": [
       "[<tf.Tensor 'clip_by_global_norm_2/clip_by_global_norm_2/_0:0' shape=<unknown> dtype=float32>,\n",
       " <tf.Tensor 'clip_by_global_norm_2/clip_by_global_norm_2/_1:0' shape=<unknown> dtype=float32>]"
      ]
     },
     "execution_count": 27,
     "metadata": {},
     "output_type": "execute_result"
    }
   ],
   "source": [
    "grads_e[:2]"
   ]
  },
  {
   "cell_type": "code",
   "execution_count": 28,
   "metadata": {
    "collapsed": false
   },
   "outputs": [
    {
     "data": {
      "text/plain": [
       "[<tf.Tensor 'gradients_2/deepspeech_conv_layer1_1/conv2d/convolution_grad/tuple/control_dependency_1:0' shape=(41, 11, 1, 32) dtype=float32>,\n",
       " <tf.Tensor 'gradients_2/deepspeech_conv_layer1_1/conv2d/BiasAdd_grad/tuple/control_dependency_1:0' shape=(32,) dtype=float32>]"
      ]
     },
     "execution_count": 28,
     "metadata": {},
     "output_type": "execute_result"
    }
   ],
   "source": [
    "grads_e_ori[:2]"
   ]
  },
  {
   "cell_type": "code",
   "execution_count": 29,
   "metadata": {
    "collapsed": false
   },
   "outputs": [
    {
     "data": {
      "text/plain": [
       "(TensorShape([Dimension(16), Dimension(None), Dimension(4232)]),\n",
       " TensorShape([Dimension(16), Dimension(None), Dimension(2016)]),\n",
       " TensorShape([Dimension(16)]),\n",
       " TensorShape([Dimension(16), Dimension(None), Dimension(2016)]),\n",
       " [16, None, 21, 96])"
      ]
     },
     "execution_count": 29,
     "metadata": {},
     "output_type": "execute_result"
    }
   ],
   "source": [
    "net_result.shape,net.shape,ctc_loss.shape,net.shape,net_shape"
   ]
  },
  {
   "cell_type": "code",
   "execution_count": 30,
   "metadata": {
    "collapsed": true
   },
   "outputs": [],
   "source": [
    "with graph.as_default():\n",
    "    config = tf.ConfigProto()\n",
    "    config.gpu_options.allow_growth = True\n",
    "    config.allow_soft_placement = True\n",
    "    sess = tf.Session(config=config)\n",
    "    \n",
    "    sess.run(tf.global_variables_initializer())\n",
    "    tf.train.global_step(sess, global_step)"
   ]
  },
  {
   "cell_type": "code",
   "execution_count": 31,
   "metadata": {
    "collapsed": true
   },
   "outputs": [],
   "source": [
    "import os\n",
    "if not os.path.exists(\"models/{}\".format(MODEL_NAME)):\n",
    "    os.mkdir(\"models/{}\".format(MODEL_NAME))"
   ]
  },
  {
   "cell_type": "code",
   "execution_count": 32,
   "metadata": {
    "collapsed": false
   },
   "outputs": [],
   "source": [
    "import os\n",
    "allmodels = [i  for i in os.listdir('models/{}'.format(MODEL_NAME)) if ('meta' in i and 'model' in i)]"
   ]
  },
  {
   "cell_type": "code",
   "execution_count": 33,
   "metadata": {
    "collapsed": true
   },
   "outputs": [],
   "source": [
    "epochs = [int(i[-6]) for i in allmodels]"
   ]
  },
  {
   "cell_type": "code",
   "execution_count": 34,
   "metadata": {
    "collapsed": true
   },
   "outputs": [],
   "source": [
    "if epochs:\n",
    "    train_epoch = max(epochs) + 1\n",
    "else:\n",
    "    train_epoch = 1\n",
    "train_batch = 1"
   ]
  },
  {
   "cell_type": "code",
   "execution_count": 35,
   "metadata": {
    "collapsed": false
   },
   "outputs": [
    {
     "data": {
      "text/plain": [
       "1"
      ]
     },
     "execution_count": 35,
     "metadata": {},
     "output_type": "execute_result"
    }
   ],
   "source": [
    "train_epoch"
   ]
  },
  {
   "cell_type": "code",
   "execution_count": null,
   "metadata": {
    "collapsed": true
   },
   "outputs": [],
   "source": [
    "with graph.as_default():\n",
    "    config = tf.ConfigProto()\n",
    "    config.gpu_options.allow_growth = True\n",
    "    config.allow_soft_placement = True\n",
    "    sess = tf.Session(config=config)\n",
    "    \n",
    "    saver = tf.train.Saver(tf.global_variables())\n",
    "    saver.restore(sess,'./models/{}/model_{}'.format(MODEL_NAME,train_epoch - 1))"
   ]
  },
  {
   "cell_type": "raw",
   "metadata": {
    "collapsed": true
   },
   "source": [
    "with graph.as_default():\n",
    "    saver = tf.train.Saver()\n",
    "    saver.save(sess,'./models/{}/sample'.format(MODEL_NAME))"
   ]
  },
  {
   "cell_type": "code",
   "execution_count": 36,
   "metadata": {
    "collapsed": false
   },
   "outputs": [
    {
     "data": {
      "text/plain": [
       "'2_5-char'"
      ]
     },
     "execution_count": 36,
     "metadata": {},
     "output_type": "execute_result"
    }
   ],
   "source": [
    "MODEL_NAME"
   ]
  },
  {
   "cell_type": "code",
   "execution_count": 37,
   "metadata": {
    "collapsed": true
   },
   "outputs": [],
   "source": [
    "N_BATCH = len(voice_dataset_train) // (BATCH_SIZE * gpu_num)\n",
    "N_BATCH_TEST = len(voice_dataset_test) // (BATCH_SIZE * gpu_num)"
   ]
  },
  {
   "cell_type": "code",
   "execution_count": 38,
   "metadata": {
    "collapsed": true
   },
   "outputs": [],
   "source": [
    "batch_x,batch_y_ori,s,a,t = voice_flow_train.next_batch(BATCH_SIZE)"
   ]
  },
  {
   "cell_type": "code",
   "execution_count": 39,
   "metadata": {
    "collapsed": false
   },
   "outputs": [
    {
     "data": {
      "text/plain": [
       "(16, 161, 162, 1)"
      ]
     },
     "execution_count": 39,
     "metadata": {},
     "output_type": "execute_result"
    }
   ],
   "source": [
    "batch_x.shape"
   ]
  },
  {
   "cell_type": "code",
   "execution_count": 40,
   "metadata": {
    "collapsed": true
   },
   "outputs": [],
   "source": [
    "voice_flow_train = voice_flow_train_shu"
   ]
  },
  {
   "cell_type": "code",
   "execution_count": null,
   "metadata": {
    "collapsed": false
   },
   "outputs": [
    {
     "name": "stdout",
     "output_type": "stream",
     "text": [
      "EPOCH 1 STEP 85 LR 0.0003 LOSS 468.66 DIS 2.64 t1 0.71 t2 23.31 2.29 % [=>-------------------------------------------------] 2736/119328 \t used:1650s eta:70309 s"
     ]
    }
   ],
   "source": [
    "restore = True\n",
    "N_EPOCH = 50\n",
    "DECAY_EPOCH = 10\n",
    "import traceback\n",
    "\n",
    "class ExpVal:\n",
    "    def __init__(self,exp_a=0.97):\n",
    "        self.val = None\n",
    "        self.exp_a = exp_a\n",
    "    def update(self,newval):\n",
    "        if self.val == None:\n",
    "            self.val = newval\n",
    "        else:\n",
    "            self.val = self.exp_a * self.val + (1 - self.exp_a) * newval\n",
    "    def getval(self):\n",
    "        return round(self.val,2)\n",
    "    \n",
    "class Tick:\n",
    "    def __init__(self,tick=True):\n",
    "        if tick == True:\n",
    "            self._tick = time.time()\n",
    "    def tick(self):\n",
    "        self._tick = time.time()\n",
    "    def tock(self):\n",
    "        return round(time.time() - self._tick,2)\n",
    "        \n",
    "expdis = ExpVal()\n",
    "exploss = ExpVal()\n",
    "clk = Tick()\n",
    "\n",
    "begining_learning_rate = BEGINING_LEARNING_RATE\n",
    "clip_norm = 400\n",
    "with graph.as_default():\n",
    "    if restore == False:\n",
    "        train_epoch = 1\n",
    "        train_batch = 0\n",
    "    for one_epoch in range(train_epoch,N_EPOCH):\n",
    "        if one_epoch >= 2:\n",
    "            voice_flow_train = voice_flow_train_shu\n",
    "        train_epoch = one_epoch\n",
    "        pb = ProgressBar(worksum=N_BATCH * BATCH_SIZE * gpu_num,info=\" epoch {} batch {}\".format(train_epoch,train_batch))\n",
    "        pb.startjob()\n",
    "\n",
    "        for one_batch in range(N_BATCH):\n",
    "            if restore == True and one_batch < train_batch:\n",
    "                pb.auto_display = False\n",
    "                pb.complete(BATCH_SIZE)\n",
    "                pb.auto_display = True\n",
    "                continue\n",
    "            else:\n",
    "                restore = False\n",
    "            train_batch = one_batch\n",
    "\n",
    "            clk.tick()\n",
    "            t1,t2,t3,t4 = [],[],[],[]\n",
    "            try:\n",
    "                if gpu_num >= 1:\n",
    "                    batch_x1,batch_y_ori1,s1,a1,t1 = voice_flow_train.next_batch(BATCH_SIZE)\n",
    "                    batch_y1 = sparse_tuple_from(batch_y_ori1)\n",
    "                if gpu_num >= 2:\n",
    "                    batch_x2,batch_y_ori2,s2,a2,t2 = voice_flow_train.next_batch(BATCH_SIZE)\n",
    "                    batch_y2 = sparse_tuple_from(batch_y_ori2)\n",
    "                if gpu_num >= 3:\n",
    "                    batch_x3,batch_y_ori3,s3,a3,t3 = voice_flow_train.next_batch(BATCH_SIZE)\n",
    "                    batch_y3 = sparse_tuple_from(batch_y_ori3)\n",
    "                if gpu_num >= 4:\n",
    "                    batch_x4,batch_y_ori4,s4,a4,t4 = voice_flow_train.next_batch(BATCH_SIZE)\n",
    "                    batch_y4 = sparse_tuple_from(batch_y_ori4)\n",
    "            except:\n",
    "                continue\n",
    "\n",
    "            batch_seq_len  = [i // 2 for i in (t1 + t2 + t3 + t4)]\n",
    "            t1 = clk.tock()\n",
    "\n",
    "            clk.tick()\n",
    "            # learning rate decay strategy\n",
    "            batch_lr = begining_learning_rate * 2 ** -(max(one_epoch-DECAY_EPOCH,0))\n",
    "            feeddic={\n",
    "                        \n",
    "\n",
    "                        learning_rate:batch_lr,voicelength:batch_seq_len,\n",
    "                        max_grad:clip_norm,training:True\n",
    "                    }\n",
    "            if gpu_num >= 1:\n",
    "                feeddic[input_sound1] = batch_x1\n",
    "                feeddic[targets1] = batch_y1\n",
    "            if gpu_num >= 2:\n",
    "                feeddic[input_sound2] = batch_x2\n",
    "                feeddic[targets2] = batch_y2\n",
    "            if gpu_num >= 3:\n",
    "                feeddic[input_sound3] = batch_x3\n",
    "                feeddic[targets3] = batch_y3\n",
    "            if gpu_num >= 4:\n",
    "                feeddic[input_sound4] = batch_x4\n",
    "                feeddic[targets4] = batch_y4\n",
    "            try:\n",
    "                step_dis,_,step_loss,step_summary,step_value = sess.run(\n",
    "                    [dis,train_op,loss,summary_op,global_step],feed_dict=feeddic)\n",
    "            except (KeyboardInterrupt,SystemExit):\n",
    "                raise\n",
    "            except:\n",
    "                traceback.print_exc()\n",
    "                continue\n",
    "            expdis.update(step_dis)\n",
    "            exploss.update(step_loss)\n",
    "            t2 = clk.tock()\n",
    "            pb.info = \"EPOCH {} STEP {} LR {} LOSS {} DIS {} t1 {} t2 {}\".format(one_epoch,one_batch,batch_lr,exploss.getval(),expdis.getval(),t1,t2)\n",
    "            train_summary_writer.add_summary(step_summary,step_value)\n",
    "            pb.complete(BATCH_SIZE * gpu_num)\n",
    "            \n",
    "        dises,losses = [],[]\n",
    "        pb = ProgressBar(worksum=N_BATCH_TEST * 2)\n",
    "        pb.info = \"validating EPOCH {}\".format(one_epoch)\n",
    "        pb.startjob()\n",
    "        for one_batch in range(N_BATCH_TEST * 2):\n",
    "            t1,t2,t3,t4 = [],[],[],[]\n",
    "            try:\n",
    "                if gpu_num >= 1:\n",
    "                    batch_x1,batch_y_ori1,s1,a1,t1 = voice_flow_test.next_batch(BATCH_SIZE)\n",
    "                    batch_y1 = sparse_tuple_from(batch_y_ori1)\n",
    "                if gpu_num >= 2:\n",
    "                    batch_x2,batch_y_ori2,s2,a2,t2 = voice_flow_test.next_batch(BATCH_SIZE)\n",
    "                    batch_y2 = sparse_tuple_from(batch_y_ori2)\n",
    "                if gpu_num >= 3:\n",
    "                    batch_x3,batch_y_ori3,s3,a3,t3 = voice_flow_test.next_batch(BATCH_SIZE)\n",
    "                    batch_y3 = sparse_tuple_from(batch_y_ori3)\n",
    "                if gpu_num >= 4:\n",
    "                    batch_x4,batch_y_ori4,s4,a4,t4 = voice_flow_test.next_batch(BATCH_SIZE)\n",
    "                    batch_y4 = sparse_tuple_from(batch_y_ori4)\n",
    "            except:\n",
    "                continue\n",
    "            \n",
    "            batch_seq_len  = [i // 2 for i in (t1 + t2 + t3 + t4)]\n",
    "\n",
    "            feeddic={\n",
    "\n",
    "\n",
    "                        learning_rate:batch_lr,voicelength:batch_seq_len,\n",
    "                        max_grad:clip_norm,training:False\n",
    "                    }\n",
    "            if gpu_num >= 1:\n",
    "                feeddic[input_sound1] = batch_x1\n",
    "                feeddic[targets1] = batch_y1\n",
    "            if gpu_num >= 2:\n",
    "                feeddic[input_sound2] = batch_x2\n",
    "                feeddic[targets2] = batch_y2\n",
    "            if gpu_num >= 3:\n",
    "                feeddic[input_sound3] = batch_x3\n",
    "                feeddic[targets3] = batch_y3\n",
    "            if gpu_num >= 4:\n",
    "                feeddic[input_sound4] = batch_x4\n",
    "                feeddic[targets4] = batch_y4\n",
    "            try:\n",
    "                step_dis,step_loss,step_value = sess.run(\n",
    "                    [dis,loss,global_step],feed_dict=feeddic)\n",
    "            except (KeyboardInterrupt,SystemExit):\n",
    "                raise\n",
    "            except:\n",
    "                traceback.print_exc()\n",
    "                continue\n",
    "            dises.append(step_dis)\n",
    "            losses.append(step_loss)\n",
    "            pb.complete(1)\n",
    "        print(\"\\n    EOPCH {} test DIS {} test loss {}\".format(one_epoch,np.average(dises),np.average(losses)))\n",
    "        test_summarys = sess.run(test_op,feed_dict={test_loss:np.average(losses),editdistance:np.average(dises)})\n",
    "        train_summary_writer.add_summary(test_summarys,step_value)\n",
    "        print()\n",
    "        saver = tf.train.Saver(tf.global_variables())\n",
    "        saver.save(sess,\"models/{}/model_{}\".format(MODEL_NAME,one_epoch))"
   ]
  },
  {
   "cell_type": "code",
   "execution_count": null,
   "metadata": {
    "collapsed": false
   },
   "outputs": [],
   "source": [
    "start = time.time()\n",
    "step_dis,step_loss,step_value = sess.run(\n",
    "                    [dis,loss,global_step],feed_dict=feeddic)\n",
    "print(time.time() - start)"
   ]
  },
  {
   "cell_type": "code",
   "execution_count": null,
   "metadata": {
    "collapsed": false
   },
   "outputs": [],
   "source": [
    "DECAY_EPOCH = 10\n",
    "begining_learning_rate = BEGINING_LEARNING_RATE\n",
    "for one_epoch in range(1,30):\n",
    "    print(begining_learning_rate * 2 ** -(max(one_epoch-DECAY_EPOCH,0)))"
   ]
  },
  {
   "cell_type": "code",
   "execution_count": null,
   "metadata": {
    "collapsed": false
   },
   "outputs": [],
   "source": [
    "1"
   ]
  },
  {
   "cell_type": "code",
   "execution_count": null,
   "metadata": {
    "collapsed": true
   },
   "outputs": [],
   "source": []
  }
 ],
 "metadata": {
  "anaconda-cloud": {},
  "kernelspec": {
   "display_name": "icybee_Python_3",
   "language": "python",
   "name": "icybee_python_3"
  },
  "language_info": {
   "codemirror_mode": {
    "name": "ipython",
    "version": 3
   },
   "file_extension": ".py",
   "mimetype": "text/x-python",
   "name": "python",
   "nbconvert_exporter": "python",
   "pygments_lexer": "ipython3",
   "version": "3.5.2"
  }
 },
 "nbformat": 4,
 "nbformat_minor": 1
}
