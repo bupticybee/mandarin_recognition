{
 "cells": [
  {
   "cell_type": "markdown",
   "metadata": {},
   "source": [
    "# try to implement  \n",
    "## \"Towards End-to-End Speech Recognition with Deep Convolutional Neural Networks\""
   ]
  },
  {
   "cell_type": "code",
   "execution_count": 3,
   "metadata": {
    "collapsed": false
   },
   "outputs": [
    {
     "name": "stdout",
     "output_type": "stream",
     "text": [
      "Mon Jan 29 14:21:42 2018       \n",
      "+-----------------------------------------------------------------------------+\n",
      "| NVIDIA-SMI 384.111                Driver Version: 384.111                   |\n",
      "|-------------------------------+----------------------+----------------------+\n",
      "| GPU  Name        Persistence-M| Bus-Id        Disp.A | Volatile Uncorr. ECC |\n",
      "| Fan  Temp  Perf  Pwr:Usage/Cap|         Memory-Usage | GPU-Util  Compute M. |\n",
      "|===============================+======================+======================|\n",
      "|   0  Tesla K80           Off  | 00000000:04:00.0 Off |                    0 |\n",
      "| N/A   42C    P0    58W / 149W |   5792MiB / 11439MiB |      0%      Default |\n",
      "+-------------------------------+----------------------+----------------------+\n",
      "|   1  Tesla K80           Off  | 00000000:05:00.0 Off |                    0 |\n",
      "| N/A   35C    P0    71W / 149W |     90MiB / 11439MiB |      0%      Default |\n",
      "+-------------------------------+----------------------+----------------------+\n",
      "|   2  Tesla K80           Off  | 00000000:08:00.0 Off |                    0 |\n",
      "| N/A   62C    P0   150W / 149W |   8432MiB / 11439MiB |     94%      Default |\n",
      "+-------------------------------+----------------------+----------------------+\n",
      "|   3  Tesla K80           Off  | 00000000:09:00.0 Off |                    0 |\n",
      "| N/A   48C    P0   149W / 149W |   8434MiB / 11439MiB |     96%      Default |\n",
      "+-------------------------------+----------------------+----------------------+\n",
      "|   4  Tesla K80           Off  | 00000000:85:00.0 Off |                    0 |\n",
      "| N/A   61C    P0   148W / 149W |   8432MiB / 11439MiB |     95%      Default |\n",
      "+-------------------------------+----------------------+----------------------+\n",
      "|   5  Tesla K80           Off  | 00000000:86:00.0 Off |                    0 |\n",
      "| N/A   46C    P0   149W / 149W |   8434MiB / 11439MiB |     96%      Default |\n",
      "+-------------------------------+----------------------+----------------------+\n",
      "|   6  Tesla K80           Off  | 00000000:89:00.0 Off |                    0 |\n",
      "| N/A   38C    P0    59W / 149W |     90MiB / 11439MiB |      0%      Default |\n",
      "+-------------------------------+----------------------+----------------------+\n",
      "|   7  Tesla K80           Off  | 00000000:8A:00.0 Off |                    0 |\n",
      "| N/A   35C    P0    74W / 149W |   5534MiB / 11439MiB |      0%      Default |\n",
      "+-------------------------------+----------------------+----------------------+\n"
     ]
    }
   ],
   "source": [
    "!nvidia-smi | head -n 31"
   ]
  },
  {
   "cell_type": "code",
   "execution_count": 4,
   "metadata": {
    "collapsed": true
   },
   "outputs": [],
   "source": [
    "SAMPLE_RATE = 16000\n",
    "WINDOW_SIZE = .02\n",
    "WINDOW_STRIDE = .01\n",
    "WINDOW = 'hamming'\n",
    "\n",
    "HIDDEN_LAYERS = 5\n",
    "#RNN_TYPE = supported_rnns['gru']\n",
    "BIDIRECTIONAL = True\n",
    "\n",
    "BEGINING_LEARNING_RATE = 3e-4\n",
    "MOMENTUM = 0.9\n",
    "MAX_NORM = 3\n",
    "#LABELS = ''.join(data_utils.LABELS)\n",
    "BATCH_SIZE = 32\n",
    "\n",
    "GPU_CORES = ['/gpu:0','/gpu:1']\n",
    "REMOTE_WORKER = \"grpc://10.109.246.8:2222\"\n",
    "RNN_SIZE = 400#768\n",
    "MODEL_NAME = \"1_24-pinyin\"\n",
    "#audio_conf = dict(sample_rate=SAMPLE_RATE,\n",
    "#                  window_size=WINDOW_SIZE,\n",
    "#                  window_stride=WINDOW_STRIDE,\n",
    "#                  window=WINDOW,\n",
    "#                )"
   ]
  },
  {
   "cell_type": "code",
   "execution_count": 5,
   "metadata": {
    "collapsed": true
   },
   "outputs": [],
   "source": [
    "#import os\n",
    "#os.environ[\"CUDA_VISIBLE_DEVICES\"] = \",\".join([str(i) for i in GPU_CORES])"
   ]
  },
  {
   "cell_type": "code",
   "execution_count": 6,
   "metadata": {
    "collapsed": false
   },
   "outputs": [],
   "source": [
    "%load_ext autoreload\n",
    "%autoreload 2\n",
    "import sys\n",
    "sys.path.append('../common/')\n",
    "import data_utils\n",
    "import utils\n",
    "from utils import Dataset,ProgressBar\n",
    "import tflearn\n",
    "from tflearn.data_flow import DataFlow,DataFlowStatus,FeedDictFlow\n",
    "#from model import DeepSpeech,supported_rnns\n",
    "from matplotlib import pyplot as plt\n",
    "%matplotlib inline\n",
    "import numpy as np\n",
    "import tensorflow as tf\n",
    "#import sugartensor as tf\n",
    "import re\n",
    "import pypinyin\n",
    "from pypinyin import pinyin, lazy_pinyin, Style\n",
    "import time"
   ]
  },
  {
   "cell_type": "code",
   "execution_count": 7,
   "metadata": {
    "collapsed": false
   },
   "outputs": [
    {
     "data": {
      "text/plain": [
       "6"
      ]
     },
     "execution_count": 7,
     "metadata": {},
     "output_type": "execute_result"
    }
   ],
   "source": [
    "np.zeros([3,2]).size"
   ]
  },
  {
   "cell_type": "markdown",
   "metadata": {
    "collapsed": true
   },
   "source": [
    "## The implemention of pytorch's DataLoader is not competiable with tflearn's DataFlow\n",
    "```python\n",
    "train_loader = data_utils.AudioDataLoader(\n",
    "    data_utils.SpectrogramDataset(manifest_filepath='./data/ted_train_manifest_fix.csv')\n",
    "    ,batch_size=16,shuffle=True)\n",
    "\n",
    "test_loader = data_utils.AudioDataLoader(\n",
    "    data_utils.SpectrogramDataset(manifest_filepath='./data/ted_test_manifest_fix.csv')\n",
    "    ,batch_size=16,shuffle=True)\n",
    "```"
   ]
  },
  {
   "cell_type": "code",
   "execution_count": 8,
   "metadata": {
    "collapsed": true
   },
   "outputs": [],
   "source": [
    "import pickle\n",
    "with open('../data/dics.pkl','rb') as fhdl:\n",
    "    ch2ind,ind2ch = pickle.load(fhdl)"
   ]
  },
  {
   "cell_type": "code",
   "execution_count": 9,
   "metadata": {
    "collapsed": true
   },
   "outputs": [],
   "source": [
    "with open('../data/pinyins.pkl','rb') as whdl:\n",
    "    py2ind,ind2py = pickle.load(whdl)"
   ]
  },
  {
   "cell_type": "code",
   "execution_count": 10,
   "metadata": {
    "collapsed": true
   },
   "outputs": [],
   "source": [
    "import flow_tools"
   ]
  },
  {
   "cell_type": "code",
   "execution_count": 11,
   "metadata": {
    "collapsed": true
   },
   "outputs": [],
   "source": [
    "ch2py = lambda x:\" \".join([i[0] for i in pinyin(x)])"
   ]
  },
  {
   "cell_type": "markdown",
   "metadata": {},
   "source": [
    "# CONFIG"
   ]
  },
  {
   "cell_type": "code",
   "execution_count": 12,
   "metadata": {
    "collapsed": false
   },
   "outputs": [],
   "source": [
    "#voice_dataset_train = data_utils.VoicesFlow(manifest_filepath='./data/ted_train_manifest_fix.csv')\n",
    "#voice_flow_train = data_utils.get_flow(voice_dataset_train,shuffle=True,batch_size=BATCH_SIZE)\n",
    "#\n",
    "#voice_dataset_test = data_utils.VoicesFlow(manifest_filepath='./data/ted_test_manifest_fix.csv')\n",
    "#voice_flow_test = data_utils.get_flow(voice_dataset_test,shuffle=False,batch_size=BATCH_SIZE)\n",
    "\n",
    "voice_dataset_train = data_utils.VoicesFlow(manifest_filepath='../data/csvs/train.csv',mfcc=False,phon=False,labels=list(ch2ind.keys()),ch2ind=ch2ind,ind2ch=ind2ch)#,phm_dict_file='./data/TEDLIUM_release1/TEDLIUM.150K.dic')\n",
    "voice_flow_train = data_utils.get_flow(voice_dataset_train,batch_size=BATCH_SIZE,max_queue=32,threads=8,shuffle=True)\n",
    "\n",
    "voice_dataset_test = data_utils.VoicesFlow(manifest_filepath='../data/csvs/dev.csv',mfcc=False,phon=False,labels=list(ch2ind.keys()),ch2ind=ch2ind,ind2ch=ind2ch)#,phm_dict_file='./data/TEDLIUM_release1/TEDLIUM.150K.dic')\n",
    "voice_flow_test = data_utils.get_flow(voice_dataset_test,batch_size=BATCH_SIZE,max_queue=32,threads=8,shuffle=True)"
   ]
  },
  {
   "cell_type": "code",
   "execution_count": 13,
   "metadata": {
    "collapsed": true
   },
   "outputs": [],
   "source": [
    "import sys"
   ]
  },
  {
   "cell_type": "code",
   "execution_count": 14,
   "metadata": {
    "collapsed": false
   },
   "outputs": [
    {
     "data": {
      "text/plain": [
       "(119341, 14326)"
      ]
     },
     "execution_count": 14,
     "metadata": {},
     "output_type": "execute_result"
    }
   ],
   "source": [
    "len(voice_dataset_train),len(voice_dataset_test)"
   ]
  },
  {
   "cell_type": "code",
   "execution_count": 15,
   "metadata": {
    "collapsed": true
   },
   "outputs": [],
   "source": [
    "from utils import Dataset"
   ]
  },
  {
   "cell_type": "code",
   "execution_count": 16,
   "metadata": {
    "collapsed": false
   },
   "outputs": [],
   "source": [
    "a,b,c,d,e = voice_flow_train.next(BATCH_SIZE)['data']"
   ]
  },
  {
   "cell_type": "code",
   "execution_count": 17,
   "metadata": {
    "collapsed": false
   },
   "outputs": [],
   "source": [
    "chstr = ''.join([ind2ch[i] for i in b[0]])"
   ]
  },
  {
   "cell_type": "code",
   "execution_count": 18,
   "metadata": {
    "collapsed": false
   },
   "outputs": [
    {
     "data": {
      "text/plain": [
       "('同比上升百分之六十',\n",
       " [['tóng'],\n",
       "  ['bǐ'],\n",
       "  ['shàng'],\n",
       "  ['shēng'],\n",
       "  ['bǎi'],\n",
       "  ['fēn'],\n",
       "  ['zhī'],\n",
       "  ['liù'],\n",
       "  ['shí']])"
      ]
     },
     "execution_count": 18,
     "metadata": {},
     "output_type": "execute_result"
    }
   ],
   "source": [
    "chstr,pinyin(chstr)"
   ]
  },
  {
   "cell_type": "code",
   "execution_count": 19,
   "metadata": {
    "collapsed": false
   },
   "outputs": [
    {
     "data": {
      "text/plain": [
       "(32, 161, 754, 1)"
      ]
     },
     "execution_count": 19,
     "metadata": {},
     "output_type": "execute_result"
    }
   ],
   "source": [
    "a.shape"
   ]
  },
  {
   "cell_type": "code",
   "execution_count": 20,
   "metadata": {
    "collapsed": false
   },
   "outputs": [
    {
     "name": "stdout",
     "output_type": "stream",
     "text": [
      "同比上升百分之六十\n",
      "../data/data_aishell/wav_uncompress/train/S0172/BAC009S0172W0123.wav\n",
      "../data/transcript/BAC009S0172W0123.txt\n",
      "317\n"
     ]
    },
    {
     "data": {
      "image/png": "[encoded data removed]",
      "text/plain": [
       "<matplotlib.figure.Figure at 0x7f16bb6ba2b0>"
      ]
     },
     "metadata": {},
     "output_type": "display_data"
    }
   ],
   "source": [
    "index = 0\n",
    "#plt.figure(figsize=(30,50))\n",
    "plt.imshow(a[index,:,:,0])\n",
    "plt.title(''.join(ind2ch[i] for i in b[index]))\n",
    "print(''.join(ind2ch[i] for i in b[index]))\n",
    "print(c[index])\n",
    "print(d[index])\n",
    "print(e[index])"
   ]
  },
  {
   "cell_type": "code",
   "execution_count": 21,
   "metadata": {
    "collapsed": true
   },
   "outputs": [],
   "source": [
    "import IPython.display as ipd"
   ]
  },
  {
   "cell_type": "code",
   "execution_count": 22,
   "metadata": {
    "collapsed": false
   },
   "outputs": [
    {
     "name": "stdout",
     "output_type": "stream",
     "text": [
      "同比上升百分之六十\n"
     ]
    },
    {
     "data": {
      "text/html": [
       "\n",
       "                <audio controls=\"controls\" >\n",
       "                    <source src=\"data:audio/x-wav;base64,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\" type=\"audio/x-wav\" />\n",
       "                    Your browser does not support the audio element.\n",
       "                </audio>\n",
       "              "
      ],
      "text/plain": [
       "<IPython.lib.display.Audio object>"
      ]
     },
     "execution_count": 22,
     "metadata": {},
     "output_type": "execute_result"
    }
   ],
   "source": [
    "print(open(d[index],encoding='utf-8').read())\n",
    "ipd.Audio(c[index])"
   ]
  },
  {
   "cell_type": "code",
   "execution_count": 23,
   "metadata": {
    "collapsed": true
   },
   "outputs": [],
   "source": [
    "def chind2pyind(inputs):\n",
    "    out = []\n",
    "    for one in inputs:\n",
    "        sent = ''.join([ind2ch[i] for i in one])\n",
    "        outone = ch2py(sent)\n",
    "        oneoutind = [py2ind.get(i,0) for i in outone]\n",
    "        out.append(oneoutind)\n",
    "    return out"
   ]
  },
  {
   "cell_type": "code",
   "execution_count": 24,
   "metadata": {
    "collapsed": false
   },
   "outputs": [
    {
     "data": {
      "text/plain": [
       "'tóng bǐ shàng shēng bǎi fēn zhī liù shí'"
      ]
     },
     "execution_count": 24,
     "metadata": {},
     "output_type": "execute_result"
    }
   ],
   "source": [
    "''.join([ind2py[i] for i in chind2pyind(b)[0]])"
   ]
  },
  {
   "cell_type": "markdown",
   "metadata": {},
   "source": [
    "# convert data to numpy format"
   ]
  },
  {
   "cell_type": "code",
   "execution_count": 25,
   "metadata": {
    "collapsed": true
   },
   "outputs": [],
   "source": [
    "#转化一个序列列表为稀疏矩阵    \n",
    "def sparse_tuple_from(sequences, dtype=np.int32):\n",
    "    \"\"\"\n",
    "    Create a sparse representention of x.\n",
    "    Args:\n",
    "        sequences: a list of lists of type dtype where each element is a sequence\n",
    "    Returns:\n",
    "        A tuple with (indices, values, shape)\n",
    "    \"\"\"\n",
    "    sequences = chind2pyind(sequences)\n",
    "    indices = []\n",
    "    values = []\n",
    "    \n",
    "    for n, seq in enumerate(sequences):\n",
    "        indices.extend(zip([n] * len(seq), range(len(seq))))\n",
    "        values.extend(seq)\n",
    " \n",
    "    indices = np.asarray(indices, dtype=np.int64)\n",
    "    values = np.asarray(values, dtype=dtype)\n",
    "    shape = np.asarray([len(sequences), np.asarray(indices).max(0)[1] + 1], dtype=np.int64)\n",
    "    \n",
    "    \n",
    "    return indices, values, shape"
   ]
  },
  {
   "cell_type": "code",
   "execution_count": 26,
   "metadata": {
    "collapsed": false
   },
   "outputs": [
    {
     "data": {
      "text/plain": [
       "'1.2.1'"
      ]
     },
     "execution_count": 26,
     "metadata": {},
     "output_type": "execute_result"
    }
   ],
   "source": [
    "tf.__version__"
   ]
  },
  {
   "cell_type": "code",
   "execution_count": 27,
   "metadata": {
    "collapsed": true
   },
   "outputs": [],
   "source": [
    "def conv_layer(input_tensor,training,kernel_size=(3,3),filters=32,dropout=None\n",
    "               ,clip_net=20.,batch_normalization=True,strides=(1,1,1,1),name=\"conv_layer\"):\n",
    "    with tf.variable_scope(name):\n",
    "        net = tf.layers.conv2d(input_tensor,filters=filters,kernel_size=kernel_size,padding='same',strides=strides)\n",
    "        if batch_normalization:\n",
    "            net = tf.layers.batch_normalization(net,training=training)\n",
    "        if dropout is not None:\n",
    "            net = tf.layers.dropout(net,dropout=1.-dropout)\n",
    "        net = tf.nn.relu(net)\n",
    "    with tf.variable_scope(\"minimal\"):\n",
    "        if clip_net is not None and clip_net != False and clip_net > 0:\n",
    "            net = tf.minimum(net,tf.Variable(clip_net))\n",
    "    return net\n",
    "\n",
    "def rnn_layer(input_tensor,layer_num,rnn_seq_lens,rnn_size,training,name=\"rnn_layer\"):\n",
    "    \"\"\"\n",
    "        input should be like [batch_size,time,freq * filters]\n",
    "    \"\"\"\n",
    "    with tf.variable_scope(name):\n",
    "        net = input_tensor\n",
    "        for i in range(layer_num):\n",
    "            with tf.variable_scope(\"{}_layer{}\".format(name,i + 1)):\n",
    "                forward_cell = tf.contrib.rnn.GRUCell(rnn_size)\n",
    "                backward_cell = tf.contrib.rnn.GRUCell(rnn_size)\n",
    "            #bi_outputs, bi_encoder_state,_ = tf.contrib.rnn.static_bidirectional_rnn(\n",
    "            #        forward_cell,backward_cell,tf.unstack(net,net_shape[1],1),dtype=tf.float32)\n",
    "\n",
    "                bi_outputs, bi_encoder_state = tf.nn.bidirectional_dynamic_rnn(\n",
    "                            forward_cell, backward_cell, net,\n",
    "                            sequence_length = rnn_seq_lens,time_major = False,dtype=tf.float32)\n",
    "                outputs_fw, outputs_bw = bi_outputs\n",
    "                rnn_outputs = outputs_fw + outputs_bw\n",
    "                rnn_outputs = tf.layers.batch_normalization(rnn_outputs, training=training)\n",
    "                net = rnn_outputs\n",
    "        return net\n",
    "    \n",
    "\n",
    "def _activation_summary(act,tensor_name):\n",
    "    \"\"\"Helper to create summaries for activations.\n",
    "    Creates a summary that provides a histogram of activations.\n",
    "    Creates a summary that measure the sparsity of activations.\n",
    "    Args:\n",
    "      act: Tensor\n",
    "    \"\"\"\n",
    "    # Remove 'tower_[0-9]/' from the name in case this is a multi-GPU training\n",
    "    # session. This helps the clarity of presentation on tensorboard.\n",
    "    tf.summary.histogram(tensor_name + '/activations', act)\n",
    "    tf.summary.scalar(tensor_name + '/sparsity', tf.nn.zero_fraction(act))\n",
    "    \n",
    "def _image_summary(img,tensor_name):\n",
    "    tf.summary.image(tensor_name,img)"
   ]
  },
  {
   "cell_type": "code",
   "execution_count": 28,
   "metadata": {
    "collapsed": false
   },
   "outputs": [
    {
     "data": {
      "text/plain": [
       "[2]"
      ]
     },
     "execution_count": 28,
     "metadata": {},
     "output_type": "execute_result"
    }
   ],
   "source": [
    "list(range(2,3))"
   ]
  },
  {
   "cell_type": "code",
   "execution_count": 29,
   "metadata": {
    "collapsed": false
   },
   "outputs": [
    {
     "data": {
      "text/plain": [
       "['/gpu:0', '/gpu:1']"
      ]
     },
     "execution_count": 29,
     "metadata": {},
     "output_type": "execute_result"
    }
   ],
   "source": [
    "GPU_CORES"
   ]
  },
  {
   "cell_type": "code",
   "execution_count": 30,
   "metadata": {
    "collapsed": true
   },
   "outputs": [],
   "source": [
    "def average_gradients(tower_grads):\n",
    "    \"\"\"Calculate the average gradient for each shared variable across all towers.\n",
    "    Note that this function provides a synchronization point across all towers.\n",
    "    Args:\n",
    "    tower_grads: List of lists of (gradient, variable) tuples. The outer list\n",
    "      is over individual gradients. The inner list is over the gradient\n",
    "      calculation for each tower.\n",
    "    Returns:\n",
    "     List of pairs of (gradient, variable) where the gradient has been averaged\n",
    "     across all towers.\n",
    "\n",
    "\n",
    "    \"\"\"\n",
    "    average_grads = []\n",
    "    for grad_and_vars in zip(*tower_grads):\n",
    "        # Note that each grad_and_vars looks like the following:\n",
    "        #   ((grad0_gpu0, var0_gpu0), ... , (grad0_gpuN, var0_gpuN))\n",
    "        grads = []\n",
    "        for g, _ in grad_and_vars:\n",
    "            # Add 0 dimension to the gradients to represent the tower.\n",
    "            expanded_g = tf.expand_dims(g, 0)\n",
    "            # Append on a 'tower' dimension which we will average over below.\n",
    "            grads.append(expanded_g)\n",
    "\n",
    "        # Average over the 'tower' dimension.\n",
    "        grad = tf.concat(grads,0)\n",
    "        grad = tf.reduce_mean(grad, 0)\n",
    "\n",
    "        # Keep in mind that the Variables are redundant because they are shared\n",
    "        # across towers. So .. we will just return the first tower's pointer to\n",
    "        # the Variable.\n",
    "        v = grad_and_vars[0][1]\n",
    "        grad_and_var = (grad, v)\n",
    "        average_grads.append(grad_and_var)\n",
    "    return average_grads"
   ]
  },
  {
   "cell_type": "code",
   "execution_count": 31,
   "metadata": {
    "collapsed": false
   },
   "outputs": [
    {
     "data": {
      "text/plain": [
       "[(0, '/gpu:0'), (1, '/gpu:1')]"
      ]
     },
     "execution_count": 31,
     "metadata": {},
     "output_type": "execute_result"
    }
   ],
   "source": [
    "list(enumerate(GPU_CORES))"
   ]
  },
  {
   "cell_type": "code",
   "execution_count": 32,
   "metadata": {
    "collapsed": false
   },
   "outputs": [
    {
     "name": "stdout",
     "output_type": "stream",
     "text": [
      "0\n",
      "finish 0\n",
      "1\n",
      "finish 1\n"
     ]
    }
   ],
   "source": [
    "assert(len(GPU_CORES) <= 4)\n",
    "gpu_num = len(GPU_CORES)\n",
    "tf.reset_default_graph()\n",
    "\n",
    "graph = tf.Graph()\n",
    "with graph.as_default():\n",
    "    initializer = tf.truncated_normal_initializer(\n",
    "        mean=0.0,stddev=0.02)\n",
    "    tf.get_variable_scope().set_initializer(initializer)\n",
    "    \n",
    "    if gpu_num >= 1:\n",
    "        input_sound1 = tf.placeholder(tf.float32,shape=[BATCH_SIZE,161,None,1])\n",
    "        targets1 = tf.sparse_placeholder(tf.int32)\n",
    "    if gpu_num >= 2:\n",
    "        input_sound2 = tf.placeholder(tf.float32,shape=[BATCH_SIZE,161,None,1])\n",
    "        targets2 = tf.sparse_placeholder(tf.int32)\n",
    "    if gpu_num >= 3:\n",
    "        input_sound3 = tf.placeholder(tf.float32,shape=[BATCH_SIZE,161,None,1])\n",
    "        targets3 = tf.sparse_placeholder(tf.int32)\n",
    "    if gpu_num >= 4:\n",
    "        input_sound4 = tf.placeholder(tf.float32,shape=[BATCH_SIZE,161,None,1])\n",
    "        targets4 = tf.sparse_placeholder(tf.int32)\n",
    "    # [batch_size,freq,time,1]\n",
    "\n",
    "    voicelength = tf.placeholder(tf.int32, shape=(BATCH_SIZE * gpu_num))\n",
    "    global_step = tf.train.get_or_create_global_step()\n",
    "    max_grad = tf.placeholder(tf.float32)\n",
    "    \n",
    "    #, shape=np.array([BATCH_SIZE,4], dtype=np.int64))\n",
    "\n",
    "    learning_rate = tf.placeholder(tf.float32)\n",
    "    training=tf.placeholder(tf.bool)\n",
    "    optimizer = tf.train.AdamOptimizer(learning_rate=learning_rate)\n",
    "    optimizer_sgd = tf.train.MomentumOptimizer(learning_rate=learning_rate,momentum=0.9)\n",
    "    tower_gradients = []\n",
    "    tower_gradients_sgd = []\n",
    "\n",
    "with graph.as_default():\n",
    "    with tf.variable_scope(tf.get_variable_scope()) as vscope:\n",
    "        for ind,one_core in enumerate(GPU_CORES):\n",
    "            print(ind)\n",
    "            with tf.device(\"\".format(one_core)):\n",
    "                if ind == 0:\n",
    "                    targets = targets1\n",
    "                    input_sound = input_sound1\n",
    "                elif ind == 1:\n",
    "                    targets = targets2\n",
    "                    input_sound = input_sound2\n",
    "                elif ind == 2:\n",
    "                    targets = targets3\n",
    "                    input_sound = input_sound3\n",
    "                elif ind == 3:\n",
    "                    targets = targets4\n",
    "                    input_sound = input_sound4\n",
    "\n",
    "                conv1 = conv_layer(input_sound,training,kernel_size=(41,11),filters=32,strides=(2,2),name=\"deepspeech_conv_layer1\")\n",
    "                conv2 = conv_layer(conv1,training,kernel_size=(21,11),filters=32,strides=(2,1),name=\"deepspeech_conv_layer2\")\n",
    "                conv3 = conv_layer(conv2,training,kernel_size=(21,11),filters=96,strides=(2,1),name=\"deepspeech_conv_layer3\")# filters=96 according to paper\n",
    "\n",
    "\n",
    "                net = conv3\n",
    "                net = tf.transpose(net,[0,2,1,3])\n",
    "                net_shape = net.get_shape().as_list()\n",
    "                net = tf.reshape(net,[BATCH_SIZE,-1,net_shape[-1] * net_shape[-2]])\n",
    "                # [batch_size,time,freq * filters]\n",
    "                rnn_out = rnn_layer(net,HIDDEN_LAYERS,voicelength[ind * BATCH_SIZE:(ind + 1) * BATCH_SIZE],RNN_SIZE,training=training,name=\"deepspeech_rnn_layer\")\n",
    "                _activation_summary(rnn_out,'rnn_output')\n",
    "                net_result = tf.layers.dense(rnn_out,len(ind2py) + 2,activation=None,name=\"deepspeech_dense\")\n",
    "                _activation_summary(net_result,'net_result')\n",
    "\n",
    "                with tf.variable_scope(\"Loss\"):\n",
    "                    ctc_loss = tf.nn.ctc_loss(labels=targets,inputs=net_result,sequence_length=voicelength[ind * BATCH_SIZE:(ind + 1) * BATCH_SIZE]\n",
    "                                              ,time_major=False)\n",
    "                    loss = tf.reduce_mean(ctc_loss)\n",
    "                    tf.summary.scalar(\"Loss\",loss)\n",
    "\n",
    "                with tf.variable_scope(\"LearningRate\"):\n",
    "                    tf.summary.scalar(\"LearningRate\",learning_rate)\n",
    "\n",
    "\n",
    "                decoded, log_prob = tf.nn.ctc_beam_search_decoder(tf.transpose(net_result, (1, 0, 2)),\n",
    "                                                                  sequence_length=voicelength[ind * BATCH_SIZE:(ind + 1) * BATCH_SIZE],merge_repeated=False)\n",
    "                dense_decoded = tf.cast(tf.sparse_tensor_to_dense(decoded[0], default_value=0), tf.int32)\n",
    "\n",
    "                with tf.variable_scope(\"EditDistance\"):\n",
    "                    dis = tf.reduce_mean(tf.edit_distance(tf.cast(decoded[0], tf.int32), targets))\n",
    "                    tf.summary.scalar(\"EditDistance\",dis)\n",
    "\n",
    "                trainable_params = tf.trainable_variables()\n",
    "                trainable_params = [i for i in trainable_params if\n",
    "                                    ('deepspeech' in i.name and 'Minimum_grad' not in i.name)]\n",
    "                #grads_e = optimizer.compute_gradients(ctc_loss, var_list = trainable_params)\n",
    "                #grads_e_sgd = optimizer_sgd.compute_gradients(ctc_loss, var_list = trainable_params)\n",
    "                #gradients = tf.gradients(ctc_loss, trainable_params)\n",
    "                #clip_gradients, _ = tf.clip_by_global_norm(gradients, max_grad)\n",
    "                #clip_gradients_sgd, _ = tf.clip_by_global_norm(gradients, max_grad)\n",
    "                #L_loss = tf.clip_by_value(loss, -max_grad, max_grad)\n",
    "                L_loss = loss\n",
    "                tf.get_variable_scope().reuse_variables()\n",
    "                #train_op = optimizer.minimize(loss,global_step=global_step)\n",
    "                #train_op = optimizer.apply_gradients(\n",
    "                #        zip(clip_gradients, trainable_params), global_step=global_step)\n",
    "                grads_e_ori = optimizer.compute_gradients(L_loss, var_list = trainable_params)\n",
    "                grads_e_ori = [i[0] for i in grads_e_ori]\n",
    "                grads_e, _ = tf.clip_by_global_norm(grads_e_ori, max_grad)\n",
    "                #grads_e = grads_e_ori\n",
    "                grads_e_sgd_ori = optimizer_sgd.compute_gradients(L_loss, var_list = trainable_params)\n",
    "                grads_e_sgd_ori = [i[0] for i in grads_e_sgd_ori]\n",
    "                grads_e_sgd, _ = tf.clip_by_global_norm(grads_e_sgd_ori, max_grad)\n",
    "                #grads_e_sgd = grads_e_sgd_ori\n",
    "                tower_gradients.append(zip(grads_e,trainable_params))\n",
    "                tower_gradients_sgd.append(zip(grads_e_sgd,trainable_params))\n",
    "                print('finish {}'.format(ind))\n",
    "\n",
    "\n",
    "with graph.as_default():\n",
    "    summary_op = tf.summary.merge_all()\n",
    "    train_summary_writer = tf.summary.FileWriter(\"./log/compair/{}\".format(MODEL_NAME), graph)\n",
    "        \n",
    "    grads = average_gradients(tower_gradients)\n",
    "    grads_sgd = average_gradients(tower_gradients_sgd)\n",
    "    update_ops = tf.get_collection(tf.GraphKeys.UPDATE_OPS)\n",
    "    with tf.control_dependencies(update_ops):\n",
    "        train_op = optimizer.apply_gradients(grads,global_step)\n",
    "        train_op_sgd = optimizer_sgd.apply_gradients(grads_sgd,global_step)\n",
    "    with tf.variable_scope(\"Validation\"):\n",
    "        test_loss = tf.placeholder(tf.float32)\n",
    "        loss_op = tf.summary.scalar(\"Accuracy\",test_loss)\n",
    "        editdistance = tf.placeholder(tf.float32)\n",
    "        editdistance_op = tf.summary.scalar(\"EditDistance\",editdistance)\n",
    "    test_op = tf.summary.merge([loss_op,editdistance_op])\n"
   ]
  },
  {
   "cell_type": "code",
   "execution_count": 33,
   "metadata": {
    "collapsed": false
   },
   "outputs": [
    {
     "data": {
      "text/plain": [
       "[<tf.Tensor 'clip_by_global_norm_2/clip_by_global_norm_2/_0:0' shape=<unknown> dtype=float32>,\n",
       " <tf.Tensor 'clip_by_global_norm_2/clip_by_global_norm_2/_1:0' shape=<unknown> dtype=float32>]"
      ]
     },
     "execution_count": 33,
     "metadata": {},
     "output_type": "execute_result"
    }
   ],
   "source": [
    "grads_e[:2]"
   ]
  },
  {
   "cell_type": "code",
   "execution_count": 34,
   "metadata": {
    "collapsed": false
   },
   "outputs": [
    {
     "data": {
      "text/plain": [
       "[<tf.Tensor 'gradients_2/deepspeech_conv_layer1_1/conv2d/convolution_grad/tuple/control_dependency_1:0' shape=(41, 11, 1, 32) dtype=float32>,\n",
       " <tf.Tensor 'gradients_2/deepspeech_conv_layer1_1/conv2d/BiasAdd_grad/tuple/control_dependency_1:0' shape=(32,) dtype=float32>]"
      ]
     },
     "execution_count": 34,
     "metadata": {},
     "output_type": "execute_result"
    }
   ],
   "source": [
    "grads_e_ori[:2]"
   ]
  },
  {
   "cell_type": "code",
   "execution_count": 35,
   "metadata": {
    "collapsed": false
   },
   "outputs": [
    {
     "data": {
      "text/plain": [
       "(TensorShape([Dimension(32), Dimension(None), Dimension(56)]),\n",
       " TensorShape([Dimension(32), Dimension(None), Dimension(2016)]),\n",
       " TensorShape([Dimension(32)]),\n",
       " TensorShape([Dimension(32), Dimension(None), Dimension(2016)]),\n",
       " [32, None, 21, 96])"
      ]
     },
     "execution_count": 35,
     "metadata": {},
     "output_type": "execute_result"
    }
   ],
   "source": [
    "net_result.shape,net.shape,ctc_loss.shape,net.shape,net_shape"
   ]
  },
  {
   "cell_type": "raw",
   "metadata": {
    "collapsed": true
   },
   "source": [
    "with graph.as_default():\n",
    "    config = tf.ConfigProto()\n",
    "    config.gpu_options.allow_growth = True\n",
    "    config.allow_soft_placement = True\n",
    "    sess = tf.Session(REMOTE_WORKER,config=config)\n",
    "    \n",
    "    sess.run(tf.global_variables_initializer())\n",
    "    tf.train.global_step(sess, global_step)"
   ]
  },
  {
   "cell_type": "code",
   "execution_count": 36,
   "metadata": {
    "collapsed": true
   },
   "outputs": [],
   "source": [
    "import os\n",
    "if not os.path.exists(\"models/{}\".format(MODEL_NAME)):\n",
    "    os.mkdir(\"models/{}\".format(MODEL_NAME))"
   ]
  },
  {
   "cell_type": "code",
   "execution_count": 37,
   "metadata": {
    "collapsed": false
   },
   "outputs": [],
   "source": [
    "allmodels = [i  for i in os.listdir('models/{}'.format(MODEL_NAME)) if ('meta' in i and 'model' in i)]"
   ]
  },
  {
   "cell_type": "code",
   "execution_count": 38,
   "metadata": {
    "collapsed": false
   },
   "outputs": [],
   "source": [
    "epochs = [int(i[-6]) for i in allmodels]"
   ]
  },
  {
   "cell_type": "code",
   "execution_count": 39,
   "metadata": {
    "collapsed": false
   },
   "outputs": [
    {
     "data": {
      "text/plain": [
       "'1_24-pinyin'"
      ]
     },
     "execution_count": 39,
     "metadata": {},
     "output_type": "execute_result"
    }
   ],
   "source": [
    "MODEL_NAME"
   ]
  },
  {
   "cell_type": "code",
   "execution_count": 40,
   "metadata": {
    "collapsed": true
   },
   "outputs": [],
   "source": [
    "N_BATCH = len(voice_dataset_train) // (BATCH_SIZE * gpu_num)\n",
    "N_BATCH_TEST = len(voice_dataset_test) // (BATCH_SIZE * gpu_num)"
   ]
  },
  {
   "cell_type": "code",
   "execution_count": 41,
   "metadata": {
    "collapsed": false
   },
   "outputs": [],
   "source": [
    "batch_x,batch_y_ori,s,a,t = voice_flow_train.next(BATCH_SIZE)['data']"
   ]
  },
  {
   "cell_type": "code",
   "execution_count": 42,
   "metadata": {
    "collapsed": false
   },
   "outputs": [
    {
     "data": {
      "text/plain": [
       "(32, 161, 951, 1)"
      ]
     },
     "execution_count": 42,
     "metadata": {},
     "output_type": "execute_result"
    }
   ],
   "source": [
    "batch_x.shape"
   ]
  },
  {
   "cell_type": "code",
   "execution_count": 43,
   "metadata": {
    "collapsed": false
   },
   "outputs": [],
   "source": [
    "if epochs:\n",
    "    train_epoch = max(epochs) + 1\n",
    "else:\n",
    "    train_epoch = 1"
   ]
  },
  {
   "cell_type": "code",
   "execution_count": 44,
   "metadata": {
    "collapsed": true
   },
   "outputs": [],
   "source": [
    "train_batch = 1"
   ]
  },
  {
   "cell_type": "code",
   "execution_count": 45,
   "metadata": {
    "collapsed": false
   },
   "outputs": [
    {
     "name": "stdout",
     "output_type": "stream",
     "text": [
      "INFO:tensorflow:Restoring parameters from ./models/1_24-pinyin/model_3\n"
     ]
    }
   ],
   "source": [
    "with graph.as_default():\n",
    "    config = tf.ConfigProto()\n",
    "    config.gpu_options.allow_growth = True\n",
    "    config.allow_soft_placement = True\n",
    "    sess = tf.Session(REMOTE_WORKER,config=config)\n",
    "    \n",
    "    saver = tf.train.Saver()\n",
    "    saver.restore(sess,'./models/{}/model_{}'.format(MODEL_NAME,train_epoch - 1))"
   ]
  },
  {
   "cell_type": "code",
   "execution_count": 46,
   "metadata": {
    "collapsed": false
   },
   "outputs": [
    {
     "data": {
      "text/plain": [
       "119341"
      ]
     },
     "execution_count": 46,
     "metadata": {},
     "output_type": "execute_result"
    }
   ],
   "source": [
    "len(voice_dataset_train)"
   ]
  },
  {
   "cell_type": "code",
   "execution_count": 47,
   "metadata": {
    "collapsed": false
   },
   "outputs": [
    {
     "data": {
      "text/plain": [
       "32"
      ]
     },
     "execution_count": 47,
     "metadata": {},
     "output_type": "execute_result"
    }
   ],
   "source": [
    "BATCH_SIZE"
   ]
  },
  {
   "cell_type": "code",
   "execution_count": 48,
   "metadata": {
    "collapsed": false
   },
   "outputs": [
    {
     "data": {
      "text/plain": [
       "1864"
      ]
     },
     "execution_count": 48,
     "metadata": {},
     "output_type": "execute_result"
    }
   ],
   "source": [
    "N_BATCH"
   ]
  },
  {
   "cell_type": "code",
   "execution_count": null,
   "metadata": {
    "collapsed": false
   },
   "outputs": [
    {
     "name": "stdout",
     "output_type": "stream",
     "text": [
      "EPOCH 4 STEP 53 LR 0.0003 LOSS 19.44 DIS 0.11 t1 0.03 t2 7.41 2.55 % [=>-------------------------------------------------] 3040/119296 \t used:353s eta:13506 s"
     ]
    },
    {
     "name": "stderr",
     "output_type": "stream",
     "text": [
      "Traceback (most recent call last):\n",
      "  File \"/data/zonghua/envs/icybee/lib/python3.5/site-packages/tensorflow/python/client/session.py\", line 1139, in _do_call\n",
      "    return fn(*args)\n",
      "  File \"/data/zonghua/envs/icybee/lib/python3.5/site-packages/tensorflow/python/client/session.py\", line 1121, in _run_fn\n",
      "    status, run_metadata)\n",
      "  File \"/usr/lib/python3.5/contextlib.py\", line 66, in __exit__\n",
      "    next(self.gen)\n",
      "  File \"/data/zonghua/envs/icybee/lib/python3.5/site-packages/tensorflow/python/framework/errors_impl.py\", line 466, in raise_exception_on_not_ok_status\n",
      "    pywrap_tensorflow.TF_GetCode(status))\n",
      "tensorflow.python.framework.errors_impl.ResourceExhaustedError: OOM when allocating tensor with shape[32,400]\n",
      "\t [[Node: deepspeech_rnn_layer/deepspeech_rnn_layer_layer5/bidirectional_rnn/fw/fw/while/fw/gru_cell/mul = Mul[T=DT_FLOAT, _device=\"/job:local/replica:0/task:0/gpu:0\"](deepspeech_rnn_layer/deepspeech_rnn_layer_layer5/bidirectional_rnn/fw/fw/while/fw/gru_cell/gates/split:1, deepspeech_rnn_layer/deepspeech_rnn_layer_layer5/bidirectional_rnn/fw/fw/while/Identity_2)]]\n",
      "\t [[Node: deepspeech_dense/Tensordot/Shape_G2323 = _Recv[client_terminated=false, recv_device=\"/job:local/replica:0/task:0/cpu:0\", send_device=\"/job:local/replica:0/task:0/gpu:0\", send_device_incarnation=-7979307377332489351, tensor_name=\"edge_2875_deepspeech_dense/Tensordot/Shape\", tensor_type=DT_INT32, _device=\"/job:local/replica:0/task:0/cpu:0\"]()]]\n",
      "\n",
      "During handling of the above exception, another exception occurred:\n",
      "\n",
      "Traceback (most recent call last):\n",
      "  File \"<ipython-input-50-0c9748b93176>\", line 96, in <module>\n",
      "    [dis,train_op,loss,summary_op,global_step],feed_dict=feeddic)\n",
      "  File \"/data/zonghua/envs/icybee/lib/python3.5/site-packages/tensorflow/python/client/session.py\", line 789, in run\n",
      "    run_metadata_ptr)\n",
      "  File \"/data/zonghua/envs/icybee/lib/python3.5/site-packages/tensorflow/python/client/session.py\", line 997, in _run\n",
      "    feed_dict_string, options, run_metadata)\n",
      "  File \"/data/zonghua/envs/icybee/lib/python3.5/site-packages/tensorflow/python/client/session.py\", line 1132, in _do_run\n",
      "    target_list, options, run_metadata)\n",
      "  File \"/data/zonghua/envs/icybee/lib/python3.5/site-packages/tensorflow/python/client/session.py\", line 1152, in _do_call\n",
      "    raise type(e)(node_def, op, message)\n",
      "tensorflow.python.framework.errors_impl.ResourceExhaustedError: OOM when allocating tensor with shape[32,400]\n",
      "\t [[Node: deepspeech_rnn_layer/deepspeech_rnn_layer_layer5/bidirectional_rnn/fw/fw/while/fw/gru_cell/mul = Mul[T=DT_FLOAT, _device=\"/job:local/replica:0/task:0/gpu:0\"](deepspeech_rnn_layer/deepspeech_rnn_layer_layer5/bidirectional_rnn/fw/fw/while/fw/gru_cell/gates/split:1, deepspeech_rnn_layer/deepspeech_rnn_layer_layer5/bidirectional_rnn/fw/fw/while/Identity_2)]]\n",
      "\t [[Node: deepspeech_dense/Tensordot/Shape_G2323 = _Recv[client_terminated=false, recv_device=\"/job:local/replica:0/task:0/cpu:0\", send_device=\"/job:local/replica:0/task:0/gpu:0\", send_device_incarnation=-7979307377332489351, tensor_name=\"edge_2875_deepspeech_dense/Tensordot/Shape\", tensor_type=DT_INT32, _device=\"/job:local/replica:0/task:0/cpu:0\"]()]]\n",
      "\n",
      "Caused by op 'deepspeech_rnn_layer/deepspeech_rnn_layer_layer5/bidirectional_rnn/fw/fw/while/fw/gru_cell/mul', defined at:\n",
      "  File \"/usr/lib/python3.5/runpy.py\", line 184, in _run_module_as_main\n",
      "    \"__main__\", mod_spec)\n",
      "  File \"/usr/lib/python3.5/runpy.py\", line 85, in _run_code\n",
      "    exec(code, run_globals)\n",
      "  File \"/data/zonghua/envs/icybee/lib/python3.5/site-packages/ipykernel_launcher.py\", line 16, in <module>\n",
      "    app.launch_new_instance()\n",
      "  File \"/data/zonghua/envs/icybee/lib/python3.5/site-packages/traitlets/config/application.py\", line 658, in launch_instance\n",
      "    app.start()\n",
      "  File \"/data/zonghua/envs/icybee/lib/python3.5/site-packages/ipykernel/kernelapp.py\", line 477, in start\n",
      "    ioloop.IOLoop.instance().start()\n",
      "  File \"/data/zonghua/envs/icybee/lib/python3.5/site-packages/zmq/eventloop/ioloop.py\", line 177, in start\n",
      "    super(ZMQIOLoop, self).start()\n",
      "  File \"/data/zonghua/envs/icybee/lib/python3.5/site-packages/tornado/ioloop.py\", line 888, in start\n",
      "    handler_func(fd_obj, events)\n",
      "  File \"/data/zonghua/envs/icybee/lib/python3.5/site-packages/tornado/stack_context.py\", line 277, in null_wrapper\n",
      "    return fn(*args, **kwargs)\n",
      "  File \"/data/zonghua/envs/icybee/lib/python3.5/site-packages/zmq/eventloop/zmqstream.py\", line 440, in _handle_events\n",
      "    self._handle_recv()\n",
      "  File \"/data/zonghua/envs/icybee/lib/python3.5/site-packages/zmq/eventloop/zmqstream.py\", line 472, in _handle_recv\n",
      "    self._run_callback(callback, msg)\n",
      "  File \"/data/zonghua/envs/icybee/lib/python3.5/site-packages/zmq/eventloop/zmqstream.py\", line 414, in _run_callback\n",
      "    callback(*args, **kwargs)\n",
      "  File \"/data/zonghua/envs/icybee/lib/python3.5/site-packages/tornado/stack_context.py\", line 277, in null_wrapper\n",
      "    return fn(*args, **kwargs)\n",
      "  File \"/data/zonghua/envs/icybee/lib/python3.5/site-packages/ipykernel/kernelbase.py\", line 283, in dispatcher\n",
      "    return self.dispatch_shell(stream, msg)\n",
      "  File \"/data/zonghua/envs/icybee/lib/python3.5/site-packages/ipykernel/kernelbase.py\", line 235, in dispatch_shell\n",
      "    handler(stream, idents, msg)\n",
      "  File \"/data/zonghua/envs/icybee/lib/python3.5/site-packages/ipykernel/kernelbase.py\", line 399, in execute_request\n",
      "    user_expressions, allow_stdin)\n",
      "  File \"/data/zonghua/envs/icybee/lib/python3.5/site-packages/ipykernel/ipkernel.py\", line 196, in do_execute\n",
      "    res = shell.run_cell(code, store_history=store_history, silent=silent)\n",
      "  File \"/data/zonghua/envs/icybee/lib/python3.5/site-packages/ipykernel/zmqshell.py\", line 533, in run_cell\n",
      "    return super(ZMQInteractiveShell, self).run_cell(*args, **kwargs)\n",
      "  File \"/data/zonghua/envs/icybee/lib/python3.5/site-packages/IPython/core/interactiveshell.py\", line 2698, in run_cell\n",
      "    interactivity=interactivity, compiler=compiler, result=result)\n",
      "  File \"/data/zonghua/envs/icybee/lib/python3.5/site-packages/IPython/core/interactiveshell.py\", line 2802, in run_ast_nodes\n",
      "    if self.run_code(code, result):\n",
      "  File \"/data/zonghua/envs/icybee/lib/python3.5/site-packages/IPython/core/interactiveshell.py\", line 2862, in run_code\n",
      "    exec(code_obj, self.user_global_ns, self.user_ns)\n",
      "  File \"<ipython-input-32-d0865951dcc0>\", line 66, in <module>\n",
      "    rnn_out = rnn_layer(net,HIDDEN_LAYERS,voicelength[ind * BATCH_SIZE:(ind + 1) * BATCH_SIZE],RNN_SIZE,training=training,name=\"deepspeech_rnn_layer\")\n",
      "  File \"<ipython-input-27-2db1d12a07ea>\", line 30, in rnn_layer\n",
      "    sequence_length = rnn_seq_lens,time_major = False,dtype=tf.float32)\n",
      "  File \"/data/zonghua/envs/icybee/lib/python3.5/site-packages/tensorflow/python/ops/rnn.py\", line 375, in bidirectional_dynamic_rnn\n",
      "    time_major=time_major, scope=fw_scope)\n",
      "  File \"/data/zonghua/envs/icybee/lib/python3.5/site-packages/tensorflow/python/ops/rnn.py\", line 574, in dynamic_rnn\n",
      "    dtype=dtype)\n",
      "  File \"/data/zonghua/envs/icybee/lib/python3.5/site-packages/tensorflow/python/ops/rnn.py\", line 737, in _dynamic_rnn_loop\n",
      "    swap_memory=swap_memory)\n",
      "  File \"/data/zonghua/envs/icybee/lib/python3.5/site-packages/tensorflow/python/ops/control_flow_ops.py\", line 2770, in while_loop\n",
      "    result = context.BuildLoop(cond, body, loop_vars, shape_invariants)\n",
      "  File \"/data/zonghua/envs/icybee/lib/python3.5/site-packages/tensorflow/python/ops/control_flow_ops.py\", line 2599, in BuildLoop\n",
      "    pred, body, original_loop_vars, loop_vars, shape_invariants)\n",
      "  File \"/data/zonghua/envs/icybee/lib/python3.5/site-packages/tensorflow/python/ops/control_flow_ops.py\", line 2549, in _BuildLoop\n",
      "    body_result = body(*packed_vars_for_body)\n",
      "  File \"/data/zonghua/envs/icybee/lib/python3.5/site-packages/tensorflow/python/ops/rnn.py\", line 720, in _time_step\n",
      "    skip_conditionals=True)\n",
      "  File \"/data/zonghua/envs/icybee/lib/python3.5/site-packages/tensorflow/python/ops/rnn.py\", line 206, in _rnn_step\n",
      "    new_output, new_state = call_cell()\n",
      "  File \"/data/zonghua/envs/icybee/lib/python3.5/site-packages/tensorflow/python/ops/rnn.py\", line 708, in <lambda>\n",
      "    call_cell = lambda: cell(input_t, state)\n",
      "  File \"/data/zonghua/envs/icybee/lib/python3.5/site-packages/tensorflow/python/ops/rnn_cell_impl.py\", line 180, in __call__\n",
      "    return super(RNNCell, self).__call__(inputs, state)\n",
      "  File \"/data/zonghua/envs/icybee/lib/python3.5/site-packages/tensorflow/python/layers/base.py\", line 441, in __call__\n",
      "    outputs = self.call(inputs, *args, **kwargs)\n",
      "  File \"/data/zonghua/envs/icybee/lib/python3.5/site-packages/tensorflow/python/ops/rnn_cell_impl.py\", line 301, in call\n",
      "    new_h = u * state + (1 - u) * c\n",
      "  File \"/data/zonghua/envs/icybee/lib/python3.5/site-packages/tensorflow/python/ops/math_ops.py\", line 838, in binary_op_wrapper\n",
      "    return func(x, y, name=name)\n",
      "  File \"/data/zonghua/envs/icybee/lib/python3.5/site-packages/tensorflow/python/ops/math_ops.py\", line 1061, in _mul_dispatch\n",
      "    return gen_math_ops._mul(x, y, name=name)\n",
      "  File \"/data/zonghua/envs/icybee/lib/python3.5/site-packages/tensorflow/python/ops/gen_math_ops.py\", line 1377, in _mul\n",
      "    result = _op_def_lib.apply_op(\"Mul\", x=x, y=y, name=name)\n",
      "  File \"/data/zonghua/envs/icybee/lib/python3.5/site-packages/tensorflow/python/framework/op_def_library.py\", line 767, in apply_op\n",
      "    op_def=op_def)\n",
      "  File \"/data/zonghua/envs/icybee/lib/python3.5/site-packages/tensorflow/python/framework/ops.py\", line 2506, in create_op\n",
      "    original_op=self._default_original_op, op_def=op_def)\n",
      "  File \"/data/zonghua/envs/icybee/lib/python3.5/site-packages/tensorflow/python/framework/ops.py\", line 1269, in __init__\n",
      "    self._traceback = _extract_stack()\n",
      "\n",
      "ResourceExhaustedError (see above for traceback): OOM when allocating tensor with shape[32,400]\n",
      "\t [[Node: deepspeech_rnn_layer/deepspeech_rnn_layer_layer5/bidirectional_rnn/fw/fw/while/fw/gru_cell/mul = Mul[T=DT_FLOAT, _device=\"/job:local/replica:0/task:0/gpu:0\"](deepspeech_rnn_layer/deepspeech_rnn_layer_layer5/bidirectional_rnn/fw/fw/while/fw/gru_cell/gates/split:1, deepspeech_rnn_layer/deepspeech_rnn_layer_layer5/bidirectional_rnn/fw/fw/while/Identity_2)]]\n",
      "\t [[Node: deepspeech_dense/Tensordot/Shape_G2323 = _Recv[client_terminated=false, recv_device=\"/job:local/replica:0/task:0/cpu:0\", send_device=\"/job:local/replica:0/task:0/gpu:0\", send_device_incarnation=-7979307377332489351, tensor_name=\"edge_2875_deepspeech_dense/Tensordot/Shape\", tensor_type=DT_INT32, _device=\"/job:local/replica:0/task:0/cpu:0\"]()]]\n",
      "\n"
     ]
    },
    {
     "name": "stdout",
     "output_type": "stream",
     "text": [
      "EPOCH 4 STEP 95 LR 0.0003 LOSS 18.49 DIS 0.11 t1 0.03 t2 7.87 4.75 % [==>------------------------------------------------] 5664/119296 \t used:788s eta:15813 s"
     ]
    },
    {
     "name": "stderr",
     "output_type": "stream",
     "text": [
      "Traceback (most recent call last):\n",
      "  File \"/data/zonghua/envs/icybee/lib/python3.5/site-packages/tensorflow/python/client/session.py\", line 1139, in _do_call\n",
      "    return fn(*args)\n",
      "  File \"/data/zonghua/envs/icybee/lib/python3.5/site-packages/tensorflow/python/client/session.py\", line 1121, in _run_fn\n",
      "    status, run_metadata)\n",
      "  File \"/usr/lib/python3.5/contextlib.py\", line 66, in __exit__\n",
      "    next(self.gen)\n",
      "  File \"/data/zonghua/envs/icybee/lib/python3.5/site-packages/tensorflow/python/framework/errors_impl.py\", line 466, in raise_exception_on_not_ok_status\n",
      "    pywrap_tensorflow.TF_GetCode(status))\n",
      "tensorflow.python.framework.errors_impl.ResourceExhaustedError: OOM when allocating tensor with shape[32,400]\n",
      "\t [[Node: deepspeech_rnn_layer/deepspeech_rnn_layer_layer5/bidirectional_rnn/fw/fw/while/fw/gru_cell/candidate/candidate/MatMul = MatMul[T=DT_FLOAT, transpose_a=false, transpose_b=false, _device=\"/job:local/replica:0/task:0/gpu:0\"](deepspeech_rnn_layer/deepspeech_rnn_layer_layer5/bidirectional_rnn/fw/fw/while/fw/gru_cell/candidate/candidate/concat, deepspeech_rnn_layer/deepspeech_rnn_layer_layer5/bidirectional_rnn/fw/fw/while/fw/gru_cell/candidate/candidate/MatMul/Enter)]]\n",
      "\t [[Node: deepspeech_dense/Tensordot/Shape_G2323 = _Recv[client_terminated=false, recv_device=\"/job:local/replica:0/task:0/cpu:0\", send_device=\"/job:local/replica:0/task:0/gpu:0\", send_device_incarnation=-7979307377332489351, tensor_name=\"edge_2875_deepspeech_dense/Tensordot/Shape\", tensor_type=DT_INT32, _device=\"/job:local/replica:0/task:0/cpu:0\"]()]]\n",
      "\n",
      "During handling of the above exception, another exception occurred:\n",
      "\n",
      "Traceback (most recent call last):\n",
      "  File \"<ipython-input-50-0c9748b93176>\", line 96, in <module>\n",
      "    [dis,train_op,loss,summary_op,global_step],feed_dict=feeddic)\n",
      "  File \"/data/zonghua/envs/icybee/lib/python3.5/site-packages/tensorflow/python/client/session.py\", line 789, in run\n",
      "    run_metadata_ptr)\n",
      "  File \"/data/zonghua/envs/icybee/lib/python3.5/site-packages/tensorflow/python/client/session.py\", line 997, in _run\n",
      "    feed_dict_string, options, run_metadata)\n",
      "  File \"/data/zonghua/envs/icybee/lib/python3.5/site-packages/tensorflow/python/client/session.py\", line 1132, in _do_run\n",
      "    target_list, options, run_metadata)\n",
      "  File \"/data/zonghua/envs/icybee/lib/python3.5/site-packages/tensorflow/python/client/session.py\", line 1152, in _do_call\n",
      "    raise type(e)(node_def, op, message)\n",
      "tensorflow.python.framework.errors_impl.ResourceExhaustedError: OOM when allocating tensor with shape[32,400]\n",
      "\t [[Node: deepspeech_rnn_layer/deepspeech_rnn_layer_layer5/bidirectional_rnn/fw/fw/while/fw/gru_cell/candidate/candidate/MatMul = MatMul[T=DT_FLOAT, transpose_a=false, transpose_b=false, _device=\"/job:local/replica:0/task:0/gpu:0\"](deepspeech_rnn_layer/deepspeech_rnn_layer_layer5/bidirectional_rnn/fw/fw/while/fw/gru_cell/candidate/candidate/concat, deepspeech_rnn_layer/deepspeech_rnn_layer_layer5/bidirectional_rnn/fw/fw/while/fw/gru_cell/candidate/candidate/MatMul/Enter)]]\n",
      "\t [[Node: deepspeech_dense/Tensordot/Shape_G2323 = _Recv[client_terminated=false, recv_device=\"/job:local/replica:0/task:0/cpu:0\", send_device=\"/job:local/replica:0/task:0/gpu:0\", send_device_incarnation=-7979307377332489351, tensor_name=\"edge_2875_deepspeech_dense/Tensordot/Shape\", tensor_type=DT_INT32, _device=\"/job:local/replica:0/task:0/cpu:0\"]()]]\n",
      "\n",
      "Caused by op 'deepspeech_rnn_layer/deepspeech_rnn_layer_layer5/bidirectional_rnn/fw/fw/while/fw/gru_cell/candidate/candidate/MatMul', defined at:\n",
      "  File \"/usr/lib/python3.5/runpy.py\", line 184, in _run_module_as_main\n",
      "    \"__main__\", mod_spec)\n",
      "  File \"/usr/lib/python3.5/runpy.py\", line 85, in _run_code\n",
      "    exec(code, run_globals)\n",
      "  File \"/data/zonghua/envs/icybee/lib/python3.5/site-packages/ipykernel_launcher.py\", line 16, in <module>\n",
      "    app.launch_new_instance()\n",
      "  File \"/data/zonghua/envs/icybee/lib/python3.5/site-packages/traitlets/config/application.py\", line 658, in launch_instance\n",
      "    app.start()\n",
      "  File \"/data/zonghua/envs/icybee/lib/python3.5/site-packages/ipykernel/kernelapp.py\", line 477, in start\n",
      "    ioloop.IOLoop.instance().start()\n",
      "  File \"/data/zonghua/envs/icybee/lib/python3.5/site-packages/zmq/eventloop/ioloop.py\", line 177, in start\n",
      "    super(ZMQIOLoop, self).start()\n",
      "  File \"/data/zonghua/envs/icybee/lib/python3.5/site-packages/tornado/ioloop.py\", line 888, in start\n",
      "    handler_func(fd_obj, events)\n",
      "  File \"/data/zonghua/envs/icybee/lib/python3.5/site-packages/tornado/stack_context.py\", line 277, in null_wrapper\n",
      "    return fn(*args, **kwargs)\n",
      "  File \"/data/zonghua/envs/icybee/lib/python3.5/site-packages/zmq/eventloop/zmqstream.py\", line 440, in _handle_events\n",
      "    self._handle_recv()\n",
      "  File \"/data/zonghua/envs/icybee/lib/python3.5/site-packages/zmq/eventloop/zmqstream.py\", line 472, in _handle_recv\n",
      "    self._run_callback(callback, msg)\n",
      "  File \"/data/zonghua/envs/icybee/lib/python3.5/site-packages/zmq/eventloop/zmqstream.py\", line 414, in _run_callback\n",
      "    callback(*args, **kwargs)\n",
      "  File \"/data/zonghua/envs/icybee/lib/python3.5/site-packages/tornado/stack_context.py\", line 277, in null_wrapper\n",
      "    return fn(*args, **kwargs)\n",
      "  File \"/data/zonghua/envs/icybee/lib/python3.5/site-packages/ipykernel/kernelbase.py\", line 283, in dispatcher\n",
      "    return self.dispatch_shell(stream, msg)\n",
      "  File \"/data/zonghua/envs/icybee/lib/python3.5/site-packages/ipykernel/kernelbase.py\", line 235, in dispatch_shell\n",
      "    handler(stream, idents, msg)\n",
      "  File \"/data/zonghua/envs/icybee/lib/python3.5/site-packages/ipykernel/kernelbase.py\", line 399, in execute_request\n",
      "    user_expressions, allow_stdin)\n",
      "  File \"/data/zonghua/envs/icybee/lib/python3.5/site-packages/ipykernel/ipkernel.py\", line 196, in do_execute\n",
      "    res = shell.run_cell(code, store_history=store_history, silent=silent)\n",
      "  File \"/data/zonghua/envs/icybee/lib/python3.5/site-packages/ipykernel/zmqshell.py\", line 533, in run_cell\n",
      "    return super(ZMQInteractiveShell, self).run_cell(*args, **kwargs)\n",
      "  File \"/data/zonghua/envs/icybee/lib/python3.5/site-packages/IPython/core/interactiveshell.py\", line 2698, in run_cell\n",
      "    interactivity=interactivity, compiler=compiler, result=result)\n",
      "  File \"/data/zonghua/envs/icybee/lib/python3.5/site-packages/IPython/core/interactiveshell.py\", line 2802, in run_ast_nodes\n",
      "    if self.run_code(code, result):\n",
      "  File \"/data/zonghua/envs/icybee/lib/python3.5/site-packages/IPython/core/interactiveshell.py\", line 2862, in run_code\n",
      "    exec(code_obj, self.user_global_ns, self.user_ns)\n",
      "  File \"<ipython-input-32-d0865951dcc0>\", line 66, in <module>\n",
      "    rnn_out = rnn_layer(net,HIDDEN_LAYERS,voicelength[ind * BATCH_SIZE:(ind + 1) * BATCH_SIZE],RNN_SIZE,training=training,name=\"deepspeech_rnn_layer\")\n",
      "  File \"<ipython-input-27-2db1d12a07ea>\", line 30, in rnn_layer\n",
      "    sequence_length = rnn_seq_lens,time_major = False,dtype=tf.float32)\n",
      "  File \"/data/zonghua/envs/icybee/lib/python3.5/site-packages/tensorflow/python/ops/rnn.py\", line 375, in bidirectional_dynamic_rnn\n",
      "    time_major=time_major, scope=fw_scope)\n",
      "  File \"/data/zonghua/envs/icybee/lib/python3.5/site-packages/tensorflow/python/ops/rnn.py\", line 574, in dynamic_rnn\n",
      "    dtype=dtype)\n",
      "  File \"/data/zonghua/envs/icybee/lib/python3.5/site-packages/tensorflow/python/ops/rnn.py\", line 737, in _dynamic_rnn_loop\n",
      "    swap_memory=swap_memory)\n",
      "  File \"/data/zonghua/envs/icybee/lib/python3.5/site-packages/tensorflow/python/ops/control_flow_ops.py\", line 2770, in while_loop\n",
      "    result = context.BuildLoop(cond, body, loop_vars, shape_invariants)\n",
      "  File \"/data/zonghua/envs/icybee/lib/python3.5/site-packages/tensorflow/python/ops/control_flow_ops.py\", line 2599, in BuildLoop\n",
      "    pred, body, original_loop_vars, loop_vars, shape_invariants)\n",
      "  File \"/data/zonghua/envs/icybee/lib/python3.5/site-packages/tensorflow/python/ops/control_flow_ops.py\", line 2549, in _BuildLoop\n",
      "    body_result = body(*packed_vars_for_body)\n",
      "  File \"/data/zonghua/envs/icybee/lib/python3.5/site-packages/tensorflow/python/ops/rnn.py\", line 720, in _time_step\n",
      "    skip_conditionals=True)\n",
      "  File \"/data/zonghua/envs/icybee/lib/python3.5/site-packages/tensorflow/python/ops/rnn.py\", line 206, in _rnn_step\n",
      "    new_output, new_state = call_cell()\n",
      "  File \"/data/zonghua/envs/icybee/lib/python3.5/site-packages/tensorflow/python/ops/rnn.py\", line 708, in <lambda>\n",
      "    call_cell = lambda: cell(input_t, state)\n",
      "  File \"/data/zonghua/envs/icybee/lib/python3.5/site-packages/tensorflow/python/ops/rnn_cell_impl.py\", line 180, in __call__\n",
      "    return super(RNNCell, self).__call__(inputs, state)\n",
      "  File \"/data/zonghua/envs/icybee/lib/python3.5/site-packages/tensorflow/python/layers/base.py\", line 441, in __call__\n",
      "    outputs = self.call(inputs, *args, **kwargs)\n",
      "  File \"/data/zonghua/envs/icybee/lib/python3.5/site-packages/tensorflow/python/ops/rnn_cell_impl.py\", line 300, in call\n",
      "    self._bias_initializer, self._kernel_initializer))\n",
      "  File \"/data/zonghua/envs/icybee/lib/python3.5/site-packages/tensorflow/python/ops/rnn_cell_impl.py\", line 1021, in _linear\n",
      "    res = math_ops.matmul(array_ops.concat(args, 1), weights)\n",
      "  File \"/data/zonghua/envs/icybee/lib/python3.5/site-packages/tensorflow/python/ops/math_ops.py\", line 1816, in matmul\n",
      "    a, b, transpose_a=transpose_a, transpose_b=transpose_b, name=name)\n",
      "  File \"/data/zonghua/envs/icybee/lib/python3.5/site-packages/tensorflow/python/ops/gen_math_ops.py\", line 1217, in _mat_mul\n",
      "    transpose_b=transpose_b, name=name)\n",
      "  File \"/data/zonghua/envs/icybee/lib/python3.5/site-packages/tensorflow/python/framework/op_def_library.py\", line 767, in apply_op\n",
      "    op_def=op_def)\n",
      "  File \"/data/zonghua/envs/icybee/lib/python3.5/site-packages/tensorflow/python/framework/ops.py\", line 2506, in create_op\n",
      "    original_op=self._default_original_op, op_def=op_def)\n",
      "  File \"/data/zonghua/envs/icybee/lib/python3.5/site-packages/tensorflow/python/framework/ops.py\", line 1269, in __init__\n",
      "    self._traceback = _extract_stack()\n",
      "\n",
      "ResourceExhaustedError (see above for traceback): OOM when allocating tensor with shape[32,400]\n",
      "\t [[Node: deepspeech_rnn_layer/deepspeech_rnn_layer_layer5/bidirectional_rnn/fw/fw/while/fw/gru_cell/candidate/candidate/MatMul = MatMul[T=DT_FLOAT, transpose_a=false, transpose_b=false, _device=\"/job:local/replica:0/task:0/gpu:0\"](deepspeech_rnn_layer/deepspeech_rnn_layer_layer5/bidirectional_rnn/fw/fw/while/fw/gru_cell/candidate/candidate/concat, deepspeech_rnn_layer/deepspeech_rnn_layer_layer5/bidirectional_rnn/fw/fw/while/fw/gru_cell/candidate/candidate/MatMul/Enter)]]\n",
      "\t [[Node: deepspeech_dense/Tensordot/Shape_G2323 = _Recv[client_terminated=false, recv_device=\"/job:local/replica:0/task:0/cpu:0\", send_device=\"/job:local/replica:0/task:0/gpu:0\", send_device_incarnation=-7979307377332489351, tensor_name=\"edge_2875_deepspeech_dense/Tensordot/Shape\", tensor_type=DT_INT32, _device=\"/job:local/replica:0/task:0/cpu:0\"]()]]\n",
      "\n"
     ]
    },
    {
     "name": "stdout",
     "output_type": "stream",
     "text": [
      "EPOCH 4 STEP 172 LR 0.0003 LOSS 18.6 DIS 0.1 t1 0.02 t2 7.64 8.83 % [====>----------------------------------------------] 10528/119296 \t used:1506s eta:15559 s"
     ]
    },
    {
     "name": "stderr",
     "output_type": "stream",
     "text": [
      "Exception in thread Thread-9:\n",
      "Traceback (most recent call last):\n",
      "  File \"/usr/lib/python3.5/threading.py\", line 914, in _bootstrap_inner\n",
      "    self.run()\n",
      "  File \"/usr/lib/python3.5/threading.py\", line 862, in run\n",
      "    self._target(*self._args, **self._kwargs)\n",
      "  File \"/data/zonghua/envs/icybee/lib/python3.5/site-packages/tflearn/data_flow.py\", line 187, in fill_feed_dict_queue\n",
      "    data = self.retrieve_data(batch_ids)\n",
      "  File \"/data/zonghua/envs/icybee/lib/python3.5/site-packages/tflearn/data_flow.py\", line 222, in retrieve_data\n",
      "    utils.slice_array(self.feed_dict[key], batch_ids)\n",
      "  File \"/data/zonghua/envs/icybee/lib/python3.5/site-packages/tflearn/utils.py\", line 187, in slice_array\n",
      "    return X[start]\n",
      "  File \"../common/data_utils.py\", line 475, in __getitem__\n",
      "    sample_rate,voice = fetch_audio(audio_path,self.augmentation_speed,self.augmentation_speed_rate,self.augmentation_linear)\n",
      "  File \"../common/data_utils.py\", line 262, in fetch_audio\n",
      "    sample_rate,sound_sc = scipy.io.wavfile.read(path)\n",
      "  File \"/data/zonghua/envs/icybee/lib/python3.5/site-packages/scipy/io/wavfile.py\", line 246, in read\n",
      "    raise ValueError(\"Unexpected end of file.\")\n",
      "ValueError: Unexpected end of file.\n",
      "\n"
     ]
    },
    {
     "name": "stdout",
     "output_type": "stream",
     "text": [
      "EPOCH 4 STEP 827 LR 0.0003 LOSS 17.3 DIS 0.1 t1 0.01 t2 8.52 43.96 % [=====================>-----------------------------] 52448/119296 \t used:7277s eta:9274 s"
     ]
    },
    {
     "name": "stderr",
     "output_type": "stream",
     "text": [
      "Exception in thread Thread-12:\n",
      "Traceback (most recent call last):\n",
      "  File \"/usr/lib/python3.5/threading.py\", line 914, in _bootstrap_inner\n",
      "    self.run()\n",
      "  File \"/usr/lib/python3.5/threading.py\", line 862, in run\n",
      "    self._target(*self._args, **self._kwargs)\n",
      "  File \"/data/zonghua/envs/icybee/lib/python3.5/site-packages/tflearn/data_flow.py\", line 187, in fill_feed_dict_queue\n",
      "    data = self.retrieve_data(batch_ids)\n",
      "  File \"/data/zonghua/envs/icybee/lib/python3.5/site-packages/tflearn/data_flow.py\", line 222, in retrieve_data\n",
      "    utils.slice_array(self.feed_dict[key], batch_ids)\n",
      "  File \"/data/zonghua/envs/icybee/lib/python3.5/site-packages/tflearn/utils.py\", line 187, in slice_array\n",
      "    return X[start]\n",
      "  File \"../common/data_utils.py\", line 475, in __getitem__\n",
      "    sample_rate,voice = fetch_audio(audio_path,self.augmentation_speed,self.augmentation_speed_rate,self.augmentation_linear)\n",
      "  File \"../common/data_utils.py\", line 262, in fetch_audio\n",
      "    sample_rate,sound_sc = scipy.io.wavfile.read(path)\n",
      "  File \"/data/zonghua/envs/icybee/lib/python3.5/site-packages/scipy/io/wavfile.py\", line 246, in read\n",
      "    raise ValueError(\"Unexpected end of file.\")\n",
      "ValueError: Unexpected end of file.\n",
      "\n"
     ]
    },
    {
     "name": "stdout",
     "output_type": "stream",
     "text": [
      "EPOCH 4 STEP 966 LR 0.0003 LOSS 16.36 DIS 0.09 t1 0.02 t2 7.39 51.42 % [=========================>-------------------------] 61344/119296 \t used:8795s eta:8308 s"
     ]
    },
    {
     "name": "stderr",
     "output_type": "stream",
     "text": [
      "Traceback (most recent call last):\n",
      "  File \"/data/zonghua/envs/icybee/lib/python3.5/site-packages/tensorflow/python/client/session.py\", line 1139, in _do_call\n",
      "    return fn(*args)\n",
      "  File \"/data/zonghua/envs/icybee/lib/python3.5/site-packages/tensorflow/python/client/session.py\", line 1121, in _run_fn\n",
      "    status, run_metadata)\n",
      "  File \"/usr/lib/python3.5/contextlib.py\", line 66, in __exit__\n",
      "    next(self.gen)\n",
      "  File \"/data/zonghua/envs/icybee/lib/python3.5/site-packages/tensorflow/python/framework/errors_impl.py\", line 466, in raise_exception_on_not_ok_status\n",
      "    pywrap_tensorflow.TF_GetCode(status))\n",
      "tensorflow.python.framework.errors_impl.ResourceExhaustedError: OOM when allocating tensor with shape[32,400]\n",
      "\t [[Node: deepspeech_rnn_layer_1/deepspeech_rnn_layer_layer5/bidirectional_rnn/bw/bw/while/Select_1 = Select[T=DT_FLOAT, _class=[\"loc:@deepspeech_rnn_layer_1/deepspeech_rnn_layer_layer5/bidirectional_rnn/bw/bw/while/bw/gru_cell/add\"], _device=\"/job:local/replica:0/task:0/gpu:0\"](deepspeech_rnn_layer_1/deepspeech_rnn_layer_layer5/bidirectional_rnn/bw/bw/while/GreaterEqual_1_S299, deepspeech_rnn_layer_1/deepspeech_rnn_layer_layer5/bidirectional_rnn/bw/bw/while/Identity_2, deepspeech_rnn_layer_1/deepspeech_rnn_layer_layer5/bidirectional_rnn/bw/bw/while/bw/gru_cell/add)]]\n",
      "\t [[Node: deepspeech_dense/Tensordot/Shape_G2323 = _Recv[client_terminated=false, recv_device=\"/job:local/replica:0/task:0/cpu:0\", send_device=\"/job:local/replica:0/task:0/gpu:0\", send_device_incarnation=-7979307377332489351, tensor_name=\"edge_2875_deepspeech_dense/Tensordot/Shape\", tensor_type=DT_INT32, _device=\"/job:local/replica:0/task:0/cpu:0\"]()]]\n",
      "\n",
      "During handling of the above exception, another exception occurred:\n",
      "\n",
      "Traceback (most recent call last):\n",
      "  File \"<ipython-input-50-0c9748b93176>\", line 96, in <module>\n",
      "    [dis,train_op,loss,summary_op,global_step],feed_dict=feeddic)\n",
      "  File \"/data/zonghua/envs/icybee/lib/python3.5/site-packages/tensorflow/python/client/session.py\", line 789, in run\n",
      "    run_metadata_ptr)\n",
      "  File \"/data/zonghua/envs/icybee/lib/python3.5/site-packages/tensorflow/python/client/session.py\", line 997, in _run\n",
      "    feed_dict_string, options, run_metadata)\n",
      "  File \"/data/zonghua/envs/icybee/lib/python3.5/site-packages/tensorflow/python/client/session.py\", line 1132, in _do_run\n",
      "    target_list, options, run_metadata)\n",
      "  File \"/data/zonghua/envs/icybee/lib/python3.5/site-packages/tensorflow/python/client/session.py\", line 1152, in _do_call\n",
      "    raise type(e)(node_def, op, message)\n",
      "tensorflow.python.framework.errors_impl.ResourceExhaustedError: OOM when allocating tensor with shape[32,400]\n",
      "\t [[Node: deepspeech_rnn_layer_1/deepspeech_rnn_layer_layer5/bidirectional_rnn/bw/bw/while/Select_1 = Select[T=DT_FLOAT, _class=[\"loc:@deepspeech_rnn_layer_1/deepspeech_rnn_layer_layer5/bidirectional_rnn/bw/bw/while/bw/gru_cell/add\"], _device=\"/job:local/replica:0/task:0/gpu:0\"](deepspeech_rnn_layer_1/deepspeech_rnn_layer_layer5/bidirectional_rnn/bw/bw/while/GreaterEqual_1_S299, deepspeech_rnn_layer_1/deepspeech_rnn_layer_layer5/bidirectional_rnn/bw/bw/while/Identity_2, deepspeech_rnn_layer_1/deepspeech_rnn_layer_layer5/bidirectional_rnn/bw/bw/while/bw/gru_cell/add)]]\n",
      "\t [[Node: deepspeech_dense/Tensordot/Shape_G2323 = _Recv[client_terminated=false, recv_device=\"/job:local/replica:0/task:0/cpu:0\", send_device=\"/job:local/replica:0/task:0/gpu:0\", send_device_incarnation=-7979307377332489351, tensor_name=\"edge_2875_deepspeech_dense/Tensordot/Shape\", tensor_type=DT_INT32, _device=\"/job:local/replica:0/task:0/cpu:0\"]()]]\n",
      "\n",
      "Caused by op 'deepspeech_rnn_layer_1/deepspeech_rnn_layer_layer5/bidirectional_rnn/bw/bw/while/Select_1', defined at:\n",
      "  File \"/usr/lib/python3.5/runpy.py\", line 184, in _run_module_as_main\n",
      "    \"__main__\", mod_spec)\n",
      "  File \"/usr/lib/python3.5/runpy.py\", line 85, in _run_code\n",
      "    exec(code, run_globals)\n",
      "  File \"/data/zonghua/envs/icybee/lib/python3.5/site-packages/ipykernel_launcher.py\", line 16, in <module>\n",
      "    app.launch_new_instance()\n",
      "  File \"/data/zonghua/envs/icybee/lib/python3.5/site-packages/traitlets/config/application.py\", line 658, in launch_instance\n",
      "    app.start()\n",
      "  File \"/data/zonghua/envs/icybee/lib/python3.5/site-packages/ipykernel/kernelapp.py\", line 477, in start\n",
      "    ioloop.IOLoop.instance().start()\n",
      "  File \"/data/zonghua/envs/icybee/lib/python3.5/site-packages/zmq/eventloop/ioloop.py\", line 177, in start\n",
      "    super(ZMQIOLoop, self).start()\n",
      "  File \"/data/zonghua/envs/icybee/lib/python3.5/site-packages/tornado/ioloop.py\", line 888, in start\n",
      "    handler_func(fd_obj, events)\n",
      "  File \"/data/zonghua/envs/icybee/lib/python3.5/site-packages/tornado/stack_context.py\", line 277, in null_wrapper\n",
      "    return fn(*args, **kwargs)\n",
      "  File \"/data/zonghua/envs/icybee/lib/python3.5/site-packages/zmq/eventloop/zmqstream.py\", line 440, in _handle_events\n",
      "    self._handle_recv()\n",
      "  File \"/data/zonghua/envs/icybee/lib/python3.5/site-packages/zmq/eventloop/zmqstream.py\", line 472, in _handle_recv\n",
      "    self._run_callback(callback, msg)\n",
      "  File \"/data/zonghua/envs/icybee/lib/python3.5/site-packages/zmq/eventloop/zmqstream.py\", line 414, in _run_callback\n",
      "    callback(*args, **kwargs)\n",
      "  File \"/data/zonghua/envs/icybee/lib/python3.5/site-packages/tornado/stack_context.py\", line 277, in null_wrapper\n",
      "    return fn(*args, **kwargs)\n",
      "  File \"/data/zonghua/envs/icybee/lib/python3.5/site-packages/ipykernel/kernelbase.py\", line 283, in dispatcher\n",
      "    return self.dispatch_shell(stream, msg)\n",
      "  File \"/data/zonghua/envs/icybee/lib/python3.5/site-packages/ipykernel/kernelbase.py\", line 235, in dispatch_shell\n",
      "    handler(stream, idents, msg)\n",
      "  File \"/data/zonghua/envs/icybee/lib/python3.5/site-packages/ipykernel/kernelbase.py\", line 399, in execute_request\n",
      "    user_expressions, allow_stdin)\n",
      "  File \"/data/zonghua/envs/icybee/lib/python3.5/site-packages/ipykernel/ipkernel.py\", line 196, in do_execute\n",
      "    res = shell.run_cell(code, store_history=store_history, silent=silent)\n",
      "  File \"/data/zonghua/envs/icybee/lib/python3.5/site-packages/ipykernel/zmqshell.py\", line 533, in run_cell\n",
      "    return super(ZMQInteractiveShell, self).run_cell(*args, **kwargs)\n",
      "  File \"/data/zonghua/envs/icybee/lib/python3.5/site-packages/IPython/core/interactiveshell.py\", line 2698, in run_cell\n",
      "    interactivity=interactivity, compiler=compiler, result=result)\n",
      "  File \"/data/zonghua/envs/icybee/lib/python3.5/site-packages/IPython/core/interactiveshell.py\", line 2802, in run_ast_nodes\n",
      "    if self.run_code(code, result):\n",
      "  File \"/data/zonghua/envs/icybee/lib/python3.5/site-packages/IPython/core/interactiveshell.py\", line 2862, in run_code\n",
      "    exec(code_obj, self.user_global_ns, self.user_ns)\n",
      "  File \"<ipython-input-32-d0865951dcc0>\", line 66, in <module>\n",
      "    rnn_out = rnn_layer(net,HIDDEN_LAYERS,voicelength[ind * BATCH_SIZE:(ind + 1) * BATCH_SIZE],RNN_SIZE,training=training,name=\"deepspeech_rnn_layer\")\n",
      "  File \"<ipython-input-27-2db1d12a07ea>\", line 30, in rnn_layer\n",
      "    sequence_length = rnn_seq_lens,time_major = False,dtype=tf.float32)\n",
      "  File \"/data/zonghua/envs/icybee/lib/python3.5/site-packages/tensorflow/python/ops/rnn.py\", line 401, in bidirectional_dynamic_rnn\n",
      "    time_major=time_major, scope=bw_scope)\n",
      "  File \"/data/zonghua/envs/icybee/lib/python3.5/site-packages/tensorflow/python/ops/rnn.py\", line 574, in dynamic_rnn\n",
      "    dtype=dtype)\n",
      "  File \"/data/zonghua/envs/icybee/lib/python3.5/site-packages/tensorflow/python/ops/rnn.py\", line 737, in _dynamic_rnn_loop\n",
      "    swap_memory=swap_memory)\n",
      "  File \"/data/zonghua/envs/icybee/lib/python3.5/site-packages/tensorflow/python/ops/control_flow_ops.py\", line 2770, in while_loop\n",
      "    result = context.BuildLoop(cond, body, loop_vars, shape_invariants)\n",
      "  File \"/data/zonghua/envs/icybee/lib/python3.5/site-packages/tensorflow/python/ops/control_flow_ops.py\", line 2599, in BuildLoop\n",
      "    pred, body, original_loop_vars, loop_vars, shape_invariants)\n",
      "  File \"/data/zonghua/envs/icybee/lib/python3.5/site-packages/tensorflow/python/ops/control_flow_ops.py\", line 2549, in _BuildLoop\n",
      "    body_result = body(*packed_vars_for_body)\n",
      "  File \"/data/zonghua/envs/icybee/lib/python3.5/site-packages/tensorflow/python/ops/rnn.py\", line 720, in _time_step\n",
      "    skip_conditionals=True)\n",
      "  File \"/data/zonghua/envs/icybee/lib/python3.5/site-packages/tensorflow/python/ops/rnn.py\", line 210, in _rnn_step\n",
      "    final_output_and_state = _copy_some_through(new_output, new_state)\n",
      "  File \"/data/zonghua/envs/icybee/lib/python3.5/site-packages/tensorflow/python/ops/rnn.py\", line 182, in _copy_some_through\n",
      "    for state, new_state in zip(flat_state, flat_new_state)]\n",
      "  File \"/data/zonghua/envs/icybee/lib/python3.5/site-packages/tensorflow/python/ops/rnn.py\", line 182, in <listcomp>\n",
      "    for state, new_state in zip(flat_state, flat_new_state)]\n",
      "  File \"/data/zonghua/envs/icybee/lib/python3.5/site-packages/tensorflow/python/ops/rnn.py\", line 171, in _copy_one_through\n",
      "    return array_ops.where(copy_cond, output, new_output)\n",
      "  File \"/data/zonghua/envs/icybee/lib/python3.5/site-packages/tensorflow/python/ops/array_ops.py\", line 2328, in where\n",
      "    return gen_math_ops._select(condition=condition, t=x, e=y, name=name)\n",
      "  File \"/data/zonghua/envs/icybee/lib/python3.5/site-packages/tensorflow/python/ops/gen_math_ops.py\", line 2145, in _select\n",
      "    name=name)\n",
      "  File \"/data/zonghua/envs/icybee/lib/python3.5/site-packages/tensorflow/python/framework/op_def_library.py\", line 767, in apply_op\n",
      "    op_def=op_def)\n",
      "  File \"/data/zonghua/envs/icybee/lib/python3.5/site-packages/tensorflow/python/framework/ops.py\", line 2506, in create_op\n",
      "    original_op=self._default_original_op, op_def=op_def)\n",
      "  File \"/data/zonghua/envs/icybee/lib/python3.5/site-packages/tensorflow/python/framework/ops.py\", line 1269, in __init__\n",
      "    self._traceback = _extract_stack()\n",
      "\n",
      "ResourceExhaustedError (see above for traceback): OOM when allocating tensor with shape[32,400]\n",
      "\t [[Node: deepspeech_rnn_layer_1/deepspeech_rnn_layer_layer5/bidirectional_rnn/bw/bw/while/Select_1 = Select[T=DT_FLOAT, _class=[\"loc:@deepspeech_rnn_layer_1/deepspeech_rnn_layer_layer5/bidirectional_rnn/bw/bw/while/bw/gru_cell/add\"], _device=\"/job:local/replica:0/task:0/gpu:0\"](deepspeech_rnn_layer_1/deepspeech_rnn_layer_layer5/bidirectional_rnn/bw/bw/while/GreaterEqual_1_S299, deepspeech_rnn_layer_1/deepspeech_rnn_layer_layer5/bidirectional_rnn/bw/bw/while/Identity_2, deepspeech_rnn_layer_1/deepspeech_rnn_layer_layer5/bidirectional_rnn/bw/bw/while/bw/gru_cell/add)]]\n",
      "\t [[Node: deepspeech_dense/Tensordot/Shape_G2323 = _Recv[client_terminated=false, recv_device=\"/job:local/replica:0/task:0/cpu:0\", send_device=\"/job:local/replica:0/task:0/gpu:0\", send_device_incarnation=-7979307377332489351, tensor_name=\"edge_2875_deepspeech_dense/Tensordot/Shape\", tensor_type=DT_INT32, _device=\"/job:local/replica:0/task:0/cpu:0\"]()]]\n",
      "\n"
     ]
    },
    {
     "name": "stdout",
     "output_type": "stream",
     "text": [
      "EPOCH 4 STEP 1019 LR 0.0003 LOSS 16.82 DIS 0.09 t1 0.02 t2 9.96 54.21 % [===========================>-----------------------] 64672/119296 \t used:9365s eta:7909 s"
     ]
    },
    {
     "name": "stderr",
     "output_type": "stream",
     "text": [
      "Traceback (most recent call last):\n",
      "  File \"/data/zonghua/envs/icybee/lib/python3.5/site-packages/tensorflow/python/client/session.py\", line 1139, in _do_call\n",
      "    return fn(*args)\n",
      "  File \"/data/zonghua/envs/icybee/lib/python3.5/site-packages/tensorflow/python/client/session.py\", line 1121, in _run_fn\n",
      "    status, run_metadata)\n",
      "  File \"/usr/lib/python3.5/contextlib.py\", line 66, in __exit__\n",
      "    next(self.gen)\n",
      "  File \"/data/zonghua/envs/icybee/lib/python3.5/site-packages/tensorflow/python/framework/errors_impl.py\", line 466, in raise_exception_on_not_ok_status\n",
      "    pywrap_tensorflow.TF_GetCode(status))\n",
      "tensorflow.python.framework.errors_impl.ResourceExhaustedError: OOM when allocating tensor with shape[800,800]\n",
      "\t [[Node: gradients/deepspeech_rnn_layer/deepspeech_rnn_layer_layer4/bidirectional_rnn/bw/bw/while/bw/gru_cell/gates/gates/MatMul_grad/MatMul_1 = MatMul[T=DT_FLOAT, transpose_a=true, transpose_b=false, _device=\"/job:local/replica:0/task:0/gpu:0\"](gradients/deepspeech_rnn_layer/deepspeech_rnn_layer_layer4/bidirectional_rnn/bw/bw/while/bw/gru_cell/gates/gates/MatMul_grad/MatMul_1/StackPop, gradients/deepspeech_rnn_layer/deepspeech_rnn_layer_layer4/bidirectional_rnn/bw/bw/while/bw/gru_cell/gates/gates/BiasAdd_grad/tuple/control_dependency)]]\n",
      "\t [[Node: EditDistance_1/Cast_G2553 = _Recv[client_terminated=false, recv_device=\"/job:local/replica:0/task:0/cpu:0\", send_device=\"/job:local/replica:0/task:0/gpu:0\", send_device_incarnation=-7979307377332489351, tensor_name=\"edge_13715_EditDistance_1/Cast\", tensor_type=DT_INT32, _device=\"/job:local/replica:0/task:0/cpu:0\"]()]]\n",
      "\n",
      "During handling of the above exception, another exception occurred:\n",
      "\n",
      "Traceback (most recent call last):\n",
      "  File \"<ipython-input-50-0c9748b93176>\", line 96, in <module>\n",
      "    [dis,train_op,loss,summary_op,global_step],feed_dict=feeddic)\n",
      "  File \"/data/zonghua/envs/icybee/lib/python3.5/site-packages/tensorflow/python/client/session.py\", line 789, in run\n",
      "    run_metadata_ptr)\n",
      "  File \"/data/zonghua/envs/icybee/lib/python3.5/site-packages/tensorflow/python/client/session.py\", line 997, in _run\n",
      "    feed_dict_string, options, run_metadata)\n",
      "  File \"/data/zonghua/envs/icybee/lib/python3.5/site-packages/tensorflow/python/client/session.py\", line 1132, in _do_run\n",
      "    target_list, options, run_metadata)\n",
      "  File \"/data/zonghua/envs/icybee/lib/python3.5/site-packages/tensorflow/python/client/session.py\", line 1152, in _do_call\n",
      "    raise type(e)(node_def, op, message)\n",
      "tensorflow.python.framework.errors_impl.ResourceExhaustedError: OOM when allocating tensor with shape[800,800]\n",
      "\t [[Node: gradients/deepspeech_rnn_layer/deepspeech_rnn_layer_layer4/bidirectional_rnn/bw/bw/while/bw/gru_cell/gates/gates/MatMul_grad/MatMul_1 = MatMul[T=DT_FLOAT, transpose_a=true, transpose_b=false, _device=\"/job:local/replica:0/task:0/gpu:0\"](gradients/deepspeech_rnn_layer/deepspeech_rnn_layer_layer4/bidirectional_rnn/bw/bw/while/bw/gru_cell/gates/gates/MatMul_grad/MatMul_1/StackPop, gradients/deepspeech_rnn_layer/deepspeech_rnn_layer_layer4/bidirectional_rnn/bw/bw/while/bw/gru_cell/gates/gates/BiasAdd_grad/tuple/control_dependency)]]\n",
      "\t [[Node: EditDistance_1/Cast_G2553 = _Recv[client_terminated=false, recv_device=\"/job:local/replica:0/task:0/cpu:0\", send_device=\"/job:local/replica:0/task:0/gpu:0\", send_device_incarnation=-7979307377332489351, tensor_name=\"edge_13715_EditDistance_1/Cast\", tensor_type=DT_INT32, _device=\"/job:local/replica:0/task:0/cpu:0\"]()]]\n",
      "\n",
      "Caused by op 'gradients/deepspeech_rnn_layer/deepspeech_rnn_layer_layer4/bidirectional_rnn/bw/bw/while/bw/gru_cell/gates/gates/MatMul_grad/MatMul_1', defined at:\n",
      "  File \"/usr/lib/python3.5/runpy.py\", line 184, in _run_module_as_main\n",
      "    \"__main__\", mod_spec)\n",
      "  File \"/usr/lib/python3.5/runpy.py\", line 85, in _run_code\n",
      "    exec(code, run_globals)\n",
      "  File \"/data/zonghua/envs/icybee/lib/python3.5/site-packages/ipykernel_launcher.py\", line 16, in <module>\n",
      "    app.launch_new_instance()\n",
      "  File \"/data/zonghua/envs/icybee/lib/python3.5/site-packages/traitlets/config/application.py\", line 658, in launch_instance\n",
      "    app.start()\n",
      "  File \"/data/zonghua/envs/icybee/lib/python3.5/site-packages/ipykernel/kernelapp.py\", line 477, in start\n",
      "    ioloop.IOLoop.instance().start()\n",
      "  File \"/data/zonghua/envs/icybee/lib/python3.5/site-packages/zmq/eventloop/ioloop.py\", line 177, in start\n",
      "    super(ZMQIOLoop, self).start()\n",
      "  File \"/data/zonghua/envs/icybee/lib/python3.5/site-packages/tornado/ioloop.py\", line 888, in start\n",
      "    handler_func(fd_obj, events)\n",
      "  File \"/data/zonghua/envs/icybee/lib/python3.5/site-packages/tornado/stack_context.py\", line 277, in null_wrapper\n",
      "    return fn(*args, **kwargs)\n",
      "  File \"/data/zonghua/envs/icybee/lib/python3.5/site-packages/zmq/eventloop/zmqstream.py\", line 440, in _handle_events\n",
      "    self._handle_recv()\n",
      "  File \"/data/zonghua/envs/icybee/lib/python3.5/site-packages/zmq/eventloop/zmqstream.py\", line 472, in _handle_recv\n",
      "    self._run_callback(callback, msg)\n",
      "  File \"/data/zonghua/envs/icybee/lib/python3.5/site-packages/zmq/eventloop/zmqstream.py\", line 414, in _run_callback\n",
      "    callback(*args, **kwargs)\n",
      "  File \"/data/zonghua/envs/icybee/lib/python3.5/site-packages/tornado/stack_context.py\", line 277, in null_wrapper\n",
      "    return fn(*args, **kwargs)\n",
      "  File \"/data/zonghua/envs/icybee/lib/python3.5/site-packages/ipykernel/kernelbase.py\", line 283, in dispatcher\n",
      "    return self.dispatch_shell(stream, msg)\n",
      "  File \"/data/zonghua/envs/icybee/lib/python3.5/site-packages/ipykernel/kernelbase.py\", line 235, in dispatch_shell\n",
      "    handler(stream, idents, msg)\n",
      "  File \"/data/zonghua/envs/icybee/lib/python3.5/site-packages/ipykernel/kernelbase.py\", line 399, in execute_request\n",
      "    user_expressions, allow_stdin)\n",
      "  File \"/data/zonghua/envs/icybee/lib/python3.5/site-packages/ipykernel/ipkernel.py\", line 196, in do_execute\n",
      "    res = shell.run_cell(code, store_history=store_history, silent=silent)\n",
      "  File \"/data/zonghua/envs/icybee/lib/python3.5/site-packages/ipykernel/zmqshell.py\", line 533, in run_cell\n",
      "    return super(ZMQInteractiveShell, self).run_cell(*args, **kwargs)\n",
      "  File \"/data/zonghua/envs/icybee/lib/python3.5/site-packages/IPython/core/interactiveshell.py\", line 2698, in run_cell\n",
      "    interactivity=interactivity, compiler=compiler, result=result)\n",
      "  File \"/data/zonghua/envs/icybee/lib/python3.5/site-packages/IPython/core/interactiveshell.py\", line 2802, in run_ast_nodes\n",
      "    if self.run_code(code, result):\n",
      "  File \"/data/zonghua/envs/icybee/lib/python3.5/site-packages/IPython/core/interactiveshell.py\", line 2862, in run_code\n",
      "    exec(code_obj, self.user_global_ns, self.user_ns)\n",
      "  File \"<ipython-input-32-d0865951dcc0>\", line 103, in <module>\n",
      "    grads_e_ori = optimizer.compute_gradients(L_loss, var_list = trainable_params)\n",
      "  File \"/data/zonghua/envs/icybee/lib/python3.5/site-packages/tensorflow/python/training/optimizer.py\", line 386, in compute_gradients\n",
      "    colocate_gradients_with_ops=colocate_gradients_with_ops)\n",
      "  File \"/data/zonghua/envs/icybee/lib/python3.5/site-packages/tensorflow/python/ops/gradients_impl.py\", line 540, in gradients\n",
      "    grad_scope, op, func_call, lambda: grad_fn(op, *out_grads))\n",
      "  File \"/data/zonghua/envs/icybee/lib/python3.5/site-packages/tensorflow/python/ops/gradients_impl.py\", line 346, in _MaybeCompile\n",
      "    return grad_fn()  # Exit early\n",
      "  File \"/data/zonghua/envs/icybee/lib/python3.5/site-packages/tensorflow/python/ops/gradients_impl.py\", line 540, in <lambda>\n",
      "    grad_scope, op, func_call, lambda: grad_fn(op, *out_grads))\n",
      "  File \"/data/zonghua/envs/icybee/lib/python3.5/site-packages/tensorflow/python/ops/math_grad.py\", line 825, in _MatMulGrad\n",
      "    grad_b = math_ops.matmul(a, grad, transpose_a=True)\n",
      "  File \"/data/zonghua/envs/icybee/lib/python3.5/site-packages/tensorflow/python/ops/math_ops.py\", line 1816, in matmul\n",
      "    a, b, transpose_a=transpose_a, transpose_b=transpose_b, name=name)\n",
      "  File \"/data/zonghua/envs/icybee/lib/python3.5/site-packages/tensorflow/python/ops/gen_math_ops.py\", line 1217, in _mat_mul\n",
      "    transpose_b=transpose_b, name=name)\n",
      "  File \"/data/zonghua/envs/icybee/lib/python3.5/site-packages/tensorflow/python/framework/op_def_library.py\", line 767, in apply_op\n",
      "    op_def=op_def)\n",
      "  File \"/data/zonghua/envs/icybee/lib/python3.5/site-packages/tensorflow/python/framework/ops.py\", line 2506, in create_op\n",
      "    original_op=self._default_original_op, op_def=op_def)\n",
      "  File \"/data/zonghua/envs/icybee/lib/python3.5/site-packages/tensorflow/python/framework/ops.py\", line 1269, in __init__\n",
      "    self._traceback = _extract_stack()\n",
      "\n",
      "...which was originally created as op 'deepspeech_rnn_layer/deepspeech_rnn_layer_layer4/bidirectional_rnn/bw/bw/while/bw/gru_cell/gates/gates/MatMul', defined at:\n",
      "  File \"/usr/lib/python3.5/runpy.py\", line 184, in _run_module_as_main\n",
      "    \"__main__\", mod_spec)\n",
      "[elided 18 identical lines from previous traceback]\n",
      "  File \"/data/zonghua/envs/icybee/lib/python3.5/site-packages/IPython/core/interactiveshell.py\", line 2862, in run_code\n",
      "    exec(code_obj, self.user_global_ns, self.user_ns)\n",
      "  File \"<ipython-input-32-d0865951dcc0>\", line 66, in <module>\n",
      "    rnn_out = rnn_layer(net,HIDDEN_LAYERS,voicelength[ind * BATCH_SIZE:(ind + 1) * BATCH_SIZE],RNN_SIZE,training=training,name=\"deepspeech_rnn_layer\")\n",
      "  File \"<ipython-input-27-2db1d12a07ea>\", line 30, in rnn_layer\n",
      "    sequence_length = rnn_seq_lens,time_major = False,dtype=tf.float32)\n",
      "  File \"/data/zonghua/envs/icybee/lib/python3.5/site-packages/tensorflow/python/ops/rnn.py\", line 401, in bidirectional_dynamic_rnn\n",
      "    time_major=time_major, scope=bw_scope)\n",
      "  File \"/data/zonghua/envs/icybee/lib/python3.5/site-packages/tensorflow/python/ops/rnn.py\", line 574, in dynamic_rnn\n",
      "    dtype=dtype)\n",
      "  File \"/data/zonghua/envs/icybee/lib/python3.5/site-packages/tensorflow/python/ops/rnn.py\", line 737, in _dynamic_rnn_loop\n",
      "    swap_memory=swap_memory)\n",
      "  File \"/data/zonghua/envs/icybee/lib/python3.5/site-packages/tensorflow/python/ops/control_flow_ops.py\", line 2770, in while_loop\n",
      "    result = context.BuildLoop(cond, body, loop_vars, shape_invariants)\n",
      "  File \"/data/zonghua/envs/icybee/lib/python3.5/site-packages/tensorflow/python/ops/control_flow_ops.py\", line 2599, in BuildLoop\n",
      "    pred, body, original_loop_vars, loop_vars, shape_invariants)\n",
      "  File \"/data/zonghua/envs/icybee/lib/python3.5/site-packages/tensorflow/python/ops/control_flow_ops.py\", line 2549, in _BuildLoop\n",
      "    body_result = body(*packed_vars_for_body)\n",
      "  File \"/data/zonghua/envs/icybee/lib/python3.5/site-packages/tensorflow/python/ops/rnn.py\", line 720, in _time_step\n",
      "    skip_conditionals=True)\n",
      "  File \"/data/zonghua/envs/icybee/lib/python3.5/site-packages/tensorflow/python/ops/rnn.py\", line 206, in _rnn_step\n",
      "    new_output, new_state = call_cell()\n",
      "  File \"/data/zonghua/envs/icybee/lib/python3.5/site-packages/tensorflow/python/ops/rnn.py\", line 708, in <lambda>\n",
      "    call_cell = lambda: cell(input_t, state)\n",
      "\n",
      "ResourceExhaustedError (see above for traceback): OOM when allocating tensor with shape[800,800]\n",
      "\t [[Node: gradients/deepspeech_rnn_layer/deepspeech_rnn_layer_layer4/bidirectional_rnn/bw/bw/while/bw/gru_cell/gates/gates/MatMul_grad/MatMul_1 = MatMul[T=DT_FLOAT, transpose_a=true, transpose_b=false, _device=\"/job:local/replica:0/task:0/gpu:0\"](gradients/deepspeech_rnn_layer/deepspeech_rnn_layer_layer4/bidirectional_rnn/bw/bw/while/bw/gru_cell/gates/gates/MatMul_grad/MatMul_1/StackPop, gradients/deepspeech_rnn_layer/deepspeech_rnn_layer_layer4/bidirectional_rnn/bw/bw/while/bw/gru_cell/gates/gates/BiasAdd_grad/tuple/control_dependency)]]\n",
      "\t [[Node: EditDistance_1/Cast_G2553 = _Recv[client_terminated=false, recv_device=\"/job:local/replica:0/task:0/cpu:0\", send_device=\"/job:local/replica:0/task:0/gpu:0\", send_device_incarnation=-7979307377332489351, tensor_name=\"edge_13715_EditDistance_1/Cast\", tensor_type=DT_INT32, _device=\"/job:local/replica:0/task:0/cpu:0\"]()]]\n",
      "\n"
     ]
    },
    {
     "name": "stdout",
     "output_type": "stream",
     "text": [
      "EPOCH 4 STEP 1026 LR 0.0003 LOSS 16.77 DIS 0.09 t1 0.02 t2 8.44 54.53 % [===========================>-----------------------] 65056/119296 \t used:9457s eta:7884 s"
     ]
    },
    {
     "name": "stderr",
     "output_type": "stream",
     "text": [
      "Traceback (most recent call last):\n",
      "  File \"/data/zonghua/envs/icybee/lib/python3.5/site-packages/tensorflow/python/client/session.py\", line 1139, in _do_call\n",
      "    return fn(*args)\n",
      "  File \"/data/zonghua/envs/icybee/lib/python3.5/site-packages/tensorflow/python/client/session.py\", line 1121, in _run_fn\n",
      "    status, run_metadata)\n",
      "  File \"/usr/lib/python3.5/contextlib.py\", line 66, in __exit__\n",
      "    next(self.gen)\n",
      "  File \"/data/zonghua/envs/icybee/lib/python3.5/site-packages/tensorflow/python/framework/errors_impl.py\", line 466, in raise_exception_on_not_ok_status\n",
      "    pywrap_tensorflow.TF_GetCode(status))\n",
      "tensorflow.python.framework.errors_impl.ResourceExhaustedError: OOM when allocating tensor with shape[800,800]\n",
      "\t [[Node: gradients/deepspeech_rnn_layer/deepspeech_rnn_layer_layer5/bidirectional_rnn/fw/fw/while/fw/gru_cell/gates/gates/MatMul_grad/MatMul_1 = MatMul[T=DT_FLOAT, transpose_a=true, transpose_b=false, _device=\"/job:local/replica:0/task:0/gpu:0\"](gradients/deepspeech_rnn_layer/deepspeech_rnn_layer_layer5/bidirectional_rnn/fw/fw/while/fw/gru_cell/gates/gates/MatMul_grad/MatMul_1/StackPop, gradients/deepspeech_rnn_layer/deepspeech_rnn_layer_layer5/bidirectional_rnn/fw/fw/while/fw/gru_cell/gates/gates/BiasAdd_grad/tuple/control_dependency)]]\n",
      "\t [[Node: EditDistance_1/Cast_G2553 = _Recv[client_terminated=false, recv_device=\"/job:local/replica:0/task:0/cpu:0\", send_device=\"/job:local/replica:0/task:0/gpu:0\", send_device_incarnation=-7979307377332489351, tensor_name=\"edge_13715_EditDistance_1/Cast\", tensor_type=DT_INT32, _device=\"/job:local/replica:0/task:0/cpu:0\"]()]]\n",
      "\n",
      "During handling of the above exception, another exception occurred:\n",
      "\n",
      "Traceback (most recent call last):\n",
      "  File \"<ipython-input-50-0c9748b93176>\", line 96, in <module>\n",
      "    [dis,train_op,loss,summary_op,global_step],feed_dict=feeddic)\n",
      "  File \"/data/zonghua/envs/icybee/lib/python3.5/site-packages/tensorflow/python/client/session.py\", line 789, in run\n",
      "    run_metadata_ptr)\n",
      "  File \"/data/zonghua/envs/icybee/lib/python3.5/site-packages/tensorflow/python/client/session.py\", line 997, in _run\n",
      "    feed_dict_string, options, run_metadata)\n",
      "  File \"/data/zonghua/envs/icybee/lib/python3.5/site-packages/tensorflow/python/client/session.py\", line 1132, in _do_run\n",
      "    target_list, options, run_metadata)\n",
      "  File \"/data/zonghua/envs/icybee/lib/python3.5/site-packages/tensorflow/python/client/session.py\", line 1152, in _do_call\n",
      "    raise type(e)(node_def, op, message)\n",
      "tensorflow.python.framework.errors_impl.ResourceExhaustedError: OOM when allocating tensor with shape[800,800]\n",
      "\t [[Node: gradients/deepspeech_rnn_layer/deepspeech_rnn_layer_layer5/bidirectional_rnn/fw/fw/while/fw/gru_cell/gates/gates/MatMul_grad/MatMul_1 = MatMul[T=DT_FLOAT, transpose_a=true, transpose_b=false, _device=\"/job:local/replica:0/task:0/gpu:0\"](gradients/deepspeech_rnn_layer/deepspeech_rnn_layer_layer5/bidirectional_rnn/fw/fw/while/fw/gru_cell/gates/gates/MatMul_grad/MatMul_1/StackPop, gradients/deepspeech_rnn_layer/deepspeech_rnn_layer_layer5/bidirectional_rnn/fw/fw/while/fw/gru_cell/gates/gates/BiasAdd_grad/tuple/control_dependency)]]\n",
      "\t [[Node: EditDistance_1/Cast_G2553 = _Recv[client_terminated=false, recv_device=\"/job:local/replica:0/task:0/cpu:0\", send_device=\"/job:local/replica:0/task:0/gpu:0\", send_device_incarnation=-7979307377332489351, tensor_name=\"edge_13715_EditDistance_1/Cast\", tensor_type=DT_INT32, _device=\"/job:local/replica:0/task:0/cpu:0\"]()]]\n",
      "\n",
      "Caused by op 'gradients/deepspeech_rnn_layer/deepspeech_rnn_layer_layer5/bidirectional_rnn/fw/fw/while/fw/gru_cell/gates/gates/MatMul_grad/MatMul_1', defined at:\n",
      "  File \"/usr/lib/python3.5/runpy.py\", line 184, in _run_module_as_main\n",
      "    \"__main__\", mod_spec)\n",
      "  File \"/usr/lib/python3.5/runpy.py\", line 85, in _run_code\n",
      "    exec(code, run_globals)\n",
      "  File \"/data/zonghua/envs/icybee/lib/python3.5/site-packages/ipykernel_launcher.py\", line 16, in <module>\n",
      "    app.launch_new_instance()\n",
      "  File \"/data/zonghua/envs/icybee/lib/python3.5/site-packages/traitlets/config/application.py\", line 658, in launch_instance\n",
      "    app.start()\n",
      "  File \"/data/zonghua/envs/icybee/lib/python3.5/site-packages/ipykernel/kernelapp.py\", line 477, in start\n",
      "    ioloop.IOLoop.instance().start()\n",
      "  File \"/data/zonghua/envs/icybee/lib/python3.5/site-packages/zmq/eventloop/ioloop.py\", line 177, in start\n",
      "    super(ZMQIOLoop, self).start()\n",
      "  File \"/data/zonghua/envs/icybee/lib/python3.5/site-packages/tornado/ioloop.py\", line 888, in start\n",
      "    handler_func(fd_obj, events)\n",
      "  File \"/data/zonghua/envs/icybee/lib/python3.5/site-packages/tornado/stack_context.py\", line 277, in null_wrapper\n",
      "    return fn(*args, **kwargs)\n",
      "  File \"/data/zonghua/envs/icybee/lib/python3.5/site-packages/zmq/eventloop/zmqstream.py\", line 440, in _handle_events\n",
      "    self._handle_recv()\n",
      "  File \"/data/zonghua/envs/icybee/lib/python3.5/site-packages/zmq/eventloop/zmqstream.py\", line 472, in _handle_recv\n",
      "    self._run_callback(callback, msg)\n",
      "  File \"/data/zonghua/envs/icybee/lib/python3.5/site-packages/zmq/eventloop/zmqstream.py\", line 414, in _run_callback\n",
      "    callback(*args, **kwargs)\n",
      "  File \"/data/zonghua/envs/icybee/lib/python3.5/site-packages/tornado/stack_context.py\", line 277, in null_wrapper\n",
      "    return fn(*args, **kwargs)\n",
      "  File \"/data/zonghua/envs/icybee/lib/python3.5/site-packages/ipykernel/kernelbase.py\", line 283, in dispatcher\n",
      "    return self.dispatch_shell(stream, msg)\n",
      "  File \"/data/zonghua/envs/icybee/lib/python3.5/site-packages/ipykernel/kernelbase.py\", line 235, in dispatch_shell\n",
      "    handler(stream, idents, msg)\n",
      "  File \"/data/zonghua/envs/icybee/lib/python3.5/site-packages/ipykernel/kernelbase.py\", line 399, in execute_request\n",
      "    user_expressions, allow_stdin)\n",
      "  File \"/data/zonghua/envs/icybee/lib/python3.5/site-packages/ipykernel/ipkernel.py\", line 196, in do_execute\n",
      "    res = shell.run_cell(code, store_history=store_history, silent=silent)\n",
      "  File \"/data/zonghua/envs/icybee/lib/python3.5/site-packages/ipykernel/zmqshell.py\", line 533, in run_cell\n",
      "    return super(ZMQInteractiveShell, self).run_cell(*args, **kwargs)\n",
      "  File \"/data/zonghua/envs/icybee/lib/python3.5/site-packages/IPython/core/interactiveshell.py\", line 2698, in run_cell\n",
      "    interactivity=interactivity, compiler=compiler, result=result)\n",
      "  File \"/data/zonghua/envs/icybee/lib/python3.5/site-packages/IPython/core/interactiveshell.py\", line 2802, in run_ast_nodes\n",
      "    if self.run_code(code, result):\n",
      "  File \"/data/zonghua/envs/icybee/lib/python3.5/site-packages/IPython/core/interactiveshell.py\", line 2862, in run_code\n",
      "    exec(code_obj, self.user_global_ns, self.user_ns)\n",
      "  File \"<ipython-input-32-d0865951dcc0>\", line 103, in <module>\n",
      "    grads_e_ori = optimizer.compute_gradients(L_loss, var_list = trainable_params)\n",
      "  File \"/data/zonghua/envs/icybee/lib/python3.5/site-packages/tensorflow/python/training/optimizer.py\", line 386, in compute_gradients\n",
      "    colocate_gradients_with_ops=colocate_gradients_with_ops)\n",
      "  File \"/data/zonghua/envs/icybee/lib/python3.5/site-packages/tensorflow/python/ops/gradients_impl.py\", line 540, in gradients\n",
      "    grad_scope, op, func_call, lambda: grad_fn(op, *out_grads))\n",
      "  File \"/data/zonghua/envs/icybee/lib/python3.5/site-packages/tensorflow/python/ops/gradients_impl.py\", line 346, in _MaybeCompile\n",
      "    return grad_fn()  # Exit early\n",
      "  File \"/data/zonghua/envs/icybee/lib/python3.5/site-packages/tensorflow/python/ops/gradients_impl.py\", line 540, in <lambda>\n",
      "    grad_scope, op, func_call, lambda: grad_fn(op, *out_grads))\n",
      "  File \"/data/zonghua/envs/icybee/lib/python3.5/site-packages/tensorflow/python/ops/math_grad.py\", line 825, in _MatMulGrad\n",
      "    grad_b = math_ops.matmul(a, grad, transpose_a=True)\n",
      "  File \"/data/zonghua/envs/icybee/lib/python3.5/site-packages/tensorflow/python/ops/math_ops.py\", line 1816, in matmul\n",
      "    a, b, transpose_a=transpose_a, transpose_b=transpose_b, name=name)\n",
      "  File \"/data/zonghua/envs/icybee/lib/python3.5/site-packages/tensorflow/python/ops/gen_math_ops.py\", line 1217, in _mat_mul\n",
      "    transpose_b=transpose_b, name=name)\n",
      "  File \"/data/zonghua/envs/icybee/lib/python3.5/site-packages/tensorflow/python/framework/op_def_library.py\", line 767, in apply_op\n",
      "    op_def=op_def)\n",
      "  File \"/data/zonghua/envs/icybee/lib/python3.5/site-packages/tensorflow/python/framework/ops.py\", line 2506, in create_op\n",
      "    original_op=self._default_original_op, op_def=op_def)\n",
      "  File \"/data/zonghua/envs/icybee/lib/python3.5/site-packages/tensorflow/python/framework/ops.py\", line 1269, in __init__\n",
      "    self._traceback = _extract_stack()\n",
      "\n",
      "...which was originally created as op 'deepspeech_rnn_layer/deepspeech_rnn_layer_layer5/bidirectional_rnn/fw/fw/while/fw/gru_cell/gates/gates/MatMul', defined at:\n",
      "  File \"/usr/lib/python3.5/runpy.py\", line 184, in _run_module_as_main\n",
      "    \"__main__\", mod_spec)\n",
      "[elided 18 identical lines from previous traceback]\n",
      "  File \"/data/zonghua/envs/icybee/lib/python3.5/site-packages/IPython/core/interactiveshell.py\", line 2862, in run_code\n",
      "    exec(code_obj, self.user_global_ns, self.user_ns)\n",
      "  File \"<ipython-input-32-d0865951dcc0>\", line 66, in <module>\n",
      "    rnn_out = rnn_layer(net,HIDDEN_LAYERS,voicelength[ind * BATCH_SIZE:(ind + 1) * BATCH_SIZE],RNN_SIZE,training=training,name=\"deepspeech_rnn_layer\")\n",
      "  File \"<ipython-input-27-2db1d12a07ea>\", line 30, in rnn_layer\n",
      "    sequence_length = rnn_seq_lens,time_major = False,dtype=tf.float32)\n",
      "  File \"/data/zonghua/envs/icybee/lib/python3.5/site-packages/tensorflow/python/ops/rnn.py\", line 375, in bidirectional_dynamic_rnn\n",
      "    time_major=time_major, scope=fw_scope)\n",
      "  File \"/data/zonghua/envs/icybee/lib/python3.5/site-packages/tensorflow/python/ops/rnn.py\", line 574, in dynamic_rnn\n",
      "    dtype=dtype)\n",
      "  File \"/data/zonghua/envs/icybee/lib/python3.5/site-packages/tensorflow/python/ops/rnn.py\", line 737, in _dynamic_rnn_loop\n",
      "    swap_memory=swap_memory)\n",
      "  File \"/data/zonghua/envs/icybee/lib/python3.5/site-packages/tensorflow/python/ops/control_flow_ops.py\", line 2770, in while_loop\n",
      "    result = context.BuildLoop(cond, body, loop_vars, shape_invariants)\n",
      "  File \"/data/zonghua/envs/icybee/lib/python3.5/site-packages/tensorflow/python/ops/control_flow_ops.py\", line 2599, in BuildLoop\n",
      "    pred, body, original_loop_vars, loop_vars, shape_invariants)\n",
      "  File \"/data/zonghua/envs/icybee/lib/python3.5/site-packages/tensorflow/python/ops/control_flow_ops.py\", line 2549, in _BuildLoop\n",
      "    body_result = body(*packed_vars_for_body)\n",
      "  File \"/data/zonghua/envs/icybee/lib/python3.5/site-packages/tensorflow/python/ops/rnn.py\", line 720, in _time_step\n",
      "    skip_conditionals=True)\n",
      "  File \"/data/zonghua/envs/icybee/lib/python3.5/site-packages/tensorflow/python/ops/rnn.py\", line 206, in _rnn_step\n",
      "    new_output, new_state = call_cell()\n",
      "  File \"/data/zonghua/envs/icybee/lib/python3.5/site-packages/tensorflow/python/ops/rnn.py\", line 708, in <lambda>\n",
      "    call_cell = lambda: cell(input_t, state)\n",
      "\n",
      "ResourceExhaustedError (see above for traceback): OOM when allocating tensor with shape[800,800]\n",
      "\t [[Node: gradients/deepspeech_rnn_layer/deepspeech_rnn_layer_layer5/bidirectional_rnn/fw/fw/while/fw/gru_cell/gates/gates/MatMul_grad/MatMul_1 = MatMul[T=DT_FLOAT, transpose_a=true, transpose_b=false, _device=\"/job:local/replica:0/task:0/gpu:0\"](gradients/deepspeech_rnn_layer/deepspeech_rnn_layer_layer5/bidirectional_rnn/fw/fw/while/fw/gru_cell/gates/gates/MatMul_grad/MatMul_1/StackPop, gradients/deepspeech_rnn_layer/deepspeech_rnn_layer_layer5/bidirectional_rnn/fw/fw/while/fw/gru_cell/gates/gates/BiasAdd_grad/tuple/control_dependency)]]\n",
      "\t [[Node: EditDistance_1/Cast_G2553 = _Recv[client_terminated=false, recv_device=\"/job:local/replica:0/task:0/cpu:0\", send_device=\"/job:local/replica:0/task:0/gpu:0\", send_device_incarnation=-7979307377332489351, tensor_name=\"edge_13715_EditDistance_1/Cast\", tensor_type=DT_INT32, _device=\"/job:local/replica:0/task:0/cpu:0\"]()]]\n",
      "\n"
     ]
    },
    {
     "name": "stdout",
     "output_type": "stream",
     "text": [
      "EPOCH 4 STEP 1190 LR 0.0003 LOSS 16.96 DIS 0.1 t1 0.02 t2 7.46 63.28 % [===============================>-------------------] 75488/119296 \t used:10907s eta:6329 s"
     ]
    },
    {
     "name": "stderr",
     "output_type": "stream",
     "text": [
      "Traceback (most recent call last):\n",
      "  File \"/data/zonghua/envs/icybee/lib/python3.5/site-packages/tensorflow/python/client/session.py\", line 1139, in _do_call\n",
      "    return fn(*args)\n",
      "  File \"/data/zonghua/envs/icybee/lib/python3.5/site-packages/tensorflow/python/client/session.py\", line 1121, in _run_fn\n",
      "    status, run_metadata)\n",
      "  File \"/usr/lib/python3.5/contextlib.py\", line 66, in __exit__\n",
      "    next(self.gen)\n",
      "  File \"/data/zonghua/envs/icybee/lib/python3.5/site-packages/tensorflow/python/framework/errors_impl.py\", line 466, in raise_exception_on_not_ok_status\n",
      "    pywrap_tensorflow.TF_GetCode(status))\n",
      "tensorflow.python.framework.errors_impl.ResourceExhaustedError: OOM when allocating tensor with shape[32,800]\n",
      "\t [[Node: deepspeech_rnn_layer_1/deepspeech_rnn_layer_layer5/bidirectional_rnn/fw/fw/while/fw/gru_cell/gates/gates/MatMul = MatMul[T=DT_FLOAT, transpose_a=false, transpose_b=false, _device=\"/job:local/replica:0/task:0/gpu:0\"](deepspeech_rnn_layer_1/deepspeech_rnn_layer_layer5/bidirectional_rnn/fw/fw/while/fw/gru_cell/gates/gates/concat, deepspeech_rnn_layer_1/deepspeech_rnn_layer_layer5/bidirectional_rnn/fw/fw/while/fw/gru_cell/gates/gates/MatMul/Enter)]]\n",
      "\t [[Node: deepspeech_dense/Tensordot/Shape_G2323 = _Recv[client_terminated=false, recv_device=\"/job:local/replica:0/task:0/cpu:0\", send_device=\"/job:local/replica:0/task:0/gpu:0\", send_device_incarnation=-7979307377332489351, tensor_name=\"edge_2875_deepspeech_dense/Tensordot/Shape\", tensor_type=DT_INT32, _device=\"/job:local/replica:0/task:0/cpu:0\"]()]]\n",
      "\n",
      "During handling of the above exception, another exception occurred:\n",
      "\n",
      "Traceback (most recent call last):\n",
      "  File \"<ipython-input-50-0c9748b93176>\", line 96, in <module>\n",
      "    [dis,train_op,loss,summary_op,global_step],feed_dict=feeddic)\n",
      "  File \"/data/zonghua/envs/icybee/lib/python3.5/site-packages/tensorflow/python/client/session.py\", line 789, in run\n",
      "    run_metadata_ptr)\n",
      "  File \"/data/zonghua/envs/icybee/lib/python3.5/site-packages/tensorflow/python/client/session.py\", line 997, in _run\n",
      "    feed_dict_string, options, run_metadata)\n",
      "  File \"/data/zonghua/envs/icybee/lib/python3.5/site-packages/tensorflow/python/client/session.py\", line 1132, in _do_run\n",
      "    target_list, options, run_metadata)\n",
      "  File \"/data/zonghua/envs/icybee/lib/python3.5/site-packages/tensorflow/python/client/session.py\", line 1152, in _do_call\n",
      "    raise type(e)(node_def, op, message)\n",
      "tensorflow.python.framework.errors_impl.ResourceExhaustedError: OOM when allocating tensor with shape[32,800]\n",
      "\t [[Node: deepspeech_rnn_layer_1/deepspeech_rnn_layer_layer5/bidirectional_rnn/fw/fw/while/fw/gru_cell/gates/gates/MatMul = MatMul[T=DT_FLOAT, transpose_a=false, transpose_b=false, _device=\"/job:local/replica:0/task:0/gpu:0\"](deepspeech_rnn_layer_1/deepspeech_rnn_layer_layer5/bidirectional_rnn/fw/fw/while/fw/gru_cell/gates/gates/concat, deepspeech_rnn_layer_1/deepspeech_rnn_layer_layer5/bidirectional_rnn/fw/fw/while/fw/gru_cell/gates/gates/MatMul/Enter)]]\n",
      "\t [[Node: deepspeech_dense/Tensordot/Shape_G2323 = _Recv[client_terminated=false, recv_device=\"/job:local/replica:0/task:0/cpu:0\", send_device=\"/job:local/replica:0/task:0/gpu:0\", send_device_incarnation=-7979307377332489351, tensor_name=\"edge_2875_deepspeech_dense/Tensordot/Shape\", tensor_type=DT_INT32, _device=\"/job:local/replica:0/task:0/cpu:0\"]()]]\n",
      "\n",
      "Caused by op 'deepspeech_rnn_layer_1/deepspeech_rnn_layer_layer5/bidirectional_rnn/fw/fw/while/fw/gru_cell/gates/gates/MatMul', defined at:\n",
      "  File \"/usr/lib/python3.5/runpy.py\", line 184, in _run_module_as_main\n",
      "    \"__main__\", mod_spec)\n",
      "  File \"/usr/lib/python3.5/runpy.py\", line 85, in _run_code\n",
      "    exec(code, run_globals)\n",
      "  File \"/data/zonghua/envs/icybee/lib/python3.5/site-packages/ipykernel_launcher.py\", line 16, in <module>\n",
      "    app.launch_new_instance()\n",
      "  File \"/data/zonghua/envs/icybee/lib/python3.5/site-packages/traitlets/config/application.py\", line 658, in launch_instance\n",
      "    app.start()\n",
      "  File \"/data/zonghua/envs/icybee/lib/python3.5/site-packages/ipykernel/kernelapp.py\", line 477, in start\n",
      "    ioloop.IOLoop.instance().start()\n",
      "  File \"/data/zonghua/envs/icybee/lib/python3.5/site-packages/zmq/eventloop/ioloop.py\", line 177, in start\n",
      "    super(ZMQIOLoop, self).start()\n",
      "  File \"/data/zonghua/envs/icybee/lib/python3.5/site-packages/tornado/ioloop.py\", line 888, in start\n",
      "    handler_func(fd_obj, events)\n",
      "  File \"/data/zonghua/envs/icybee/lib/python3.5/site-packages/tornado/stack_context.py\", line 277, in null_wrapper\n",
      "    return fn(*args, **kwargs)\n",
      "  File \"/data/zonghua/envs/icybee/lib/python3.5/site-packages/zmq/eventloop/zmqstream.py\", line 440, in _handle_events\n",
      "    self._handle_recv()\n",
      "  File \"/data/zonghua/envs/icybee/lib/python3.5/site-packages/zmq/eventloop/zmqstream.py\", line 472, in _handle_recv\n",
      "    self._run_callback(callback, msg)\n",
      "  File \"/data/zonghua/envs/icybee/lib/python3.5/site-packages/zmq/eventloop/zmqstream.py\", line 414, in _run_callback\n",
      "    callback(*args, **kwargs)\n",
      "  File \"/data/zonghua/envs/icybee/lib/python3.5/site-packages/tornado/stack_context.py\", line 277, in null_wrapper\n",
      "    return fn(*args, **kwargs)\n",
      "  File \"/data/zonghua/envs/icybee/lib/python3.5/site-packages/ipykernel/kernelbase.py\", line 283, in dispatcher\n",
      "    return self.dispatch_shell(stream, msg)\n",
      "  File \"/data/zonghua/envs/icybee/lib/python3.5/site-packages/ipykernel/kernelbase.py\", line 235, in dispatch_shell\n",
      "    handler(stream, idents, msg)\n",
      "  File \"/data/zonghua/envs/icybee/lib/python3.5/site-packages/ipykernel/kernelbase.py\", line 399, in execute_request\n",
      "    user_expressions, allow_stdin)\n",
      "  File \"/data/zonghua/envs/icybee/lib/python3.5/site-packages/ipykernel/ipkernel.py\", line 196, in do_execute\n",
      "    res = shell.run_cell(code, store_history=store_history, silent=silent)\n",
      "  File \"/data/zonghua/envs/icybee/lib/python3.5/site-packages/ipykernel/zmqshell.py\", line 533, in run_cell\n",
      "    return super(ZMQInteractiveShell, self).run_cell(*args, **kwargs)\n",
      "  File \"/data/zonghua/envs/icybee/lib/python3.5/site-packages/IPython/core/interactiveshell.py\", line 2698, in run_cell\n",
      "    interactivity=interactivity, compiler=compiler, result=result)\n",
      "  File \"/data/zonghua/envs/icybee/lib/python3.5/site-packages/IPython/core/interactiveshell.py\", line 2802, in run_ast_nodes\n",
      "    if self.run_code(code, result):\n",
      "  File \"/data/zonghua/envs/icybee/lib/python3.5/site-packages/IPython/core/interactiveshell.py\", line 2862, in run_code\n",
      "    exec(code_obj, self.user_global_ns, self.user_ns)\n",
      "  File \"<ipython-input-32-d0865951dcc0>\", line 66, in <module>\n",
      "    rnn_out = rnn_layer(net,HIDDEN_LAYERS,voicelength[ind * BATCH_SIZE:(ind + 1) * BATCH_SIZE],RNN_SIZE,training=training,name=\"deepspeech_rnn_layer\")\n",
      "  File \"<ipython-input-27-2db1d12a07ea>\", line 30, in rnn_layer\n",
      "    sequence_length = rnn_seq_lens,time_major = False,dtype=tf.float32)\n",
      "  File \"/data/zonghua/envs/icybee/lib/python3.5/site-packages/tensorflow/python/ops/rnn.py\", line 375, in bidirectional_dynamic_rnn\n",
      "    time_major=time_major, scope=fw_scope)\n",
      "  File \"/data/zonghua/envs/icybee/lib/python3.5/site-packages/tensorflow/python/ops/rnn.py\", line 574, in dynamic_rnn\n",
      "    dtype=dtype)\n",
      "  File \"/data/zonghua/envs/icybee/lib/python3.5/site-packages/tensorflow/python/ops/rnn.py\", line 737, in _dynamic_rnn_loop\n",
      "    swap_memory=swap_memory)\n",
      "  File \"/data/zonghua/envs/icybee/lib/python3.5/site-packages/tensorflow/python/ops/control_flow_ops.py\", line 2770, in while_loop\n",
      "    result = context.BuildLoop(cond, body, loop_vars, shape_invariants)\n",
      "  File \"/data/zonghua/envs/icybee/lib/python3.5/site-packages/tensorflow/python/ops/control_flow_ops.py\", line 2599, in BuildLoop\n",
      "    pred, body, original_loop_vars, loop_vars, shape_invariants)\n",
      "  File \"/data/zonghua/envs/icybee/lib/python3.5/site-packages/tensorflow/python/ops/control_flow_ops.py\", line 2549, in _BuildLoop\n",
      "    body_result = body(*packed_vars_for_body)\n",
      "  File \"/data/zonghua/envs/icybee/lib/python3.5/site-packages/tensorflow/python/ops/rnn.py\", line 720, in _time_step\n",
      "    skip_conditionals=True)\n",
      "  File \"/data/zonghua/envs/icybee/lib/python3.5/site-packages/tensorflow/python/ops/rnn.py\", line 206, in _rnn_step\n",
      "    new_output, new_state = call_cell()\n",
      "  File \"/data/zonghua/envs/icybee/lib/python3.5/site-packages/tensorflow/python/ops/rnn.py\", line 708, in <lambda>\n",
      "    call_cell = lambda: cell(input_t, state)\n",
      "  File \"/data/zonghua/envs/icybee/lib/python3.5/site-packages/tensorflow/python/ops/rnn_cell_impl.py\", line 180, in __call__\n",
      "    return super(RNNCell, self).__call__(inputs, state)\n",
      "  File \"/data/zonghua/envs/icybee/lib/python3.5/site-packages/tensorflow/python/layers/base.py\", line 441, in __call__\n",
      "    outputs = self.call(inputs, *args, **kwargs)\n",
      "  File \"/data/zonghua/envs/icybee/lib/python3.5/site-packages/tensorflow/python/ops/rnn_cell_impl.py\", line 295, in call\n",
      "    self._kernel_initializer))\n",
      "  File \"/data/zonghua/envs/icybee/lib/python3.5/site-packages/tensorflow/python/ops/rnn_cell_impl.py\", line 1021, in _linear\n",
      "    res = math_ops.matmul(array_ops.concat(args, 1), weights)\n",
      "  File \"/data/zonghua/envs/icybee/lib/python3.5/site-packages/tensorflow/python/ops/math_ops.py\", line 1816, in matmul\n",
      "    a, b, transpose_a=transpose_a, transpose_b=transpose_b, name=name)\n",
      "  File \"/data/zonghua/envs/icybee/lib/python3.5/site-packages/tensorflow/python/ops/gen_math_ops.py\", line 1217, in _mat_mul\n",
      "    transpose_b=transpose_b, name=name)\n",
      "  File \"/data/zonghua/envs/icybee/lib/python3.5/site-packages/tensorflow/python/framework/op_def_library.py\", line 767, in apply_op\n",
      "    op_def=op_def)\n",
      "  File \"/data/zonghua/envs/icybee/lib/python3.5/site-packages/tensorflow/python/framework/ops.py\", line 2506, in create_op\n",
      "    original_op=self._default_original_op, op_def=op_def)\n",
      "  File \"/data/zonghua/envs/icybee/lib/python3.5/site-packages/tensorflow/python/framework/ops.py\", line 1269, in __init__\n",
      "    self._traceback = _extract_stack()\n",
      "\n",
      "ResourceExhaustedError (see above for traceback): OOM when allocating tensor with shape[32,800]\n",
      "\t [[Node: deepspeech_rnn_layer_1/deepspeech_rnn_layer_layer5/bidirectional_rnn/fw/fw/while/fw/gru_cell/gates/gates/MatMul = MatMul[T=DT_FLOAT, transpose_a=false, transpose_b=false, _device=\"/job:local/replica:0/task:0/gpu:0\"](deepspeech_rnn_layer_1/deepspeech_rnn_layer_layer5/bidirectional_rnn/fw/fw/while/fw/gru_cell/gates/gates/concat, deepspeech_rnn_layer_1/deepspeech_rnn_layer_layer5/bidirectional_rnn/fw/fw/while/fw/gru_cell/gates/gates/MatMul/Enter)]]\n",
      "\t [[Node: deepspeech_dense/Tensordot/Shape_G2323 = _Recv[client_terminated=false, recv_device=\"/job:local/replica:0/task:0/cpu:0\", send_device=\"/job:local/replica:0/task:0/gpu:0\", send_device_incarnation=-7979307377332489351, tensor_name=\"edge_2875_deepspeech_dense/Tensordot/Shape\", tensor_type=DT_INT32, _device=\"/job:local/replica:0/task:0/cpu:0\"]()]]\n",
      "\n"
     ]
    },
    {
     "name": "stdout",
     "output_type": "stream",
     "text": [
      "EPOCH 4 STEP 1714 LR 0.0003 LOSS 16.95 DIS 0.1 t1 0.03 t2 8.52 91.34 % [=============================================>-----] 108960/119296 \t used:15520s eta:1472 s"
     ]
    },
    {
     "name": "stderr",
     "output_type": "stream",
     "text": [
      "Traceback (most recent call last):\n",
      "  File \"/data/zonghua/envs/icybee/lib/python3.5/site-packages/tensorflow/python/client/session.py\", line 1139, in _do_call\n",
      "    return fn(*args)\n",
      "  File \"/data/zonghua/envs/icybee/lib/python3.5/site-packages/tensorflow/python/client/session.py\", line 1121, in _run_fn\n",
      "    status, run_metadata)\n",
      "  File \"/usr/lib/python3.5/contextlib.py\", line 66, in __exit__\n",
      "    next(self.gen)\n",
      "  File \"/data/zonghua/envs/icybee/lib/python3.5/site-packages/tensorflow/python/framework/errors_impl.py\", line 466, in raise_exception_on_not_ok_status\n",
      "    pywrap_tensorflow.TF_GetCode(status))\n",
      "tensorflow.python.framework.errors_impl.ResourceExhaustedError: OOM when allocating tensor with shape[32,800]\n",
      "\t [[Node: deepspeech_rnn_layer_1/deepspeech_rnn_layer_layer5/bidirectional_rnn/fw/fw/while/fw/gru_cell/gates/gates/MatMul = MatMul[T=DT_FLOAT, transpose_a=false, transpose_b=false, _device=\"/job:local/replica:0/task:0/gpu:0\"](deepspeech_rnn_layer_1/deepspeech_rnn_layer_layer5/bidirectional_rnn/fw/fw/while/fw/gru_cell/gates/gates/concat, deepspeech_rnn_layer_1/deepspeech_rnn_layer_layer5/bidirectional_rnn/fw/fw/while/fw/gru_cell/gates/gates/MatMul/Enter)]]\n",
      "\t [[Node: deepspeech_dense/Tensordot/Shape_G2323 = _Recv[client_terminated=false, recv_device=\"/job:local/replica:0/task:0/cpu:0\", send_device=\"/job:local/replica:0/task:0/gpu:0\", send_device_incarnation=-7979307377332489351, tensor_name=\"edge_2875_deepspeech_dense/Tensordot/Shape\", tensor_type=DT_INT32, _device=\"/job:local/replica:0/task:0/cpu:0\"]()]]\n",
      "\n",
      "During handling of the above exception, another exception occurred:\n",
      "\n",
      "Traceback (most recent call last):\n",
      "  File \"<ipython-input-50-0c9748b93176>\", line 96, in <module>\n",
      "    [dis,train_op,loss,summary_op,global_step],feed_dict=feeddic)\n",
      "  File \"/data/zonghua/envs/icybee/lib/python3.5/site-packages/tensorflow/python/client/session.py\", line 789, in run\n",
      "    run_metadata_ptr)\n",
      "  File \"/data/zonghua/envs/icybee/lib/python3.5/site-packages/tensorflow/python/client/session.py\", line 997, in _run\n",
      "    feed_dict_string, options, run_metadata)\n",
      "  File \"/data/zonghua/envs/icybee/lib/python3.5/site-packages/tensorflow/python/client/session.py\", line 1132, in _do_run\n",
      "    target_list, options, run_metadata)\n",
      "  File \"/data/zonghua/envs/icybee/lib/python3.5/site-packages/tensorflow/python/client/session.py\", line 1152, in _do_call\n",
      "    raise type(e)(node_def, op, message)\n",
      "tensorflow.python.framework.errors_impl.ResourceExhaustedError: OOM when allocating tensor with shape[32,800]\n",
      "\t [[Node: deepspeech_rnn_layer_1/deepspeech_rnn_layer_layer5/bidirectional_rnn/fw/fw/while/fw/gru_cell/gates/gates/MatMul = MatMul[T=DT_FLOAT, transpose_a=false, transpose_b=false, _device=\"/job:local/replica:0/task:0/gpu:0\"](deepspeech_rnn_layer_1/deepspeech_rnn_layer_layer5/bidirectional_rnn/fw/fw/while/fw/gru_cell/gates/gates/concat, deepspeech_rnn_layer_1/deepspeech_rnn_layer_layer5/bidirectional_rnn/fw/fw/while/fw/gru_cell/gates/gates/MatMul/Enter)]]\n",
      "\t [[Node: deepspeech_dense/Tensordot/Shape_G2323 = _Recv[client_terminated=false, recv_device=\"/job:local/replica:0/task:0/cpu:0\", send_device=\"/job:local/replica:0/task:0/gpu:0\", send_device_incarnation=-7979307377332489351, tensor_name=\"edge_2875_deepspeech_dense/Tensordot/Shape\", tensor_type=DT_INT32, _device=\"/job:local/replica:0/task:0/cpu:0\"]()]]\n",
      "\n",
      "Caused by op 'deepspeech_rnn_layer_1/deepspeech_rnn_layer_layer5/bidirectional_rnn/fw/fw/while/fw/gru_cell/gates/gates/MatMul', defined at:\n",
      "  File \"/usr/lib/python3.5/runpy.py\", line 184, in _run_module_as_main\n",
      "    \"__main__\", mod_spec)\n",
      "  File \"/usr/lib/python3.5/runpy.py\", line 85, in _run_code\n",
      "    exec(code, run_globals)\n",
      "  File \"/data/zonghua/envs/icybee/lib/python3.5/site-packages/ipykernel_launcher.py\", line 16, in <module>\n",
      "    app.launch_new_instance()\n",
      "  File \"/data/zonghua/envs/icybee/lib/python3.5/site-packages/traitlets/config/application.py\", line 658, in launch_instance\n",
      "    app.start()\n",
      "  File \"/data/zonghua/envs/icybee/lib/python3.5/site-packages/ipykernel/kernelapp.py\", line 477, in start\n",
      "    ioloop.IOLoop.instance().start()\n",
      "  File \"/data/zonghua/envs/icybee/lib/python3.5/site-packages/zmq/eventloop/ioloop.py\", line 177, in start\n",
      "    super(ZMQIOLoop, self).start()\n",
      "  File \"/data/zonghua/envs/icybee/lib/python3.5/site-packages/tornado/ioloop.py\", line 888, in start\n",
      "    handler_func(fd_obj, events)\n",
      "  File \"/data/zonghua/envs/icybee/lib/python3.5/site-packages/tornado/stack_context.py\", line 277, in null_wrapper\n",
      "    return fn(*args, **kwargs)\n",
      "  File \"/data/zonghua/envs/icybee/lib/python3.5/site-packages/zmq/eventloop/zmqstream.py\", line 440, in _handle_events\n",
      "    self._handle_recv()\n",
      "  File \"/data/zonghua/envs/icybee/lib/python3.5/site-packages/zmq/eventloop/zmqstream.py\", line 472, in _handle_recv\n",
      "    self._run_callback(callback, msg)\n",
      "  File \"/data/zonghua/envs/icybee/lib/python3.5/site-packages/zmq/eventloop/zmqstream.py\", line 414, in _run_callback\n",
      "    callback(*args, **kwargs)\n",
      "  File \"/data/zonghua/envs/icybee/lib/python3.5/site-packages/tornado/stack_context.py\", line 277, in null_wrapper\n",
      "    return fn(*args, **kwargs)\n",
      "  File \"/data/zonghua/envs/icybee/lib/python3.5/site-packages/ipykernel/kernelbase.py\", line 283, in dispatcher\n",
      "    return self.dispatch_shell(stream, msg)\n",
      "  File \"/data/zonghua/envs/icybee/lib/python3.5/site-packages/ipykernel/kernelbase.py\", line 235, in dispatch_shell\n",
      "    handler(stream, idents, msg)\n",
      "  File \"/data/zonghua/envs/icybee/lib/python3.5/site-packages/ipykernel/kernelbase.py\", line 399, in execute_request\n",
      "    user_expressions, allow_stdin)\n",
      "  File \"/data/zonghua/envs/icybee/lib/python3.5/site-packages/ipykernel/ipkernel.py\", line 196, in do_execute\n",
      "    res = shell.run_cell(code, store_history=store_history, silent=silent)\n",
      "  File \"/data/zonghua/envs/icybee/lib/python3.5/site-packages/ipykernel/zmqshell.py\", line 533, in run_cell\n",
      "    return super(ZMQInteractiveShell, self).run_cell(*args, **kwargs)\n",
      "  File \"/data/zonghua/envs/icybee/lib/python3.5/site-packages/IPython/core/interactiveshell.py\", line 2698, in run_cell\n",
      "    interactivity=interactivity, compiler=compiler, result=result)\n",
      "  File \"/data/zonghua/envs/icybee/lib/python3.5/site-packages/IPython/core/interactiveshell.py\", line 2802, in run_ast_nodes\n",
      "    if self.run_code(code, result):\n",
      "  File \"/data/zonghua/envs/icybee/lib/python3.5/site-packages/IPython/core/interactiveshell.py\", line 2862, in run_code\n",
      "    exec(code_obj, self.user_global_ns, self.user_ns)\n",
      "  File \"<ipython-input-32-d0865951dcc0>\", line 66, in <module>\n",
      "    rnn_out = rnn_layer(net,HIDDEN_LAYERS,voicelength[ind * BATCH_SIZE:(ind + 1) * BATCH_SIZE],RNN_SIZE,training=training,name=\"deepspeech_rnn_layer\")\n",
      "  File \"<ipython-input-27-2db1d12a07ea>\", line 30, in rnn_layer\n",
      "    sequence_length = rnn_seq_lens,time_major = False,dtype=tf.float32)\n",
      "  File \"/data/zonghua/envs/icybee/lib/python3.5/site-packages/tensorflow/python/ops/rnn.py\", line 375, in bidirectional_dynamic_rnn\n",
      "    time_major=time_major, scope=fw_scope)\n",
      "  File \"/data/zonghua/envs/icybee/lib/python3.5/site-packages/tensorflow/python/ops/rnn.py\", line 574, in dynamic_rnn\n",
      "    dtype=dtype)\n",
      "  File \"/data/zonghua/envs/icybee/lib/python3.5/site-packages/tensorflow/python/ops/rnn.py\", line 737, in _dynamic_rnn_loop\n",
      "    swap_memory=swap_memory)\n",
      "  File \"/data/zonghua/envs/icybee/lib/python3.5/site-packages/tensorflow/python/ops/control_flow_ops.py\", line 2770, in while_loop\n",
      "    result = context.BuildLoop(cond, body, loop_vars, shape_invariants)\n",
      "  File \"/data/zonghua/envs/icybee/lib/python3.5/site-packages/tensorflow/python/ops/control_flow_ops.py\", line 2599, in BuildLoop\n",
      "    pred, body, original_loop_vars, loop_vars, shape_invariants)\n",
      "  File \"/data/zonghua/envs/icybee/lib/python3.5/site-packages/tensorflow/python/ops/control_flow_ops.py\", line 2549, in _BuildLoop\n",
      "    body_result = body(*packed_vars_for_body)\n",
      "  File \"/data/zonghua/envs/icybee/lib/python3.5/site-packages/tensorflow/python/ops/rnn.py\", line 720, in _time_step\n",
      "    skip_conditionals=True)\n",
      "  File \"/data/zonghua/envs/icybee/lib/python3.5/site-packages/tensorflow/python/ops/rnn.py\", line 206, in _rnn_step\n",
      "    new_output, new_state = call_cell()\n",
      "  File \"/data/zonghua/envs/icybee/lib/python3.5/site-packages/tensorflow/python/ops/rnn.py\", line 708, in <lambda>\n",
      "    call_cell = lambda: cell(input_t, state)\n",
      "  File \"/data/zonghua/envs/icybee/lib/python3.5/site-packages/tensorflow/python/ops/rnn_cell_impl.py\", line 180, in __call__\n",
      "    return super(RNNCell, self).__call__(inputs, state)\n",
      "  File \"/data/zonghua/envs/icybee/lib/python3.5/site-packages/tensorflow/python/layers/base.py\", line 441, in __call__\n",
      "    outputs = self.call(inputs, *args, **kwargs)\n",
      "  File \"/data/zonghua/envs/icybee/lib/python3.5/site-packages/tensorflow/python/ops/rnn_cell_impl.py\", line 295, in call\n",
      "    self._kernel_initializer))\n",
      "  File \"/data/zonghua/envs/icybee/lib/python3.5/site-packages/tensorflow/python/ops/rnn_cell_impl.py\", line 1021, in _linear\n",
      "    res = math_ops.matmul(array_ops.concat(args, 1), weights)\n",
      "  File \"/data/zonghua/envs/icybee/lib/python3.5/site-packages/tensorflow/python/ops/math_ops.py\", line 1816, in matmul\n",
      "    a, b, transpose_a=transpose_a, transpose_b=transpose_b, name=name)\n",
      "  File \"/data/zonghua/envs/icybee/lib/python3.5/site-packages/tensorflow/python/ops/gen_math_ops.py\", line 1217, in _mat_mul\n",
      "    transpose_b=transpose_b, name=name)\n",
      "  File \"/data/zonghua/envs/icybee/lib/python3.5/site-packages/tensorflow/python/framework/op_def_library.py\", line 767, in apply_op\n",
      "    op_def=op_def)\n",
      "  File \"/data/zonghua/envs/icybee/lib/python3.5/site-packages/tensorflow/python/framework/ops.py\", line 2506, in create_op\n",
      "    original_op=self._default_original_op, op_def=op_def)\n",
      "  File \"/data/zonghua/envs/icybee/lib/python3.5/site-packages/tensorflow/python/framework/ops.py\", line 1269, in __init__\n",
      "    self._traceback = _extract_stack()\n",
      "\n",
      "ResourceExhaustedError (see above for traceback): OOM when allocating tensor with shape[32,800]\n",
      "\t [[Node: deepspeech_rnn_layer_1/deepspeech_rnn_layer_layer5/bidirectional_rnn/fw/fw/while/fw/gru_cell/gates/gates/MatMul = MatMul[T=DT_FLOAT, transpose_a=false, transpose_b=false, _device=\"/job:local/replica:0/task:0/gpu:0\"](deepspeech_rnn_layer_1/deepspeech_rnn_layer_layer5/bidirectional_rnn/fw/fw/while/fw/gru_cell/gates/gates/concat, deepspeech_rnn_layer_1/deepspeech_rnn_layer_layer5/bidirectional_rnn/fw/fw/while/fw/gru_cell/gates/gates/MatMul/Enter)]]\n",
      "\t [[Node: deepspeech_dense/Tensordot/Shape_G2323 = _Recv[client_terminated=false, recv_device=\"/job:local/replica:0/task:0/cpu:0\", send_device=\"/job:local/replica:0/task:0/gpu:0\", send_device_incarnation=-7979307377332489351, tensor_name=\"edge_2875_deepspeech_dense/Tensordot/Shape\", tensor_type=DT_INT32, _device=\"/job:local/replica:0/task:0/cpu:0\"]()]]\n",
      "\n"
     ]
    },
    {
     "name": "stdout",
     "output_type": "stream",
     "text": [
      "EPOCH 4 STEP 1758 LR 0.0003 LOSS 16.03 DIS 0.09 t1 0.03 t2 11.62 93.64 % [==============================================>----] 111712/119296 \t used:15969s eta:1083 s"
     ]
    },
    {
     "name": "stderr",
     "output_type": "stream",
     "text": [
      "Traceback (most recent call last):\n",
      "  File \"/data/zonghua/envs/icybee/lib/python3.5/site-packages/tensorflow/python/client/session.py\", line 1139, in _do_call\n",
      "    return fn(*args)\n",
      "  File \"/data/zonghua/envs/icybee/lib/python3.5/site-packages/tensorflow/python/client/session.py\", line 1121, in _run_fn\n",
      "    status, run_metadata)\n",
      "  File \"/usr/lib/python3.5/contextlib.py\", line 66, in __exit__\n",
      "    next(self.gen)\n",
      "  File \"/data/zonghua/envs/icybee/lib/python3.5/site-packages/tensorflow/python/framework/errors_impl.py\", line 466, in raise_exception_on_not_ok_status\n",
      "    pywrap_tensorflow.TF_GetCode(status))\n",
      "tensorflow.python.framework.errors_impl.ResourceExhaustedError: OOM when allocating tensor with shape[800,400]\n",
      "\t [[Node: gradients_2/deepspeech_rnn_layer_1/deepspeech_rnn_layer_layer5/bidirectional_rnn/bw/bw/while/bw/gru_cell/candidate/candidate/MatMul_grad/MatMul_1 = MatMul[T=DT_FLOAT, transpose_a=true, transpose_b=false, _device=\"/job:local/replica:0/task:0/gpu:0\"](gradients_2/deepspeech_rnn_layer_1/deepspeech_rnn_layer_layer5/bidirectional_rnn/bw/bw/while/bw/gru_cell/candidate/candidate/MatMul_grad/MatMul_1/StackPop, gradients_2/deepspeech_rnn_layer_1/deepspeech_rnn_layer_layer5/bidirectional_rnn/bw/bw/while/bw/gru_cell/candidate/candidate/BiasAdd_grad/tuple/control_dependency)]]\n",
      "\t [[Node: deepspeech_dense/Tensordot/Shape_G2323 = _Recv[client_terminated=false, recv_device=\"/job:local/replica:0/task:0/cpu:0\", send_device=\"/job:local/replica:0/task:0/gpu:0\", send_device_incarnation=-7979307377332489351, tensor_name=\"edge_2875_deepspeech_dense/Tensordot/Shape\", tensor_type=DT_INT32, _device=\"/job:local/replica:0/task:0/cpu:0\"]()]]\n",
      "\n",
      "During handling of the above exception, another exception occurred:\n",
      "\n",
      "Traceback (most recent call last):\n",
      "  File \"<ipython-input-50-0c9748b93176>\", line 96, in <module>\n",
      "    [dis,train_op,loss,summary_op,global_step],feed_dict=feeddic)\n",
      "  File \"/data/zonghua/envs/icybee/lib/python3.5/site-packages/tensorflow/python/client/session.py\", line 789, in run\n",
      "    run_metadata_ptr)\n",
      "  File \"/data/zonghua/envs/icybee/lib/python3.5/site-packages/tensorflow/python/client/session.py\", line 997, in _run\n",
      "    feed_dict_string, options, run_metadata)\n",
      "  File \"/data/zonghua/envs/icybee/lib/python3.5/site-packages/tensorflow/python/client/session.py\", line 1132, in _do_run\n",
      "    target_list, options, run_metadata)\n",
      "  File \"/data/zonghua/envs/icybee/lib/python3.5/site-packages/tensorflow/python/client/session.py\", line 1152, in _do_call\n",
      "    raise type(e)(node_def, op, message)\n",
      "tensorflow.python.framework.errors_impl.ResourceExhaustedError: OOM when allocating tensor with shape[800,400]\n",
      "\t [[Node: gradients_2/deepspeech_rnn_layer_1/deepspeech_rnn_layer_layer5/bidirectional_rnn/bw/bw/while/bw/gru_cell/candidate/candidate/MatMul_grad/MatMul_1 = MatMul[T=DT_FLOAT, transpose_a=true, transpose_b=false, _device=\"/job:local/replica:0/task:0/gpu:0\"](gradients_2/deepspeech_rnn_layer_1/deepspeech_rnn_layer_layer5/bidirectional_rnn/bw/bw/while/bw/gru_cell/candidate/candidate/MatMul_grad/MatMul_1/StackPop, gradients_2/deepspeech_rnn_layer_1/deepspeech_rnn_layer_layer5/bidirectional_rnn/bw/bw/while/bw/gru_cell/candidate/candidate/BiasAdd_grad/tuple/control_dependency)]]\n",
      "\t [[Node: deepspeech_dense/Tensordot/Shape_G2323 = _Recv[client_terminated=false, recv_device=\"/job:local/replica:0/task:0/cpu:0\", send_device=\"/job:local/replica:0/task:0/gpu:0\", send_device_incarnation=-7979307377332489351, tensor_name=\"edge_2875_deepspeech_dense/Tensordot/Shape\", tensor_type=DT_INT32, _device=\"/job:local/replica:0/task:0/cpu:0\"]()]]\n",
      "\n",
      "Caused by op 'gradients_2/deepspeech_rnn_layer_1/deepspeech_rnn_layer_layer5/bidirectional_rnn/bw/bw/while/bw/gru_cell/candidate/candidate/MatMul_grad/MatMul_1', defined at:\n",
      "  File \"/usr/lib/python3.5/runpy.py\", line 184, in _run_module_as_main\n",
      "    \"__main__\", mod_spec)\n",
      "  File \"/usr/lib/python3.5/runpy.py\", line 85, in _run_code\n",
      "    exec(code, run_globals)\n",
      "  File \"/data/zonghua/envs/icybee/lib/python3.5/site-packages/ipykernel_launcher.py\", line 16, in <module>\n",
      "    app.launch_new_instance()\n",
      "  File \"/data/zonghua/envs/icybee/lib/python3.5/site-packages/traitlets/config/application.py\", line 658, in launch_instance\n",
      "    app.start()\n",
      "  File \"/data/zonghua/envs/icybee/lib/python3.5/site-packages/ipykernel/kernelapp.py\", line 477, in start\n",
      "    ioloop.IOLoop.instance().start()\n",
      "  File \"/data/zonghua/envs/icybee/lib/python3.5/site-packages/zmq/eventloop/ioloop.py\", line 177, in start\n",
      "    super(ZMQIOLoop, self).start()\n",
      "  File \"/data/zonghua/envs/icybee/lib/python3.5/site-packages/tornado/ioloop.py\", line 888, in start\n",
      "    handler_func(fd_obj, events)\n",
      "  File \"/data/zonghua/envs/icybee/lib/python3.5/site-packages/tornado/stack_context.py\", line 277, in null_wrapper\n",
      "    return fn(*args, **kwargs)\n",
      "  File \"/data/zonghua/envs/icybee/lib/python3.5/site-packages/zmq/eventloop/zmqstream.py\", line 440, in _handle_events\n",
      "    self._handle_recv()\n",
      "  File \"/data/zonghua/envs/icybee/lib/python3.5/site-packages/zmq/eventloop/zmqstream.py\", line 472, in _handle_recv\n",
      "    self._run_callback(callback, msg)\n",
      "  File \"/data/zonghua/envs/icybee/lib/python3.5/site-packages/zmq/eventloop/zmqstream.py\", line 414, in _run_callback\n",
      "    callback(*args, **kwargs)\n",
      "  File \"/data/zonghua/envs/icybee/lib/python3.5/site-packages/tornado/stack_context.py\", line 277, in null_wrapper\n",
      "    return fn(*args, **kwargs)\n",
      "  File \"/data/zonghua/envs/icybee/lib/python3.5/site-packages/ipykernel/kernelbase.py\", line 283, in dispatcher\n",
      "    return self.dispatch_shell(stream, msg)\n",
      "  File \"/data/zonghua/envs/icybee/lib/python3.5/site-packages/ipykernel/kernelbase.py\", line 235, in dispatch_shell\n",
      "    handler(stream, idents, msg)\n",
      "  File \"/data/zonghua/envs/icybee/lib/python3.5/site-packages/ipykernel/kernelbase.py\", line 399, in execute_request\n",
      "    user_expressions, allow_stdin)\n",
      "  File \"/data/zonghua/envs/icybee/lib/python3.5/site-packages/ipykernel/ipkernel.py\", line 196, in do_execute\n",
      "    res = shell.run_cell(code, store_history=store_history, silent=silent)\n",
      "  File \"/data/zonghua/envs/icybee/lib/python3.5/site-packages/ipykernel/zmqshell.py\", line 533, in run_cell\n",
      "    return super(ZMQInteractiveShell, self).run_cell(*args, **kwargs)\n",
      "  File \"/data/zonghua/envs/icybee/lib/python3.5/site-packages/IPython/core/interactiveshell.py\", line 2698, in run_cell\n",
      "    interactivity=interactivity, compiler=compiler, result=result)\n",
      "  File \"/data/zonghua/envs/icybee/lib/python3.5/site-packages/IPython/core/interactiveshell.py\", line 2802, in run_ast_nodes\n",
      "    if self.run_code(code, result):\n",
      "  File \"/data/zonghua/envs/icybee/lib/python3.5/site-packages/IPython/core/interactiveshell.py\", line 2862, in run_code\n",
      "    exec(code_obj, self.user_global_ns, self.user_ns)\n",
      "  File \"<ipython-input-32-d0865951dcc0>\", line 103, in <module>\n",
      "    grads_e_ori = optimizer.compute_gradients(L_loss, var_list = trainable_params)\n",
      "  File \"/data/zonghua/envs/icybee/lib/python3.5/site-packages/tensorflow/python/training/optimizer.py\", line 386, in compute_gradients\n",
      "    colocate_gradients_with_ops=colocate_gradients_with_ops)\n",
      "  File \"/data/zonghua/envs/icybee/lib/python3.5/site-packages/tensorflow/python/ops/gradients_impl.py\", line 540, in gradients\n",
      "    grad_scope, op, func_call, lambda: grad_fn(op, *out_grads))\n",
      "  File \"/data/zonghua/envs/icybee/lib/python3.5/site-packages/tensorflow/python/ops/gradients_impl.py\", line 346, in _MaybeCompile\n",
      "    return grad_fn()  # Exit early\n",
      "  File \"/data/zonghua/envs/icybee/lib/python3.5/site-packages/tensorflow/python/ops/gradients_impl.py\", line 540, in <lambda>\n",
      "    grad_scope, op, func_call, lambda: grad_fn(op, *out_grads))\n",
      "  File \"/data/zonghua/envs/icybee/lib/python3.5/site-packages/tensorflow/python/ops/math_grad.py\", line 825, in _MatMulGrad\n",
      "    grad_b = math_ops.matmul(a, grad, transpose_a=True)\n",
      "  File \"/data/zonghua/envs/icybee/lib/python3.5/site-packages/tensorflow/python/ops/math_ops.py\", line 1816, in matmul\n",
      "    a, b, transpose_a=transpose_a, transpose_b=transpose_b, name=name)\n",
      "  File \"/data/zonghua/envs/icybee/lib/python3.5/site-packages/tensorflow/python/ops/gen_math_ops.py\", line 1217, in _mat_mul\n",
      "    transpose_b=transpose_b, name=name)\n",
      "  File \"/data/zonghua/envs/icybee/lib/python3.5/site-packages/tensorflow/python/framework/op_def_library.py\", line 767, in apply_op\n",
      "    op_def=op_def)\n",
      "  File \"/data/zonghua/envs/icybee/lib/python3.5/site-packages/tensorflow/python/framework/ops.py\", line 2506, in create_op\n",
      "    original_op=self._default_original_op, op_def=op_def)\n",
      "  File \"/data/zonghua/envs/icybee/lib/python3.5/site-packages/tensorflow/python/framework/ops.py\", line 1269, in __init__\n",
      "    self._traceback = _extract_stack()\n",
      "\n",
      "...which was originally created as op 'deepspeech_rnn_layer_1/deepspeech_rnn_layer_layer5/bidirectional_rnn/bw/bw/while/bw/gru_cell/candidate/candidate/MatMul', defined at:\n",
      "  File \"/usr/lib/python3.5/runpy.py\", line 184, in _run_module_as_main\n",
      "    \"__main__\", mod_spec)\n",
      "[elided 18 identical lines from previous traceback]\n",
      "  File \"/data/zonghua/envs/icybee/lib/python3.5/site-packages/IPython/core/interactiveshell.py\", line 2862, in run_code\n",
      "    exec(code_obj, self.user_global_ns, self.user_ns)\n",
      "  File \"<ipython-input-32-d0865951dcc0>\", line 66, in <module>\n",
      "    rnn_out = rnn_layer(net,HIDDEN_LAYERS,voicelength[ind * BATCH_SIZE:(ind + 1) * BATCH_SIZE],RNN_SIZE,training=training,name=\"deepspeech_rnn_layer\")\n",
      "  File \"<ipython-input-27-2db1d12a07ea>\", line 30, in rnn_layer\n",
      "    sequence_length = rnn_seq_lens,time_major = False,dtype=tf.float32)\n",
      "  File \"/data/zonghua/envs/icybee/lib/python3.5/site-packages/tensorflow/python/ops/rnn.py\", line 401, in bidirectional_dynamic_rnn\n",
      "    time_major=time_major, scope=bw_scope)\n",
      "  File \"/data/zonghua/envs/icybee/lib/python3.5/site-packages/tensorflow/python/ops/rnn.py\", line 574, in dynamic_rnn\n",
      "    dtype=dtype)\n",
      "  File \"/data/zonghua/envs/icybee/lib/python3.5/site-packages/tensorflow/python/ops/rnn.py\", line 737, in _dynamic_rnn_loop\n",
      "    swap_memory=swap_memory)\n",
      "  File \"/data/zonghua/envs/icybee/lib/python3.5/site-packages/tensorflow/python/ops/control_flow_ops.py\", line 2770, in while_loop\n",
      "    result = context.BuildLoop(cond, body, loop_vars, shape_invariants)\n",
      "  File \"/data/zonghua/envs/icybee/lib/python3.5/site-packages/tensorflow/python/ops/control_flow_ops.py\", line 2599, in BuildLoop\n",
      "    pred, body, original_loop_vars, loop_vars, shape_invariants)\n",
      "  File \"/data/zonghua/envs/icybee/lib/python3.5/site-packages/tensorflow/python/ops/control_flow_ops.py\", line 2549, in _BuildLoop\n",
      "    body_result = body(*packed_vars_for_body)\n",
      "  File \"/data/zonghua/envs/icybee/lib/python3.5/site-packages/tensorflow/python/ops/rnn.py\", line 720, in _time_step\n",
      "    skip_conditionals=True)\n",
      "  File \"/data/zonghua/envs/icybee/lib/python3.5/site-packages/tensorflow/python/ops/rnn.py\", line 206, in _rnn_step\n",
      "    new_output, new_state = call_cell()\n",
      "  File \"/data/zonghua/envs/icybee/lib/python3.5/site-packages/tensorflow/python/ops/rnn.py\", line 708, in <lambda>\n",
      "    call_cell = lambda: cell(input_t, state)\n",
      "\n",
      "ResourceExhaustedError (see above for traceback): OOM when allocating tensor with shape[800,400]\n",
      "\t [[Node: gradients_2/deepspeech_rnn_layer_1/deepspeech_rnn_layer_layer5/bidirectional_rnn/bw/bw/while/bw/gru_cell/candidate/candidate/MatMul_grad/MatMul_1 = MatMul[T=DT_FLOAT, transpose_a=true, transpose_b=false, _device=\"/job:local/replica:0/task:0/gpu:0\"](gradients_2/deepspeech_rnn_layer_1/deepspeech_rnn_layer_layer5/bidirectional_rnn/bw/bw/while/bw/gru_cell/candidate/candidate/MatMul_grad/MatMul_1/StackPop, gradients_2/deepspeech_rnn_layer_1/deepspeech_rnn_layer_layer5/bidirectional_rnn/bw/bw/while/bw/gru_cell/candidate/candidate/BiasAdd_grad/tuple/control_dependency)]]\n",
      "\t [[Node: deepspeech_dense/Tensordot/Shape_G2323 = _Recv[client_terminated=false, recv_device=\"/job:local/replica:0/task:0/cpu:0\", send_device=\"/job:local/replica:0/task:0/gpu:0\", send_device_incarnation=-7979307377332489351, tensor_name=\"edge_2875_deepspeech_dense/Tensordot/Shape\", tensor_type=DT_INT32, _device=\"/job:local/replica:0/task:0/cpu:0\"]()]]\n",
      "\n"
     ]
    },
    {
     "name": "stdout",
     "output_type": "stream",
     "text": [
      "EPOCH 4 STEP 1767 LR 0.0003 LOSS 16.23 DIS 0.09 t1 0.02 t2 7.62 94.07 % [===============================================>---] 112224/119296 \t used:16061s eta:1011 s"
     ]
    },
    {
     "name": "stderr",
     "output_type": "stream",
     "text": [
      "Traceback (most recent call last):\n",
      "  File \"/data/zonghua/envs/icybee/lib/python3.5/site-packages/tensorflow/python/client/session.py\", line 1139, in _do_call\n",
      "    return fn(*args)\n",
      "  File \"/data/zonghua/envs/icybee/lib/python3.5/site-packages/tensorflow/python/client/session.py\", line 1121, in _run_fn\n",
      "    status, run_metadata)\n",
      "  File \"/usr/lib/python3.5/contextlib.py\", line 66, in __exit__\n",
      "    next(self.gen)\n",
      "  File \"/data/zonghua/envs/icybee/lib/python3.5/site-packages/tensorflow/python/framework/errors_impl.py\", line 466, in raise_exception_on_not_ok_status\n",
      "    pywrap_tensorflow.TF_GetCode(status))\n",
      "tensorflow.python.framework.errors_impl.ResourceExhaustedError: OOM when allocating tensor with shape[32,527,400]\n",
      "\t [[Node: deepspeech_rnn_layer/deepspeech_rnn_layer_layer5/bidirectional_rnn/fw/fw/transpose = Transpose[T=DT_FLOAT, Tperm=DT_INT32, _device=\"/job:local/replica:0/task:0/gpu:0\"](deepspeech_rnn_layer/deepspeech_rnn_layer_layer5/bidirectional_rnn/fw/fw/TensorArrayStack/TensorArrayGatherV3, deepspeech_rnn_layer/deepspeech_rnn_layer_layer5/bidirectional_rnn/fw/fw/concat_1)]]\n",
      "\t [[Node: deepspeech_dense/Tensordot/Shape_G2323 = _Recv[client_terminated=false, recv_device=\"/job:local/replica:0/task:0/cpu:0\", send_device=\"/job:local/replica:0/task:0/gpu:0\", send_device_incarnation=-7979307377332489351, tensor_name=\"edge_2875_deepspeech_dense/Tensordot/Shape\", tensor_type=DT_INT32, _device=\"/job:local/replica:0/task:0/cpu:0\"]()]]\n",
      "\n",
      "During handling of the above exception, another exception occurred:\n",
      "\n",
      "Traceback (most recent call last):\n",
      "  File \"<ipython-input-50-0c9748b93176>\", line 96, in <module>\n",
      "    [dis,train_op,loss,summary_op,global_step],feed_dict=feeddic)\n",
      "  File \"/data/zonghua/envs/icybee/lib/python3.5/site-packages/tensorflow/python/client/session.py\", line 789, in run\n",
      "    run_metadata_ptr)\n",
      "  File \"/data/zonghua/envs/icybee/lib/python3.5/site-packages/tensorflow/python/client/session.py\", line 997, in _run\n",
      "    feed_dict_string, options, run_metadata)\n",
      "  File \"/data/zonghua/envs/icybee/lib/python3.5/site-packages/tensorflow/python/client/session.py\", line 1132, in _do_run\n",
      "    target_list, options, run_metadata)\n",
      "  File \"/data/zonghua/envs/icybee/lib/python3.5/site-packages/tensorflow/python/client/session.py\", line 1152, in _do_call\n",
      "    raise type(e)(node_def, op, message)\n",
      "tensorflow.python.framework.errors_impl.ResourceExhaustedError: OOM when allocating tensor with shape[32,527,400]\n",
      "\t [[Node: deepspeech_rnn_layer/deepspeech_rnn_layer_layer5/bidirectional_rnn/fw/fw/transpose = Transpose[T=DT_FLOAT, Tperm=DT_INT32, _device=\"/job:local/replica:0/task:0/gpu:0\"](deepspeech_rnn_layer/deepspeech_rnn_layer_layer5/bidirectional_rnn/fw/fw/TensorArrayStack/TensorArrayGatherV3, deepspeech_rnn_layer/deepspeech_rnn_layer_layer5/bidirectional_rnn/fw/fw/concat_1)]]\n",
      "\t [[Node: deepspeech_dense/Tensordot/Shape_G2323 = _Recv[client_terminated=false, recv_device=\"/job:local/replica:0/task:0/cpu:0\", send_device=\"/job:local/replica:0/task:0/gpu:0\", send_device_incarnation=-7979307377332489351, tensor_name=\"edge_2875_deepspeech_dense/Tensordot/Shape\", tensor_type=DT_INT32, _device=\"/job:local/replica:0/task:0/cpu:0\"]()]]\n",
      "\n",
      "Caused by op 'deepspeech_rnn_layer/deepspeech_rnn_layer_layer5/bidirectional_rnn/fw/fw/transpose', defined at:\n",
      "  File \"/usr/lib/python3.5/runpy.py\", line 184, in _run_module_as_main\n",
      "    \"__main__\", mod_spec)\n",
      "  File \"/usr/lib/python3.5/runpy.py\", line 85, in _run_code\n",
      "    exec(code, run_globals)\n",
      "  File \"/data/zonghua/envs/icybee/lib/python3.5/site-packages/ipykernel_launcher.py\", line 16, in <module>\n",
      "    app.launch_new_instance()\n",
      "  File \"/data/zonghua/envs/icybee/lib/python3.5/site-packages/traitlets/config/application.py\", line 658, in launch_instance\n",
      "    app.start()\n",
      "  File \"/data/zonghua/envs/icybee/lib/python3.5/site-packages/ipykernel/kernelapp.py\", line 477, in start\n",
      "    ioloop.IOLoop.instance().start()\n",
      "  File \"/data/zonghua/envs/icybee/lib/python3.5/site-packages/zmq/eventloop/ioloop.py\", line 177, in start\n",
      "    super(ZMQIOLoop, self).start()\n",
      "  File \"/data/zonghua/envs/icybee/lib/python3.5/site-packages/tornado/ioloop.py\", line 888, in start\n",
      "    handler_func(fd_obj, events)\n",
      "  File \"/data/zonghua/envs/icybee/lib/python3.5/site-packages/tornado/stack_context.py\", line 277, in null_wrapper\n",
      "    return fn(*args, **kwargs)\n",
      "  File \"/data/zonghua/envs/icybee/lib/python3.5/site-packages/zmq/eventloop/zmqstream.py\", line 440, in _handle_events\n",
      "    self._handle_recv()\n",
      "  File \"/data/zonghua/envs/icybee/lib/python3.5/site-packages/zmq/eventloop/zmqstream.py\", line 472, in _handle_recv\n",
      "    self._run_callback(callback, msg)\n",
      "  File \"/data/zonghua/envs/icybee/lib/python3.5/site-packages/zmq/eventloop/zmqstream.py\", line 414, in _run_callback\n",
      "    callback(*args, **kwargs)\n",
      "  File \"/data/zonghua/envs/icybee/lib/python3.5/site-packages/tornado/stack_context.py\", line 277, in null_wrapper\n",
      "    return fn(*args, **kwargs)\n",
      "  File \"/data/zonghua/envs/icybee/lib/python3.5/site-packages/ipykernel/kernelbase.py\", line 283, in dispatcher\n",
      "    return self.dispatch_shell(stream, msg)\n",
      "  File \"/data/zonghua/envs/icybee/lib/python3.5/site-packages/ipykernel/kernelbase.py\", line 235, in dispatch_shell\n",
      "    handler(stream, idents, msg)\n",
      "  File \"/data/zonghua/envs/icybee/lib/python3.5/site-packages/ipykernel/kernelbase.py\", line 399, in execute_request\n",
      "    user_expressions, allow_stdin)\n",
      "  File \"/data/zonghua/envs/icybee/lib/python3.5/site-packages/ipykernel/ipkernel.py\", line 196, in do_execute\n",
      "    res = shell.run_cell(code, store_history=store_history, silent=silent)\n",
      "  File \"/data/zonghua/envs/icybee/lib/python3.5/site-packages/ipykernel/zmqshell.py\", line 533, in run_cell\n",
      "    return super(ZMQInteractiveShell, self).run_cell(*args, **kwargs)\n",
      "  File \"/data/zonghua/envs/icybee/lib/python3.5/site-packages/IPython/core/interactiveshell.py\", line 2698, in run_cell\n",
      "    interactivity=interactivity, compiler=compiler, result=result)\n",
      "  File \"/data/zonghua/envs/icybee/lib/python3.5/site-packages/IPython/core/interactiveshell.py\", line 2802, in run_ast_nodes\n",
      "    if self.run_code(code, result):\n",
      "  File \"/data/zonghua/envs/icybee/lib/python3.5/site-packages/IPython/core/interactiveshell.py\", line 2862, in run_code\n",
      "    exec(code_obj, self.user_global_ns, self.user_ns)\n",
      "  File \"<ipython-input-32-d0865951dcc0>\", line 66, in <module>\n",
      "    rnn_out = rnn_layer(net,HIDDEN_LAYERS,voicelength[ind * BATCH_SIZE:(ind + 1) * BATCH_SIZE],RNN_SIZE,training=training,name=\"deepspeech_rnn_layer\")\n",
      "  File \"<ipython-input-27-2db1d12a07ea>\", line 30, in rnn_layer\n",
      "    sequence_length = rnn_seq_lens,time_major = False,dtype=tf.float32)\n",
      "  File \"/data/zonghua/envs/icybee/lib/python3.5/site-packages/tensorflow/python/ops/rnn.py\", line 375, in bidirectional_dynamic_rnn\n",
      "    time_major=time_major, scope=fw_scope)\n",
      "  File \"/data/zonghua/envs/icybee/lib/python3.5/site-packages/tensorflow/python/ops/rnn.py\", line 581, in dynamic_rnn\n",
      "    outputs = nest.map_structure(_transpose_batch_time, outputs)\n",
      "  File \"/data/zonghua/envs/icybee/lib/python3.5/site-packages/tensorflow/python/util/nest.py\", line 325, in map_structure\n",
      "    structure[0], [func(*x) for x in entries])\n",
      "  File \"/data/zonghua/envs/icybee/lib/python3.5/site-packages/tensorflow/python/util/nest.py\", line 325, in <listcomp>\n",
      "    structure[0], [func(*x) for x in entries])\n",
      "  File \"/data/zonghua/envs/icybee/lib/python3.5/site-packages/tensorflow/python/ops/rnn.py\", line 71, in _transpose_batch_time\n",
      "    ([1, 0], math_ops.range(2, x_rank)), axis=0))\n",
      "  File \"/data/zonghua/envs/icybee/lib/python3.5/site-packages/tensorflow/python/ops/array_ops.py\", line 1285, in transpose\n",
      "    ret = gen_array_ops.transpose(a, perm, name=name)\n",
      "  File \"/data/zonghua/envs/icybee/lib/python3.5/site-packages/tensorflow/python/ops/gen_array_ops.py\", line 3658, in transpose\n",
      "    result = _op_def_lib.apply_op(\"Transpose\", x=x, perm=perm, name=name)\n",
      "  File \"/data/zonghua/envs/icybee/lib/python3.5/site-packages/tensorflow/python/framework/op_def_library.py\", line 767, in apply_op\n",
      "    op_def=op_def)\n",
      "  File \"/data/zonghua/envs/icybee/lib/python3.5/site-packages/tensorflow/python/framework/ops.py\", line 2506, in create_op\n",
      "    original_op=self._default_original_op, op_def=op_def)\n",
      "  File \"/data/zonghua/envs/icybee/lib/python3.5/site-packages/tensorflow/python/framework/ops.py\", line 1269, in __init__\n",
      "    self._traceback = _extract_stack()\n",
      "\n",
      "ResourceExhaustedError (see above for traceback): OOM when allocating tensor with shape[32,527,400]\n",
      "\t [[Node: deepspeech_rnn_layer/deepspeech_rnn_layer_layer5/bidirectional_rnn/fw/fw/transpose = Transpose[T=DT_FLOAT, Tperm=DT_INT32, _device=\"/job:local/replica:0/task:0/gpu:0\"](deepspeech_rnn_layer/deepspeech_rnn_layer_layer5/bidirectional_rnn/fw/fw/TensorArrayStack/TensorArrayGatherV3, deepspeech_rnn_layer/deepspeech_rnn_layer_layer5/bidirectional_rnn/fw/fw/concat_1)]]\n",
      "\t [[Node: deepspeech_dense/Tensordot/Shape_G2323 = _Recv[client_terminated=false, recv_device=\"/job:local/replica:0/task:0/cpu:0\", send_device=\"/job:local/replica:0/task:0/gpu:0\", send_device_incarnation=-7979307377332489351, tensor_name=\"edge_2875_deepspeech_dense/Tensordot/Shape\", tensor_type=DT_INT32, _device=\"/job:local/replica:0/task:0/cpu:0\"]()]]\n",
      "\n"
     ]
    },
    {
     "name": "stdout",
     "output_type": "stream",
     "text": [
      "EPOCH 4 STEP 1781 LR 0.0003 LOSS 16.15 DIS 0.09 t1 0.03 t2 9.41 94.77 % [===============================================>---] 113056/119296 \t used:16214s eta:894 s"
     ]
    },
    {
     "name": "stderr",
     "output_type": "stream",
     "text": [
      "Exception in thread Thread-11:\n",
      "Traceback (most recent call last):\n",
      "  File \"/usr/lib/python3.5/threading.py\", line 914, in _bootstrap_inner\n",
      "    self.run()\n",
      "  File \"/usr/lib/python3.5/threading.py\", line 862, in run\n",
      "    self._target(*self._args, **self._kwargs)\n",
      "  File \"/data/zonghua/envs/icybee/lib/python3.5/site-packages/tflearn/data_flow.py\", line 187, in fill_feed_dict_queue\n",
      "    data = self.retrieve_data(batch_ids)\n",
      "  File \"/data/zonghua/envs/icybee/lib/python3.5/site-packages/tflearn/data_flow.py\", line 222, in retrieve_data\n",
      "    utils.slice_array(self.feed_dict[key], batch_ids)\n",
      "  File \"/data/zonghua/envs/icybee/lib/python3.5/site-packages/tflearn/utils.py\", line 187, in slice_array\n",
      "    return X[start]\n",
      "  File \"../common/data_utils.py\", line 475, in __getitem__\n",
      "    sample_rate,voice = fetch_audio(audio_path,self.augmentation_speed,self.augmentation_speed_rate,self.augmentation_linear)\n",
      "  File \"../common/data_utils.py\", line 262, in fetch_audio\n",
      "    sample_rate,sound_sc = scipy.io.wavfile.read(path)\n",
      "  File \"/data/zonghua/envs/icybee/lib/python3.5/site-packages/scipy/io/wavfile.py\", line 246, in read\n",
      "    raise ValueError(\"Unexpected end of file.\")\n",
      "ValueError: Unexpected end of file.\n",
      "\n"
     ]
    },
    {
     "name": "stdout",
     "output_type": "stream",
     "text": [
      "EPOCH 4 STEP 1789 LR 0.0003 LOSS 15.96 DIS 0.09 t1 0.02 t2 10.43 95.20 % [===============================================>---] 113568/119296 \t used:16287s eta:821 s"
     ]
    },
    {
     "name": "stderr",
     "output_type": "stream",
     "text": [
      "Traceback (most recent call last):\n",
      "  File \"/data/zonghua/envs/icybee/lib/python3.5/site-packages/tensorflow/python/client/session.py\", line 1139, in _do_call\n",
      "    return fn(*args)\n",
      "  File \"/data/zonghua/envs/icybee/lib/python3.5/site-packages/tensorflow/python/client/session.py\", line 1121, in _run_fn\n",
      "    status, run_metadata)\n",
      "  File \"/usr/lib/python3.5/contextlib.py\", line 66, in __exit__\n",
      "    next(self.gen)\n",
      "  File \"/data/zonghua/envs/icybee/lib/python3.5/site-packages/tensorflow/python/framework/errors_impl.py\", line 466, in raise_exception_on_not_ok_status\n",
      "    pywrap_tensorflow.TF_GetCode(status))\n",
      "tensorflow.python.framework.errors_impl.ResourceExhaustedError: OOM when allocating tensor with shape[32,800]\n",
      "\t [[Node: deepspeech_rnn_layer/deepspeech_rnn_layer_layer5/bidirectional_rnn/bw/bw/while/bw/gru_cell/candidate/candidate/concat = ConcatV2[N=2, T=DT_FLOAT, Tidx=DT_INT32, _device=\"/job:local/replica:0/task:0/gpu:0\"](deepspeech_rnn_layer/deepspeech_rnn_layer_layer5/bidirectional_rnn/bw/bw/while/TensorArrayReadV3, deepspeech_rnn_layer/deepspeech_rnn_layer_layer5/bidirectional_rnn/bw/bw/while/bw/gru_cell/candidate/mul, deepspeech_rnn_layer/deepspeech_rnn_layer_layer5/bidirectional_rnn/bw/bw/while/bw/gru_cell/candidate/candidate/concat/axis)]]\n",
      "\t [[Node: deepspeech_dense/Tensordot/Shape_G2323 = _Recv[client_terminated=false, recv_device=\"/job:local/replica:0/task:0/cpu:0\", send_device=\"/job:local/replica:0/task:0/gpu:0\", send_device_incarnation=-7979307377332489351, tensor_name=\"edge_2875_deepspeech_dense/Tensordot/Shape\", tensor_type=DT_INT32, _device=\"/job:local/replica:0/task:0/cpu:0\"]()]]\n",
      "\n",
      "During handling of the above exception, another exception occurred:\n",
      "\n",
      "Traceback (most recent call last):\n",
      "  File \"<ipython-input-50-0c9748b93176>\", line 96, in <module>\n",
      "    [dis,train_op,loss,summary_op,global_step],feed_dict=feeddic)\n",
      "  File \"/data/zonghua/envs/icybee/lib/python3.5/site-packages/tensorflow/python/client/session.py\", line 789, in run\n",
      "    run_metadata_ptr)\n",
      "  File \"/data/zonghua/envs/icybee/lib/python3.5/site-packages/tensorflow/python/client/session.py\", line 997, in _run\n",
      "    feed_dict_string, options, run_metadata)\n",
      "  File \"/data/zonghua/envs/icybee/lib/python3.5/site-packages/tensorflow/python/client/session.py\", line 1132, in _do_run\n",
      "    target_list, options, run_metadata)\n",
      "  File \"/data/zonghua/envs/icybee/lib/python3.5/site-packages/tensorflow/python/client/session.py\", line 1152, in _do_call\n",
      "    raise type(e)(node_def, op, message)\n",
      "tensorflow.python.framework.errors_impl.ResourceExhaustedError: OOM when allocating tensor with shape[32,800]\n",
      "\t [[Node: deepspeech_rnn_layer/deepspeech_rnn_layer_layer5/bidirectional_rnn/bw/bw/while/bw/gru_cell/candidate/candidate/concat = ConcatV2[N=2, T=DT_FLOAT, Tidx=DT_INT32, _device=\"/job:local/replica:0/task:0/gpu:0\"](deepspeech_rnn_layer/deepspeech_rnn_layer_layer5/bidirectional_rnn/bw/bw/while/TensorArrayReadV3, deepspeech_rnn_layer/deepspeech_rnn_layer_layer5/bidirectional_rnn/bw/bw/while/bw/gru_cell/candidate/mul, deepspeech_rnn_layer/deepspeech_rnn_layer_layer5/bidirectional_rnn/bw/bw/while/bw/gru_cell/candidate/candidate/concat/axis)]]\n",
      "\t [[Node: deepspeech_dense/Tensordot/Shape_G2323 = _Recv[client_terminated=false, recv_device=\"/job:local/replica:0/task:0/cpu:0\", send_device=\"/job:local/replica:0/task:0/gpu:0\", send_device_incarnation=-7979307377332489351, tensor_name=\"edge_2875_deepspeech_dense/Tensordot/Shape\", tensor_type=DT_INT32, _device=\"/job:local/replica:0/task:0/cpu:0\"]()]]\n",
      "\n",
      "Caused by op 'deepspeech_rnn_layer/deepspeech_rnn_layer_layer5/bidirectional_rnn/bw/bw/while/bw/gru_cell/candidate/candidate/concat', defined at:\n",
      "  File \"/usr/lib/python3.5/runpy.py\", line 184, in _run_module_as_main\n",
      "    \"__main__\", mod_spec)\n",
      "  File \"/usr/lib/python3.5/runpy.py\", line 85, in _run_code\n",
      "    exec(code, run_globals)\n",
      "  File \"/data/zonghua/envs/icybee/lib/python3.5/site-packages/ipykernel_launcher.py\", line 16, in <module>\n",
      "    app.launch_new_instance()\n",
      "  File \"/data/zonghua/envs/icybee/lib/python3.5/site-packages/traitlets/config/application.py\", line 658, in launch_instance\n",
      "    app.start()\n",
      "  File \"/data/zonghua/envs/icybee/lib/python3.5/site-packages/ipykernel/kernelapp.py\", line 477, in start\n",
      "    ioloop.IOLoop.instance().start()\n",
      "  File \"/data/zonghua/envs/icybee/lib/python3.5/site-packages/zmq/eventloop/ioloop.py\", line 177, in start\n",
      "    super(ZMQIOLoop, self).start()\n",
      "  File \"/data/zonghua/envs/icybee/lib/python3.5/site-packages/tornado/ioloop.py\", line 888, in start\n",
      "    handler_func(fd_obj, events)\n",
      "  File \"/data/zonghua/envs/icybee/lib/python3.5/site-packages/tornado/stack_context.py\", line 277, in null_wrapper\n",
      "    return fn(*args, **kwargs)\n",
      "  File \"/data/zonghua/envs/icybee/lib/python3.5/site-packages/zmq/eventloop/zmqstream.py\", line 440, in _handle_events\n",
      "    self._handle_recv()\n",
      "  File \"/data/zonghua/envs/icybee/lib/python3.5/site-packages/zmq/eventloop/zmqstream.py\", line 472, in _handle_recv\n",
      "    self._run_callback(callback, msg)\n",
      "  File \"/data/zonghua/envs/icybee/lib/python3.5/site-packages/zmq/eventloop/zmqstream.py\", line 414, in _run_callback\n",
      "    callback(*args, **kwargs)\n",
      "  File \"/data/zonghua/envs/icybee/lib/python3.5/site-packages/tornado/stack_context.py\", line 277, in null_wrapper\n",
      "    return fn(*args, **kwargs)\n",
      "  File \"/data/zonghua/envs/icybee/lib/python3.5/site-packages/ipykernel/kernelbase.py\", line 283, in dispatcher\n",
      "    return self.dispatch_shell(stream, msg)\n",
      "  File \"/data/zonghua/envs/icybee/lib/python3.5/site-packages/ipykernel/kernelbase.py\", line 235, in dispatch_shell\n",
      "    handler(stream, idents, msg)\n",
      "  File \"/data/zonghua/envs/icybee/lib/python3.5/site-packages/ipykernel/kernelbase.py\", line 399, in execute_request\n",
      "    user_expressions, allow_stdin)\n",
      "  File \"/data/zonghua/envs/icybee/lib/python3.5/site-packages/ipykernel/ipkernel.py\", line 196, in do_execute\n",
      "    res = shell.run_cell(code, store_history=store_history, silent=silent)\n",
      "  File \"/data/zonghua/envs/icybee/lib/python3.5/site-packages/ipykernel/zmqshell.py\", line 533, in run_cell\n",
      "    return super(ZMQInteractiveShell, self).run_cell(*args, **kwargs)\n",
      "  File \"/data/zonghua/envs/icybee/lib/python3.5/site-packages/IPython/core/interactiveshell.py\", line 2698, in run_cell\n",
      "    interactivity=interactivity, compiler=compiler, result=result)\n",
      "  File \"/data/zonghua/envs/icybee/lib/python3.5/site-packages/IPython/core/interactiveshell.py\", line 2802, in run_ast_nodes\n",
      "    if self.run_code(code, result):\n",
      "  File \"/data/zonghua/envs/icybee/lib/python3.5/site-packages/IPython/core/interactiveshell.py\", line 2862, in run_code\n",
      "    exec(code_obj, self.user_global_ns, self.user_ns)\n",
      "  File \"<ipython-input-32-d0865951dcc0>\", line 66, in <module>\n",
      "    rnn_out = rnn_layer(net,HIDDEN_LAYERS,voicelength[ind * BATCH_SIZE:(ind + 1) * BATCH_SIZE],RNN_SIZE,training=training,name=\"deepspeech_rnn_layer\")\n",
      "  File \"<ipython-input-27-2db1d12a07ea>\", line 30, in rnn_layer\n",
      "    sequence_length = rnn_seq_lens,time_major = False,dtype=tf.float32)\n",
      "  File \"/data/zonghua/envs/icybee/lib/python3.5/site-packages/tensorflow/python/ops/rnn.py\", line 401, in bidirectional_dynamic_rnn\n",
      "    time_major=time_major, scope=bw_scope)\n",
      "  File \"/data/zonghua/envs/icybee/lib/python3.5/site-packages/tensorflow/python/ops/rnn.py\", line 574, in dynamic_rnn\n",
      "    dtype=dtype)\n",
      "  File \"/data/zonghua/envs/icybee/lib/python3.5/site-packages/tensorflow/python/ops/rnn.py\", line 737, in _dynamic_rnn_loop\n",
      "    swap_memory=swap_memory)\n",
      "  File \"/data/zonghua/envs/icybee/lib/python3.5/site-packages/tensorflow/python/ops/control_flow_ops.py\", line 2770, in while_loop\n",
      "    result = context.BuildLoop(cond, body, loop_vars, shape_invariants)\n",
      "  File \"/data/zonghua/envs/icybee/lib/python3.5/site-packages/tensorflow/python/ops/control_flow_ops.py\", line 2599, in BuildLoop\n",
      "    pred, body, original_loop_vars, loop_vars, shape_invariants)\n",
      "  File \"/data/zonghua/envs/icybee/lib/python3.5/site-packages/tensorflow/python/ops/control_flow_ops.py\", line 2549, in _BuildLoop\n",
      "    body_result = body(*packed_vars_for_body)\n",
      "  File \"/data/zonghua/envs/icybee/lib/python3.5/site-packages/tensorflow/python/ops/rnn.py\", line 720, in _time_step\n",
      "    skip_conditionals=True)\n",
      "  File \"/data/zonghua/envs/icybee/lib/python3.5/site-packages/tensorflow/python/ops/rnn.py\", line 206, in _rnn_step\n",
      "    new_output, new_state = call_cell()\n",
      "  File \"/data/zonghua/envs/icybee/lib/python3.5/site-packages/tensorflow/python/ops/rnn.py\", line 708, in <lambda>\n",
      "    call_cell = lambda: cell(input_t, state)\n",
      "  File \"/data/zonghua/envs/icybee/lib/python3.5/site-packages/tensorflow/python/ops/rnn_cell_impl.py\", line 180, in __call__\n",
      "    return super(RNNCell, self).__call__(inputs, state)\n",
      "  File \"/data/zonghua/envs/icybee/lib/python3.5/site-packages/tensorflow/python/layers/base.py\", line 441, in __call__\n",
      "    outputs = self.call(inputs, *args, **kwargs)\n",
      "  File \"/data/zonghua/envs/icybee/lib/python3.5/site-packages/tensorflow/python/ops/rnn_cell_impl.py\", line 300, in call\n",
      "    self._bias_initializer, self._kernel_initializer))\n",
      "  File \"/data/zonghua/envs/icybee/lib/python3.5/site-packages/tensorflow/python/ops/rnn_cell_impl.py\", line 1021, in _linear\n",
      "    res = math_ops.matmul(array_ops.concat(args, 1), weights)\n",
      "  File \"/data/zonghua/envs/icybee/lib/python3.5/site-packages/tensorflow/python/ops/array_ops.py\", line 1048, in concat\n",
      "    name=name)\n",
      "  File \"/data/zonghua/envs/icybee/lib/python3.5/site-packages/tensorflow/python/ops/gen_array_ops.py\", line 495, in _concat_v2\n",
      "    name=name)\n",
      "  File \"/data/zonghua/envs/icybee/lib/python3.5/site-packages/tensorflow/python/framework/op_def_library.py\", line 767, in apply_op\n",
      "    op_def=op_def)\n",
      "  File \"/data/zonghua/envs/icybee/lib/python3.5/site-packages/tensorflow/python/framework/ops.py\", line 2506, in create_op\n",
      "    original_op=self._default_original_op, op_def=op_def)\n",
      "  File \"/data/zonghua/envs/icybee/lib/python3.5/site-packages/tensorflow/python/framework/ops.py\", line 1269, in __init__\n",
      "    self._traceback = _extract_stack()\n",
      "\n",
      "ResourceExhaustedError (see above for traceback): OOM when allocating tensor with shape[32,800]\n",
      "\t [[Node: deepspeech_rnn_layer/deepspeech_rnn_layer_layer5/bidirectional_rnn/bw/bw/while/bw/gru_cell/candidate/candidate/concat = ConcatV2[N=2, T=DT_FLOAT, Tidx=DT_INT32, _device=\"/job:local/replica:0/task:0/gpu:0\"](deepspeech_rnn_layer/deepspeech_rnn_layer_layer5/bidirectional_rnn/bw/bw/while/TensorArrayReadV3, deepspeech_rnn_layer/deepspeech_rnn_layer_layer5/bidirectional_rnn/bw/bw/while/bw/gru_cell/candidate/mul, deepspeech_rnn_layer/deepspeech_rnn_layer_layer5/bidirectional_rnn/bw/bw/while/bw/gru_cell/candidate/candidate/concat/axis)]]\n",
      "\t [[Node: deepspeech_dense/Tensordot/Shape_G2323 = _Recv[client_terminated=false, recv_device=\"/job:local/replica:0/task:0/cpu:0\", send_device=\"/job:local/replica:0/task:0/gpu:0\", send_device_incarnation=-7979307377332489351, tensor_name=\"edge_2875_deepspeech_dense/Tensordot/Shape\", tensor_type=DT_INT32, _device=\"/job:local/replica:0/task:0/cpu:0\"]()]]\n",
      "\n"
     ]
    },
    {
     "name": "stdout",
     "output_type": "stream",
     "text": [
      "EPOCH 4 STEP 1860 LR 0.0003 LOSS 15.62 DIS 0.09 t1 0.02 t2 6.9 98.95 % [=================================================>-] 118048/119296 \t used:16981s eta:179 s"
     ]
    },
    {
     "name": "stderr",
     "output_type": "stream",
     "text": [
      "Traceback (most recent call last):\n",
      "  File \"<ipython-input-50-0c9748b93176>\", line 96, in <module>\n",
      "    [dis,train_op,loss,summary_op,global_step],feed_dict=feeddic)\n",
      "  File \"/data/zonghua/envs/icybee/lib/python3.5/site-packages/tensorflow/python/client/session.py\", line 789, in run\n",
      "    run_metadata_ptr)\n",
      "  File \"/data/zonghua/envs/icybee/lib/python3.5/site-packages/tensorflow/python/client/session.py\", line 975, in _run\n",
      "    % (np_val.shape, subfeed_t.name, str(subfeed_t.get_shape())))\n",
      "ValueError: Cannot feed value of shape (13, 161, 570, 1) for Tensor 'Placeholder_4:0', which has shape '(32, 161, ?, 1)'\n",
      "Traceback (most recent call last):\n",
      "  File \"<ipython-input-50-0c9748b93176>\", line 96, in <module>\n",
      "    [dis,train_op,loss,summary_op,global_step],feed_dict=feeddic)\n",
      "  File \"/data/zonghua/envs/icybee/lib/python3.5/site-packages/tensorflow/python/client/session.py\", line 789, in run\n",
      "    run_metadata_ptr)\n",
      "  File \"/data/zonghua/envs/icybee/lib/python3.5/site-packages/tensorflow/python/client/session.py\", line 975, in _run\n",
      "    % (np_val.shape, subfeed_t.name, str(subfeed_t.get_shape())))\n",
      "ValueError: Cannot feed value of shape (13, 161, 570, 1) for Tensor 'Placeholder_4:0', which has shape '(32, 161, ?, 1)'\n"
     ]
    },
    {
     "name": "stdout",
     "output_type": "stream",
     "text": [
      "validating EPOCH 4 50.00 % [=========================>-------------------------] 223/446 \t used:825s eta:825 s"
     ]
    },
    {
     "name": "stderr",
     "output_type": "stream",
     "text": [
      "Traceback (most recent call last):\n",
      "  File \"<ipython-input-50-0c9748b93176>\", line 153, in <module>\n",
      "    [dis,loss,global_step],feed_dict=feeddic)\n",
      "  File \"/data/zonghua/envs/icybee/lib/python3.5/site-packages/tensorflow/python/client/session.py\", line 789, in run\n",
      "    run_metadata_ptr)\n",
      "  File \"/data/zonghua/envs/icybee/lib/python3.5/site-packages/tensorflow/python/client/session.py\", line 975, in _run\n",
      "    % (np_val.shape, subfeed_t.name, str(subfeed_t.get_shape())))\n",
      "ValueError: Cannot feed value of shape (54,) for Tensor 'Placeholder_8:0', which has shape '(64,)'\n",
      "Traceback (most recent call last):\n",
      "  File \"<ipython-input-50-0c9748b93176>\", line 153, in <module>\n",
      "    [dis,loss,global_step],feed_dict=feeddic)\n",
      "  File \"/data/zonghua/envs/icybee/lib/python3.5/site-packages/tensorflow/python/client/session.py\", line 789, in run\n",
      "    run_metadata_ptr)\n",
      "  File \"/data/zonghua/envs/icybee/lib/python3.5/site-packages/tensorflow/python/client/session.py\", line 975, in _run\n",
      "    % (np_val.shape, subfeed_t.name, str(subfeed_t.get_shape())))\n",
      "ValueError: Cannot feed value of shape (54,) for Tensor 'Placeholder_8:0', which has shape '(64,)'\n"
     ]
    },
    {
     "name": "stdout",
     "output_type": "stream",
     "text": [
      "validating EPOCH 4 99.55 % [=================================================>-] 444/446 \t used:1624s eta:7 s\n",
      "    EOPCH 4 test DIS 0.08820539712905884 test loss 17.01813316345215\n",
      "\n",
      "EPOCH 5 STEP 164 LR 0.0003 LOSS 15.52 DIS 0.09 t1 0.02 t2 8.46 8.85 % [====>----------------------------------------------] 10560/119296 \t used:1395s eta:14364 s"
     ]
    },
    {
     "name": "stderr",
     "output_type": "stream",
     "text": [
      "Exception in thread Thread-13:\n",
      "Traceback (most recent call last):\n",
      "  File \"/usr/lib/python3.5/threading.py\", line 914, in _bootstrap_inner\n",
      "    self.run()\n",
      "  File \"/usr/lib/python3.5/threading.py\", line 862, in run\n",
      "    self._target(*self._args, **self._kwargs)\n",
      "  File \"/data/zonghua/envs/icybee/lib/python3.5/site-packages/tflearn/data_flow.py\", line 187, in fill_feed_dict_queue\n",
      "    data = self.retrieve_data(batch_ids)\n",
      "  File \"/data/zonghua/envs/icybee/lib/python3.5/site-packages/tflearn/data_flow.py\", line 222, in retrieve_data\n",
      "    utils.slice_array(self.feed_dict[key], batch_ids)\n",
      "  File \"/data/zonghua/envs/icybee/lib/python3.5/site-packages/tflearn/utils.py\", line 187, in slice_array\n",
      "    return X[start]\n",
      "  File \"../common/data_utils.py\", line 475, in __getitem__\n",
      "    sample_rate,voice = fetch_audio(audio_path,self.augmentation_speed,self.augmentation_speed_rate,self.augmentation_linear)\n",
      "  File \"../common/data_utils.py\", line 262, in fetch_audio\n",
      "    sample_rate,sound_sc = scipy.io.wavfile.read(path)\n",
      "  File \"/data/zonghua/envs/icybee/lib/python3.5/site-packages/scipy/io/wavfile.py\", line 246, in read\n",
      "    raise ValueError(\"Unexpected end of file.\")\n",
      "ValueError: Unexpected end of file.\n",
      "\n"
     ]
    },
    {
     "name": "stdout",
     "output_type": "stream",
     "text": [
      "EPOCH 5 STEP 258 LR 0.0003 LOSS 16.81 DIS 0.09 t1 0.03 t2 11.54 13.89 % [======>--------------------------------------------] 16576/119296 \t used:2297s eta:14236 s"
     ]
    },
    {
     "name": "stderr",
     "output_type": "stream",
     "text": [
      "Traceback (most recent call last):\n",
      "  File \"/data/zonghua/envs/icybee/lib/python3.5/site-packages/tensorflow/python/client/session.py\", line 1139, in _do_call\n",
      "    return fn(*args)\n",
      "  File \"/data/zonghua/envs/icybee/lib/python3.5/site-packages/tensorflow/python/client/session.py\", line 1121, in _run_fn\n",
      "    status, run_metadata)\n",
      "  File \"/usr/lib/python3.5/contextlib.py\", line 66, in __exit__\n",
      "    next(self.gen)\n",
      "  File \"/data/zonghua/envs/icybee/lib/python3.5/site-packages/tensorflow/python/framework/errors_impl.py\", line 466, in raise_exception_on_not_ok_status\n",
      "    pywrap_tensorflow.TF_GetCode(status))\n",
      "tensorflow.python.framework.errors_impl.ResourceExhaustedError: OOM when allocating tensor with shape[32,400]\n",
      "\t [[Node: deepspeech_rnn_layer_1/deepspeech_rnn_layer_layer4/bidirectional_rnn/fw/fw/while/fw/gru_cell/gates/split = Split[T=DT_FLOAT, num_split=2, _device=\"/job:local/replica:0/task:0/gpu:0\"](deepspeech_rnn_layer_1/deepspeech_rnn_layer_layer4/bidirectional_rnn/fw/fw/while/fw/gru_cell/gates/split/split_dim, deepspeech_rnn_layer_1/deepspeech_rnn_layer_layer4/bidirectional_rnn/fw/fw/while/fw/gru_cell/gates/Sigmoid)]]\n",
      "\t [[Node: deepspeech_dense/Tensordot/Shape_G2323 = _Recv[client_terminated=false, recv_device=\"/job:local/replica:0/task:0/cpu:0\", send_device=\"/job:local/replica:0/task:0/gpu:0\", send_device_incarnation=-7979307377332489351, tensor_name=\"edge_2875_deepspeech_dense/Tensordot/Shape\", tensor_type=DT_INT32, _device=\"/job:local/replica:0/task:0/cpu:0\"]()]]\n",
      "\n",
      "During handling of the above exception, another exception occurred:\n",
      "\n",
      "Traceback (most recent call last):\n",
      "  File \"<ipython-input-50-0c9748b93176>\", line 96, in <module>\n",
      "    [dis,train_op,loss,summary_op,global_step],feed_dict=feeddic)\n",
      "  File \"/data/zonghua/envs/icybee/lib/python3.5/site-packages/tensorflow/python/client/session.py\", line 789, in run\n",
      "    run_metadata_ptr)\n",
      "  File \"/data/zonghua/envs/icybee/lib/python3.5/site-packages/tensorflow/python/client/session.py\", line 997, in _run\n",
      "    feed_dict_string, options, run_metadata)\n",
      "  File \"/data/zonghua/envs/icybee/lib/python3.5/site-packages/tensorflow/python/client/session.py\", line 1132, in _do_run\n",
      "    target_list, options, run_metadata)\n",
      "  File \"/data/zonghua/envs/icybee/lib/python3.5/site-packages/tensorflow/python/client/session.py\", line 1152, in _do_call\n",
      "    raise type(e)(node_def, op, message)\n",
      "tensorflow.python.framework.errors_impl.ResourceExhaustedError: OOM when allocating tensor with shape[32,400]\n",
      "\t [[Node: deepspeech_rnn_layer_1/deepspeech_rnn_layer_layer4/bidirectional_rnn/fw/fw/while/fw/gru_cell/gates/split = Split[T=DT_FLOAT, num_split=2, _device=\"/job:local/replica:0/task:0/gpu:0\"](deepspeech_rnn_layer_1/deepspeech_rnn_layer_layer4/bidirectional_rnn/fw/fw/while/fw/gru_cell/gates/split/split_dim, deepspeech_rnn_layer_1/deepspeech_rnn_layer_layer4/bidirectional_rnn/fw/fw/while/fw/gru_cell/gates/Sigmoid)]]\n",
      "\t [[Node: deepspeech_dense/Tensordot/Shape_G2323 = _Recv[client_terminated=false, recv_device=\"/job:local/replica:0/task:0/cpu:0\", send_device=\"/job:local/replica:0/task:0/gpu:0\", send_device_incarnation=-7979307377332489351, tensor_name=\"edge_2875_deepspeech_dense/Tensordot/Shape\", tensor_type=DT_INT32, _device=\"/job:local/replica:0/task:0/cpu:0\"]()]]\n",
      "\n",
      "Caused by op 'deepspeech_rnn_layer_1/deepspeech_rnn_layer_layer4/bidirectional_rnn/fw/fw/while/fw/gru_cell/gates/split', defined at:\n",
      "  File \"/usr/lib/python3.5/runpy.py\", line 184, in _run_module_as_main\n",
      "    \"__main__\", mod_spec)\n",
      "  File \"/usr/lib/python3.5/runpy.py\", line 85, in _run_code\n",
      "    exec(code, run_globals)\n",
      "  File \"/data/zonghua/envs/icybee/lib/python3.5/site-packages/ipykernel_launcher.py\", line 16, in <module>\n",
      "    app.launch_new_instance()\n",
      "  File \"/data/zonghua/envs/icybee/lib/python3.5/site-packages/traitlets/config/application.py\", line 658, in launch_instance\n",
      "    app.start()\n",
      "  File \"/data/zonghua/envs/icybee/lib/python3.5/site-packages/ipykernel/kernelapp.py\", line 477, in start\n",
      "    ioloop.IOLoop.instance().start()\n",
      "  File \"/data/zonghua/envs/icybee/lib/python3.5/site-packages/zmq/eventloop/ioloop.py\", line 177, in start\n",
      "    super(ZMQIOLoop, self).start()\n",
      "  File \"/data/zonghua/envs/icybee/lib/python3.5/site-packages/tornado/ioloop.py\", line 888, in start\n",
      "    handler_func(fd_obj, events)\n",
      "  File \"/data/zonghua/envs/icybee/lib/python3.5/site-packages/tornado/stack_context.py\", line 277, in null_wrapper\n",
      "    return fn(*args, **kwargs)\n",
      "  File \"/data/zonghua/envs/icybee/lib/python3.5/site-packages/zmq/eventloop/zmqstream.py\", line 440, in _handle_events\n",
      "    self._handle_recv()\n",
      "  File \"/data/zonghua/envs/icybee/lib/python3.5/site-packages/zmq/eventloop/zmqstream.py\", line 472, in _handle_recv\n",
      "    self._run_callback(callback, msg)\n",
      "  File \"/data/zonghua/envs/icybee/lib/python3.5/site-packages/zmq/eventloop/zmqstream.py\", line 414, in _run_callback\n",
      "    callback(*args, **kwargs)\n",
      "  File \"/data/zonghua/envs/icybee/lib/python3.5/site-packages/tornado/stack_context.py\", line 277, in null_wrapper\n",
      "    return fn(*args, **kwargs)\n",
      "  File \"/data/zonghua/envs/icybee/lib/python3.5/site-packages/ipykernel/kernelbase.py\", line 283, in dispatcher\n",
      "    return self.dispatch_shell(stream, msg)\n",
      "  File \"/data/zonghua/envs/icybee/lib/python3.5/site-packages/ipykernel/kernelbase.py\", line 235, in dispatch_shell\n",
      "    handler(stream, idents, msg)\n",
      "  File \"/data/zonghua/envs/icybee/lib/python3.5/site-packages/ipykernel/kernelbase.py\", line 399, in execute_request\n",
      "    user_expressions, allow_stdin)\n",
      "  File \"/data/zonghua/envs/icybee/lib/python3.5/site-packages/ipykernel/ipkernel.py\", line 196, in do_execute\n",
      "    res = shell.run_cell(code, store_history=store_history, silent=silent)\n",
      "  File \"/data/zonghua/envs/icybee/lib/python3.5/site-packages/ipykernel/zmqshell.py\", line 533, in run_cell\n",
      "    return super(ZMQInteractiveShell, self).run_cell(*args, **kwargs)\n",
      "  File \"/data/zonghua/envs/icybee/lib/python3.5/site-packages/IPython/core/interactiveshell.py\", line 2698, in run_cell\n",
      "    interactivity=interactivity, compiler=compiler, result=result)\n",
      "  File \"/data/zonghua/envs/icybee/lib/python3.5/site-packages/IPython/core/interactiveshell.py\", line 2802, in run_ast_nodes\n",
      "    if self.run_code(code, result):\n",
      "  File \"/data/zonghua/envs/icybee/lib/python3.5/site-packages/IPython/core/interactiveshell.py\", line 2862, in run_code\n",
      "    exec(code_obj, self.user_global_ns, self.user_ns)\n",
      "  File \"<ipython-input-32-d0865951dcc0>\", line 66, in <module>\n",
      "    rnn_out = rnn_layer(net,HIDDEN_LAYERS,voicelength[ind * BATCH_SIZE:(ind + 1) * BATCH_SIZE],RNN_SIZE,training=training,name=\"deepspeech_rnn_layer\")\n",
      "  File \"<ipython-input-27-2db1d12a07ea>\", line 30, in rnn_layer\n",
      "    sequence_length = rnn_seq_lens,time_major = False,dtype=tf.float32)\n",
      "  File \"/data/zonghua/envs/icybee/lib/python3.5/site-packages/tensorflow/python/ops/rnn.py\", line 375, in bidirectional_dynamic_rnn\n",
      "    time_major=time_major, scope=fw_scope)\n",
      "  File \"/data/zonghua/envs/icybee/lib/python3.5/site-packages/tensorflow/python/ops/rnn.py\", line 574, in dynamic_rnn\n",
      "    dtype=dtype)\n",
      "  File \"/data/zonghua/envs/icybee/lib/python3.5/site-packages/tensorflow/python/ops/rnn.py\", line 737, in _dynamic_rnn_loop\n",
      "    swap_memory=swap_memory)\n",
      "  File \"/data/zonghua/envs/icybee/lib/python3.5/site-packages/tensorflow/python/ops/control_flow_ops.py\", line 2770, in while_loop\n",
      "    result = context.BuildLoop(cond, body, loop_vars, shape_invariants)\n",
      "  File \"/data/zonghua/envs/icybee/lib/python3.5/site-packages/tensorflow/python/ops/control_flow_ops.py\", line 2599, in BuildLoop\n",
      "    pred, body, original_loop_vars, loop_vars, shape_invariants)\n",
      "  File \"/data/zonghua/envs/icybee/lib/python3.5/site-packages/tensorflow/python/ops/control_flow_ops.py\", line 2549, in _BuildLoop\n",
      "    body_result = body(*packed_vars_for_body)\n",
      "  File \"/data/zonghua/envs/icybee/lib/python3.5/site-packages/tensorflow/python/ops/rnn.py\", line 720, in _time_step\n",
      "    skip_conditionals=True)\n",
      "  File \"/data/zonghua/envs/icybee/lib/python3.5/site-packages/tensorflow/python/ops/rnn.py\", line 206, in _rnn_step\n",
      "    new_output, new_state = call_cell()\n",
      "  File \"/data/zonghua/envs/icybee/lib/python3.5/site-packages/tensorflow/python/ops/rnn.py\", line 708, in <lambda>\n",
      "    call_cell = lambda: cell(input_t, state)\n",
      "  File \"/data/zonghua/envs/icybee/lib/python3.5/site-packages/tensorflow/python/ops/rnn_cell_impl.py\", line 180, in __call__\n",
      "    return super(RNNCell, self).__call__(inputs, state)\n",
      "  File \"/data/zonghua/envs/icybee/lib/python3.5/site-packages/tensorflow/python/layers/base.py\", line 441, in __call__\n",
      "    outputs = self.call(inputs, *args, **kwargs)\n",
      "  File \"/data/zonghua/envs/icybee/lib/python3.5/site-packages/tensorflow/python/ops/rnn_cell_impl.py\", line 296, in call\n",
      "    r, u = array_ops.split(value=value, num_or_size_splits=2, axis=1)\n",
      "  File \"/data/zonghua/envs/icybee/lib/python3.5/site-packages/tensorflow/python/ops/array_ops.py\", line 1214, in split\n",
      "    split_dim=axis, num_split=num_or_size_splits, value=value, name=name)\n",
      "  File \"/data/zonghua/envs/icybee/lib/python3.5/site-packages/tensorflow/python/ops/gen_array_ops.py\", line 3261, in _split\n",
      "    num_split=num_split, name=name)\n",
      "  File \"/data/zonghua/envs/icybee/lib/python3.5/site-packages/tensorflow/python/framework/op_def_library.py\", line 767, in apply_op\n",
      "    op_def=op_def)\n",
      "  File \"/data/zonghua/envs/icybee/lib/python3.5/site-packages/tensorflow/python/framework/ops.py\", line 2506, in create_op\n",
      "    original_op=self._default_original_op, op_def=op_def)\n",
      "  File \"/data/zonghua/envs/icybee/lib/python3.5/site-packages/tensorflow/python/framework/ops.py\", line 1269, in __init__\n",
      "    self._traceback = _extract_stack()\n",
      "\n",
      "ResourceExhaustedError (see above for traceback): OOM when allocating tensor with shape[32,400]\n",
      "\t [[Node: deepspeech_rnn_layer_1/deepspeech_rnn_layer_layer4/bidirectional_rnn/fw/fw/while/fw/gru_cell/gates/split = Split[T=DT_FLOAT, num_split=2, _device=\"/job:local/replica:0/task:0/gpu:0\"](deepspeech_rnn_layer_1/deepspeech_rnn_layer_layer4/bidirectional_rnn/fw/fw/while/fw/gru_cell/gates/split/split_dim, deepspeech_rnn_layer_1/deepspeech_rnn_layer_layer4/bidirectional_rnn/fw/fw/while/fw/gru_cell/gates/Sigmoid)]]\n",
      "\t [[Node: deepspeech_dense/Tensordot/Shape_G2323 = _Recv[client_terminated=false, recv_device=\"/job:local/replica:0/task:0/cpu:0\", send_device=\"/job:local/replica:0/task:0/gpu:0\", send_device_incarnation=-7979307377332489351, tensor_name=\"edge_2875_deepspeech_dense/Tensordot/Shape\", tensor_type=DT_INT32, _device=\"/job:local/replica:0/task:0/cpu:0\"]()]]\n",
      "\n"
     ]
    },
    {
     "name": "stdout",
     "output_type": "stream",
     "text": [
      "EPOCH 5 STEP 714 LR 0.0003 LOSS 15.5 DIS 0.09 t1 0.03 t2 11.25 38.30 % [===================>-------------------------------] 45696/119296 \t used:6468s eta:10418 s"
     ]
    },
    {
     "name": "stderr",
     "output_type": "stream",
     "text": [
      "Traceback (most recent call last):\n",
      "  File \"/data/zonghua/envs/icybee/lib/python3.5/site-packages/tensorflow/python/client/session.py\", line 1139, in _do_call\n",
      "    return fn(*args)\n",
      "  File \"/data/zonghua/envs/icybee/lib/python3.5/site-packages/tensorflow/python/client/session.py\", line 1121, in _run_fn\n",
      "    status, run_metadata)\n",
      "  File \"/usr/lib/python3.5/contextlib.py\", line 66, in __exit__\n",
      "    next(self.gen)\n",
      "  File \"/data/zonghua/envs/icybee/lib/python3.5/site-packages/tensorflow/python/framework/errors_impl.py\", line 466, in raise_exception_on_not_ok_status\n",
      "    pywrap_tensorflow.TF_GetCode(status))\n",
      "tensorflow.python.framework.errors_impl.UnavailableError: {\"created\":\"@1516883901.971322482\",\"description\":\"EOF\",\"file\":\"external/grpc/src/core/lib/iomgr/tcp_posix.c\",\"file_line\":235,\"grpc_status\":14}\n",
      "\n",
      "During handling of the above exception, another exception occurred:\n",
      "\n",
      "Traceback (most recent call last):\n",
      "  File \"<ipython-input-50-0c9748b93176>\", line 96, in <module>\n",
      "    [dis,train_op,loss,summary_op,global_step],feed_dict=feeddic)\n",
      "  File \"/data/zonghua/envs/icybee/lib/python3.5/site-packages/tensorflow/python/client/session.py\", line 789, in run\n",
      "    run_metadata_ptr)\n",
      "  File \"/data/zonghua/envs/icybee/lib/python3.5/site-packages/tensorflow/python/client/session.py\", line 997, in _run\n",
      "    feed_dict_string, options, run_metadata)\n",
      "  File \"/data/zonghua/envs/icybee/lib/python3.5/site-packages/tensorflow/python/client/session.py\", line 1132, in _do_run\n",
      "    target_list, options, run_metadata)\n",
      "  File \"/data/zonghua/envs/icybee/lib/python3.5/site-packages/tensorflow/python/client/session.py\", line 1152, in _do_call\n",
      "    raise type(e)(node_def, op, message)\n",
      "tensorflow.python.framework.errors_impl.UnavailableError: {\"created\":\"@1516883901.971322482\",\"description\":\"EOF\",\"file\":\"external/grpc/src/core/lib/iomgr/tcp_posix.c\",\"file_line\":235,\"grpc_status\":14}\n"
     ]
    }
   ],
   "source": [
    "restore = True\n",
    "N_EPOCH = 50\n",
    "DECAY_EPOCH = 6\n",
    "import traceback\n",
    "\n",
    "class ExpVal:\n",
    "    def __init__(self,exp_a=0.97):\n",
    "        self.val = None\n",
    "        self.exp_a = exp_a\n",
    "    def update(self,newval):\n",
    "        if self.val == None:\n",
    "            self.val = newval\n",
    "        else:\n",
    "            self.val = self.exp_a * self.val + (1 - self.exp_a) * newval\n",
    "    def getval(self):\n",
    "        return round(self.val,2)\n",
    "    \n",
    "class Tick:\n",
    "    def __init__(self,tick=True):\n",
    "        if tick == True:\n",
    "            self._tick = time.time()\n",
    "    def tick(self):\n",
    "        self._tick = time.time()\n",
    "    def tock(self):\n",
    "        return round(time.time() - self._tick,2)\n",
    "        \n",
    "expdis = ExpVal()\n",
    "exploss = ExpVal()\n",
    "clk = Tick()\n",
    "\n",
    "begining_learning_rate = BEGINING_LEARNING_RATE\n",
    "clip_norm = 400\n",
    "with graph.as_default():\n",
    "    if restore == False:\n",
    "        train_epoch = 1\n",
    "        train_batch = 0\n",
    "    for one_epoch in range(train_epoch,N_EPOCH):\n",
    "        train_epoch = one_epoch\n",
    "        pb = ProgressBar(worksum=N_BATCH * BATCH_SIZE * gpu_num,info=\" epoch {} batch {}\".format(train_epoch,train_batch))\n",
    "        pb.startjob()\n",
    "\n",
    "        for one_batch in range(N_BATCH):\n",
    "            if restore == True and one_batch < train_batch:\n",
    "                pb.auto_display = False\n",
    "                pb.complete(BATCH_SIZE)\n",
    "                pb.auto_display = True\n",
    "                continue\n",
    "            else:\n",
    "                restore = False\n",
    "            train_batch = one_batch\n",
    "\n",
    "            clk.tick()\n",
    "            t1,t2,t3,t4 = [],[],[],[]\n",
    "            try:\n",
    "                if gpu_num >= 1:\n",
    "                    batch_x1,batch_y_ori1,s1,a1,t1 = voice_flow_train.next(BATCH_SIZE)['data']\n",
    "                    batch_y1 = sparse_tuple_from(batch_y_ori1)\n",
    "                if gpu_num >= 2:\n",
    "                    batch_x2,batch_y_ori2,s2,a2,t2 = voice_flow_train.next(BATCH_SIZE)['data']\n",
    "                    batch_y2 = sparse_tuple_from(batch_y_ori2)\n",
    "                if gpu_num >= 3:\n",
    "                    batch_x3,batch_y_ori3,s3,a3,t3 = voice_flow_train.next(BATCH_SIZE)['data']\n",
    "                    batch_y3 = sparse_tuple_from(batch_y_ori3)\n",
    "                if gpu_num >= 4:\n",
    "                    batch_x4,batch_y_ori4,s4,a4,t4 = voice_flow_train.next(BATCH_SIZE)['data']\n",
    "                    batch_y4 = sparse_tuple_from(batch_y_ori4)\n",
    "            except:\n",
    "                continue\n",
    "\n",
    "            batch_seq_len  = [i // 2 for i in (t1 + t2 + t3 + t4)]\n",
    "            t1 = clk.tock()\n",
    "\n",
    "            clk.tick()\n",
    "            # learning rate decay strategy\n",
    "            batch_lr = begining_learning_rate * 2 ** -(max(one_epoch-DECAY_EPOCH,0))\n",
    "            feeddic={\n",
    "                        \n",
    "\n",
    "                        learning_rate:batch_lr,voicelength:batch_seq_len,\n",
    "                        max_grad:clip_norm,training:True\n",
    "                    }\n",
    "            if gpu_num >= 1:\n",
    "                feeddic[input_sound1] = batch_x1\n",
    "                feeddic[targets1] = batch_y1\n",
    "            if gpu_num >= 2:\n",
    "                feeddic[input_sound2] = batch_x2\n",
    "                feeddic[targets2] = batch_y2\n",
    "            if gpu_num >= 3:\n",
    "                feeddic[input_sound3] = batch_x3\n",
    "                feeddic[targets3] = batch_y3\n",
    "            if gpu_num >= 4:\n",
    "                feeddic[input_sound4] = batch_x4\n",
    "                feeddic[targets4] = batch_y4\n",
    "            try:\n",
    "                step_dis,_,step_loss,step_summary,step_value = sess.run(\n",
    "                    [dis,train_op,loss,summary_op,global_step],feed_dict=feeddic)\n",
    "            except (KeyboardInterrupt,SystemExit):\n",
    "                raise\n",
    "            except:\n",
    "                traceback.print_exc()\n",
    "                continue\n",
    "            expdis.update(step_dis)\n",
    "            exploss.update(step_loss)\n",
    "            t2 = clk.tock()\n",
    "            pb.info = \"EPOCH {} STEP {} LR {} LOSS {} DIS {} t1 {} t2 {}\".format(one_epoch,one_batch,batch_lr,exploss.getval(),expdis.getval(),t1,t2)\n",
    "            train_summary_writer.add_summary(step_summary,step_value)\n",
    "            pb.complete(BATCH_SIZE * gpu_num)\n",
    "            \n",
    "        dises,losses = [],[]\n",
    "        pb = ProgressBar(worksum=N_BATCH_TEST * 2)\n",
    "        pb.info = \"validating EPOCH {}\".format(one_epoch)\n",
    "        pb.startjob()\n",
    "        for one_batch in range(N_BATCH_TEST * 2):\n",
    "            t1,t2,t3,t4 = [],[],[],[]\n",
    "            try:\n",
    "                if gpu_num >= 1:\n",
    "                    batch_x1,batch_y_ori1,s1,a1,t1 = voice_flow_test.next(BATCH_SIZE)['data']\n",
    "                    batch_y1 = sparse_tuple_from(batch_y_ori1)\n",
    "                if gpu_num >= 2:\n",
    "                    batch_x2,batch_y_ori2,s2,a2,t2 = voice_flow_test.next(BATCH_SIZE)['data']\n",
    "                    batch_y2 = sparse_tuple_from(batch_y_ori2)\n",
    "                if gpu_num >= 3:\n",
    "                    batch_x3,batch_y_ori3,s3,a3,t3 = voice_flow_test.next(BATCH_SIZE)['data']\n",
    "                    batch_y3 = sparse_tuple_from(batch_y_ori3)\n",
    "                if gpu_num >= 4:\n",
    "                    batch_x4,batch_y_ori4,s4,a4,t4 = voice_flow_test.next(BATCH_SIZE)['data']\n",
    "                    batch_y4 = sparse_tuple_from(batch_y_ori4)\n",
    "            except:\n",
    "                continue\n",
    "            \n",
    "            batch_seq_len  = [i // 2 for i in (t1 + t2 + t3 + t4)]\n",
    "\n",
    "            feeddic={\n",
    "\n",
    "\n",
    "                        learning_rate:batch_lr,voicelength:batch_seq_len,\n",
    "                        max_grad:clip_norm,training:False\n",
    "                    }\n",
    "            if gpu_num >= 1:\n",
    "                feeddic[input_sound1] = batch_x1\n",
    "                feeddic[targets1] = batch_y1\n",
    "            if gpu_num >= 2:\n",
    "                feeddic[input_sound2] = batch_x2\n",
    "                feeddic[targets2] = batch_y2\n",
    "            if gpu_num >= 3:\n",
    "                feeddic[input_sound3] = batch_x3\n",
    "                feeddic[targets3] = batch_y3\n",
    "            if gpu_num >= 4:\n",
    "                feeddic[input_sound4] = batch_x4\n",
    "                feeddic[targets4] = batch_y4\n",
    "            try:\n",
    "                step_dis,step_loss,step_value = sess.run(\n",
    "                    [dis,loss,global_step],feed_dict=feeddic)\n",
    "            except (KeyboardInterrupt,SystemExit):\n",
    "                raise\n",
    "            except:\n",
    "                traceback.print_exc()\n",
    "                continue\n",
    "            dises.append(step_dis)\n",
    "            losses.append(step_loss)\n",
    "            pb.complete(1)\n",
    "        print(\"\\n    EOPCH {} test DIS {} test loss {}\".format(one_epoch,np.average(dises),np.average(losses)))\n",
    "        test_summarys = sess.run(test_op,feed_dict={test_loss:np.average(losses),editdistance:np.average(dises)})\n",
    "        train_summary_writer.add_summary(test_summarys,step_value)\n",
    "        print()\n",
    "        saver = tf.train.Saver(tf.global_variables())\n",
    "        saver.save(sess,\"models/{}/model_{}\".format(MODEL_NAME,one_epoch))"
   ]
  },
  {
   "cell_type": "code",
   "execution_count": 4,
   "metadata": {
    "collapsed": false
   },
   "outputs": [
    {
     "ename": "NameError",
     "evalue": "name 'voice_flow_train' is not defined",
     "output_type": "error",
     "traceback": [
      "\u001b[0;31m---------------------------------------------------------------------------\u001b[0m",
      "\u001b[0;31mNameError\u001b[0m                                 Traceback (most recent call last)",
      "\u001b[0;32m<ipython-input-4-409601b40fd3>\u001b[0m in \u001b[0;36m<module>\u001b[0;34m()\u001b[0m\n\u001b[0;32m----> 1\u001b[0;31m \u001b[0mbatch_xx\u001b[0m\u001b[0;34m,\u001b[0m\u001b[0mbatch_y_ori1\u001b[0m\u001b[0;34m,\u001b[0m\u001b[0ms1\u001b[0m\u001b[0;34m,\u001b[0m\u001b[0ma1\u001b[0m\u001b[0;34m,\u001b[0m\u001b[0mt1\u001b[0m \u001b[0;34m=\u001b[0m \u001b[0mvoice_flow_train\u001b[0m\u001b[0;34m.\u001b[0m\u001b[0mnext\u001b[0m\u001b[0;34m(\u001b[0m\u001b[0;36m1\u001b[0m\u001b[0;34m)\u001b[0m\u001b[0;34m[\u001b[0m\u001b[0;34m'data'\u001b[0m\u001b[0;34m]\u001b[0m\u001b[0;34m\u001b[0m\u001b[0m\n\u001b[0m",
      "\u001b[0;31mNameError\u001b[0m: name 'voice_flow_train' is not defined"
     ]
    }
   ],
   "source": [
    "batch_xx,batch_y_ori1,s1,a1,t1 = voice_flow_train.next(1)['data']"
   ]
  },
  {
   "cell_type": "code",
   "execution_count": null,
   "metadata": {
    "collapsed": false
   },
   "outputs": [],
   "source": [
    "batch_xx.shape,BATCH_SIZE"
   ]
  },
  {
   "cell_type": "code",
   "execution_count": null,
   "metadata": {
    "collapsed": false
   },
   "outputs": [],
   "source": [
    "start = time.time()\n",
    "step_dis,step_loss,step_value = sess.run(\n",
    "                    [dis,loss,global_step],feed_dict=feeddic)\n",
    "print(time.time() - start)"
   ]
  },
  {
   "cell_type": "code",
   "execution_count": null,
   "metadata": {
    "collapsed": false
   },
   "outputs": [],
   "source": [
    "DECAY_EPOCH = 10\n",
    "begining_learning_rate = BEGINING_LEARNING_RATE\n",
    "for one_epoch in range(1,30):\n",
    "    print(begining_learning_rate * 2 ** -(max(one_epoch-DECAY_EPOCH,0)))"
   ]
  },
  {
   "cell_type": "code",
   "execution_count": null,
   "metadata": {
    "collapsed": false
   },
   "outputs": [],
   "source": [
    "1"
   ]
  },
  {
   "cell_type": "code",
   "execution_count": null,
   "metadata": {
    "collapsed": true
   },
   "outputs": [],
   "source": []
  }
 ],
 "metadata": {
  "anaconda-cloud": {},
  "kernelspec": {
   "display_name": "icybee_Python_3",
   "language": "python",
   "name": "icybee_python_3"
  },
  "language_info": {
   "codemirror_mode": {
    "name": "ipython",
    "version": 3
   },
   "file_extension": ".py",
   "mimetype": "text/x-python",
   "name": "python",
   "nbconvert_exporter": "python",
   "pygments_lexer": "ipython3",
   "version": "3.5.2"
  }
 },
 "nbformat": 4,
 "nbformat_minor": 1
}
